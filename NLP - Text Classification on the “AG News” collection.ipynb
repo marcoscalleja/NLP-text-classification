{
 "cells": [
  {
   "cell_type": "markdown",
   "metadata": {},
   "source": [
    "#### April 09, 2021"
   ]
  },
  {
   "cell_type": "markdown",
   "metadata": {},
   "source": [
    "# 1. Notebook setup"
   ]
  },
  {
   "cell_type": "markdown",
   "metadata": {},
   "source": [
    "Before we can start to train text classification models and develop some empirical analysis on the AG news data set, we need to set up the notebook. Therefore, we have imported the main libraries that will be needed and used throughout this notebook. "
   ]
  },
  {
   "cell_type": "code",
   "execution_count": 1,
   "metadata": {},
   "outputs": [],
   "source": [
    "import pandas as pd \n",
    "import numpy as np \n",
    "import sklearn.metrics\n",
    "from sklearn.metrics import classification_report\n",
    "from collections import Counter \n",
    "from IPython.display import HTML, JSON \n",
    "def display_df(df):\n",
    "    return HTML(df.to_html())    \n",
    "\n",
    "import matplotlib.pyplot as plt\n",
    "import numpy as np\n",
    "%matplotlib inline\n",
    "\n",
    "from qgrid import show_grid\n",
    "\n",
    "\n",
    "import joblib\n",
    "import os\n",
    "import pandas as pd\n",
    "import random\n",
    "import re\n",
    "import spacy"
   ]
  },
  {
   "cell_type": "markdown",
   "metadata": {},
   "source": [
    "# 2. Loading data"
   ]
  },
  {
   "cell_type": "markdown",
   "metadata": {},
   "source": [
    "<u> Description of training and test data set: </u> \n",
    "The training set has 109,999 examples, and the test set has 10,000 examples. The datasets are\n",
    "balanced, meaning that each category is represented in roughly 25% of the examples. The following code was used to derive this information."
   ]
  },
  {
   "cell_type": "markdown",
   "metadata": {},
   "source": [
    "First, we have loaded the training set and displayed the first ten entries to get a better overview how our data looks like. This has been done both for the training and test set."
   ]
  },
  {
   "cell_type": "code",
   "execution_count": 3,
   "metadata": {},
   "outputs": [],
   "source": [
    "train_ag = pd.read_csv('/Users/marieheller/OneDrive - Universitat Ramón Llull/01_Courses/02_Term 2/Artificial Intelligence II/NLP/agnews/agnews_train.csv')"
   ]
  },
  {
   "cell_type": "code",
   "execution_count": 186,
   "metadata": {},
   "outputs": [
    {
     "data": {
      "text/html": [
       "<div>\n",
       "<style scoped>\n",
       "    .dataframe tbody tr th:only-of-type {\n",
       "        vertical-align: middle;\n",
       "    }\n",
       "\n",
       "    .dataframe tbody tr th {\n",
       "        vertical-align: top;\n",
       "    }\n",
       "\n",
       "    .dataframe thead th {\n",
       "        text-align: right;\n",
       "    }\n",
       "</style>\n",
       "<table border=\"1\" class=\"dataframe\">\n",
       "  <thead>\n",
       "    <tr style=\"text-align: right;\">\n",
       "      <th></th>\n",
       "      <th>text</th>\n",
       "      <th>label</th>\n",
       "      <th>label_int</th>\n",
       "      <th>science_int</th>\n",
       "      <th>sports_int</th>\n",
       "      <th>world_int</th>\n",
       "      <th>business_int</th>\n",
       "    </tr>\n",
       "  </thead>\n",
       "  <tbody>\n",
       "    <tr>\n",
       "      <th>0</th>\n",
       "      <td>John Souza, a volunteer with the Boone County ...</td>\n",
       "      <td>Business</td>\n",
       "      <td>3</td>\n",
       "      <td>0</td>\n",
       "      <td>0</td>\n",
       "      <td>0</td>\n",
       "      <td>1</td>\n",
       "    </tr>\n",
       "    <tr>\n",
       "      <th>1</th>\n",
       "      <td>Spain needs only to beat an under-strength Fre...</td>\n",
       "      <td>Sports</td>\n",
       "      <td>1</td>\n",
       "      <td>0</td>\n",
       "      <td>1</td>\n",
       "      <td>0</td>\n",
       "      <td>0</td>\n",
       "    </tr>\n",
       "    <tr>\n",
       "      <th>2</th>\n",
       "      <td>PANAMA CITY, Panama -- When the United States ...</td>\n",
       "      <td>World</td>\n",
       "      <td>2</td>\n",
       "      <td>0</td>\n",
       "      <td>0</td>\n",
       "      <td>1</td>\n",
       "      <td>0</td>\n",
       "    </tr>\n",
       "    <tr>\n",
       "      <th>3</th>\n",
       "      <td>Gilbert Arenas, Jarvis Hayes and Anthony Peele...</td>\n",
       "      <td>Sports</td>\n",
       "      <td>1</td>\n",
       "      <td>0</td>\n",
       "      <td>1</td>\n",
       "      <td>0</td>\n",
       "      <td>0</td>\n",
       "    </tr>\n",
       "    <tr>\n",
       "      <th>4</th>\n",
       "      <td>MEMPHIS, Tenn. -- Kobe Bryant had his worst sh...</td>\n",
       "      <td>Sports</td>\n",
       "      <td>1</td>\n",
       "      <td>0</td>\n",
       "      <td>1</td>\n",
       "      <td>0</td>\n",
       "      <td>0</td>\n",
       "    </tr>\n",
       "    <tr>\n",
       "      <th>...</th>\n",
       "      <td>...</td>\n",
       "      <td>...</td>\n",
       "      <td>...</td>\n",
       "      <td>...</td>\n",
       "      <td>...</td>\n",
       "      <td>...</td>\n",
       "      <td>...</td>\n",
       "    </tr>\n",
       "    <tr>\n",
       "      <th>109994</th>\n",
       "      <td>WASHINGTON-NextWave Telecom Inc. has until Nov...</td>\n",
       "      <td>Science</td>\n",
       "      <td>0</td>\n",
       "      <td>1</td>\n",
       "      <td>0</td>\n",
       "      <td>0</td>\n",
       "      <td>0</td>\n",
       "    </tr>\n",
       "    <tr>\n",
       "      <th>109995</th>\n",
       "      <td>US military officials in Iraq say two US soldi...</td>\n",
       "      <td>World</td>\n",
       "      <td>2</td>\n",
       "      <td>0</td>\n",
       "      <td>0</td>\n",
       "      <td>1</td>\n",
       "      <td>0</td>\n",
       "    </tr>\n",
       "    <tr>\n",
       "      <th>109996</th>\n",
       "      <td>ST. GEORGE'S, Grenada - Hurricane Ivan made a ...</td>\n",
       "      <td>World</td>\n",
       "      <td>2</td>\n",
       "      <td>0</td>\n",
       "      <td>0</td>\n",
       "      <td>1</td>\n",
       "      <td>0</td>\n",
       "    </tr>\n",
       "    <tr>\n",
       "      <th>109997</th>\n",
       "      <td>The Expos president has lists prepared and pla...</td>\n",
       "      <td>Sports</td>\n",
       "      <td>1</td>\n",
       "      <td>0</td>\n",
       "      <td>1</td>\n",
       "      <td>0</td>\n",
       "      <td>0</td>\n",
       "    </tr>\n",
       "    <tr>\n",
       "      <th>109998</th>\n",
       "      <td>Knight Trading Group Inc., a leading stock dea...</td>\n",
       "      <td>Business</td>\n",
       "      <td>3</td>\n",
       "      <td>0</td>\n",
       "      <td>0</td>\n",
       "      <td>0</td>\n",
       "      <td>1</td>\n",
       "    </tr>\n",
       "  </tbody>\n",
       "</table>\n",
       "<p>109999 rows × 7 columns</p>\n",
       "</div>"
      ],
      "text/plain": [
       "                                                     text     label  \\\n",
       "0       John Souza, a volunteer with the Boone County ...  Business   \n",
       "1       Spain needs only to beat an under-strength Fre...    Sports   \n",
       "2       PANAMA CITY, Panama -- When the United States ...     World   \n",
       "3       Gilbert Arenas, Jarvis Hayes and Anthony Peele...    Sports   \n",
       "4       MEMPHIS, Tenn. -- Kobe Bryant had his worst sh...    Sports   \n",
       "...                                                   ...       ...   \n",
       "109994  WASHINGTON-NextWave Telecom Inc. has until Nov...   Science   \n",
       "109995  US military officials in Iraq say two US soldi...     World   \n",
       "109996  ST. GEORGE'S, Grenada - Hurricane Ivan made a ...     World   \n",
       "109997  The Expos president has lists prepared and pla...    Sports   \n",
       "109998  Knight Trading Group Inc., a leading stock dea...  Business   \n",
       "\n",
       "        label_int  science_int  sports_int  world_int  business_int  \n",
       "0               3            0           0          0             1  \n",
       "1               1            0           1          0             0  \n",
       "2               2            0           0          1             0  \n",
       "3               1            0           1          0             0  \n",
       "4               1            0           1          0             0  \n",
       "...           ...          ...         ...        ...           ...  \n",
       "109994          0            1           0          0             0  \n",
       "109995          2            0           0          1             0  \n",
       "109996          2            0           0          1             0  \n",
       "109997          1            0           1          0             0  \n",
       "109998          3            0           0          0             1  \n",
       "\n",
       "[109999 rows x 7 columns]"
      ]
     },
     "execution_count": 186,
     "metadata": {},
     "output_type": "execute_result"
    }
   ],
   "source": [
    "train_ag"
   ]
  },
  {
   "cell_type": "code",
   "execution_count": 4,
   "metadata": {},
   "outputs": [
    {
     "data": {
      "text/html": [
       "<table border=\"1\" class=\"dataframe\">\n",
       "  <thead>\n",
       "    <tr style=\"text-align: right;\">\n",
       "      <th></th>\n",
       "      <th>text</th>\n",
       "      <th>label</th>\n",
       "      <th>label_int</th>\n",
       "      <th>science_int</th>\n",
       "      <th>sports_int</th>\n",
       "      <th>world_int</th>\n",
       "      <th>business_int</th>\n",
       "    </tr>\n",
       "  </thead>\n",
       "  <tbody>\n",
       "    <tr>\n",
       "      <th>0</th>\n",
       "      <td>John Souza, a volunteer with the Boone County chapter of the American Red Cross, is the second Columbia resident to join efforts to assist people who were affected by Tropical Storm Bonnie and Hurricane Charley.</td>\n",
       "      <td>Business</td>\n",
       "      <td>3</td>\n",
       "      <td>0</td>\n",
       "      <td>0</td>\n",
       "      <td>0</td>\n",
       "      <td>1</td>\n",
       "    </tr>\n",
       "    <tr>\n",
       "      <th>1</th>\n",
       "      <td>Spain needs only to beat an under-strength French team to secure its place in the Davis Cup tennis final, while Britain looks to the experience of Tim Henman and Greg Rusedski in its World Group play-off with Austria this weekend.</td>\n",
       "      <td>Sports</td>\n",
       "      <td>1</td>\n",
       "      <td>0</td>\n",
       "      <td>1</td>\n",
       "      <td>0</td>\n",
       "      <td>0</td>\n",
       "    </tr>\n",
       "    <tr>\n",
       "      <th>2</th>\n",
       "      <td>PANAMA CITY, Panama -- When the United States gave Panama control over its canal, many observers predicted that the international waterway would be plagued by problems at best and chaos at worst.</td>\n",
       "      <td>World</td>\n",
       "      <td>2</td>\n",
       "      <td>0</td>\n",
       "      <td>0</td>\n",
       "      <td>1</td>\n",
       "      <td>0</td>\n",
       "    </tr>\n",
       "    <tr>\n",
       "      <th>3</th>\n",
       "      <td>Gilbert Arenas, Jarvis Hayes and Anthony Peeler return from minor injuries to play in the Wizards' 97-85 victory over the Bobcats.</td>\n",
       "      <td>Sports</td>\n",
       "      <td>1</td>\n",
       "      <td>0</td>\n",
       "      <td>1</td>\n",
       "      <td>0</td>\n",
       "      <td>0</td>\n",
       "    </tr>\n",
       "    <tr>\n",
       "      <th>4</th>\n",
       "      <td>MEMPHIS, Tenn. -- Kobe Bryant had his worst shooting night of the season Wednesday in the Lakers #39; 110-87 loss to the Grizzlies, and worse yet, he needed nearly 45 minutes of postgame treatment for plantar fasciitis in his left foot.</td>\n",
       "      <td>Sports</td>\n",
       "      <td>1</td>\n",
       "      <td>0</td>\n",
       "      <td>1</td>\n",
       "      <td>0</td>\n",
       "      <td>0</td>\n",
       "    </tr>\n",
       "    <tr>\n",
       "      <th>5</th>\n",
       "      <td>Delta Air Lines #39; decision to close its hub at the Dallas/Fort Worth International Airport and cut 2,000 jobs might seem like a big blow to the world #39;s third-busiest airport.</td>\n",
       "      <td>Business</td>\n",
       "      <td>3</td>\n",
       "      <td>0</td>\n",
       "      <td>0</td>\n",
       "      <td>0</td>\n",
       "      <td>1</td>\n",
       "    </tr>\n",
       "    <tr>\n",
       "      <th>6</th>\n",
       "      <td>An Anne Arundel County judge Wednesday  rejected a challenge to the state's touch-screen voting machines, saying they are more accurate than the paper ballots plaintiffs are seeking to make optional for the November elections. &amp;lt;FONT face=\"verdana,MS Sans Serif,arial,helvetica\" size=\"-2\"\\ color=\"#666666\"&amp;gt;&amp;lt;B&amp;gt;-The Washington Post&amp;lt;/B&amp;gt;&amp;lt;/FONT&amp;gt;</td>\n",
       "      <td>Science</td>\n",
       "      <td>0</td>\n",
       "      <td>1</td>\n",
       "      <td>0</td>\n",
       "      <td>0</td>\n",
       "      <td>0</td>\n",
       "    </tr>\n",
       "    <tr>\n",
       "      <th>7</th>\n",
       "      <td>JAKARTA A militant Muslim cleric was charged Wednesday under a tough antiterrorism law in the bombing of a Jakarta hotel and could face the death penalty if convicted.</td>\n",
       "      <td>World</td>\n",
       "      <td>2</td>\n",
       "      <td>0</td>\n",
       "      <td>0</td>\n",
       "      <td>1</td>\n",
       "      <td>0</td>\n",
       "    </tr>\n",
       "    <tr>\n",
       "      <th>8</th>\n",
       "      <td>There #39;s a reason that smiling Salvation Army bell-ringer looks a little stiff this Christmas season, and it #39;s not the cold weather.</td>\n",
       "      <td>Business</td>\n",
       "      <td>3</td>\n",
       "      <td>0</td>\n",
       "      <td>0</td>\n",
       "      <td>0</td>\n",
       "      <td>1</td>\n",
       "    </tr>\n",
       "    <tr>\n",
       "      <th>9</th>\n",
       "      <td>A Palestinian rocket hit an Israeli town near the Gaza Strip on Wednesday, killing two people, according to Israeli media. Soon after, witnesses said an Israeli helicopter launched a strike near a Palestinian refugee camp in Gaza.</td>\n",
       "      <td>World</td>\n",
       "      <td>2</td>\n",
       "      <td>0</td>\n",
       "      <td>0</td>\n",
       "      <td>1</td>\n",
       "      <td>0</td>\n",
       "    </tr>\n",
       "  </tbody>\n",
       "</table>"
      ],
      "text/plain": [
       "<IPython.core.display.HTML object>"
      ]
     },
     "execution_count": 4,
     "metadata": {},
     "output_type": "execute_result"
    }
   ],
   "source": [
    "display_df(train_ag[:10])"
   ]
  },
  {
   "cell_type": "markdown",
   "metadata": {},
   "source": [
    "After successfully loading and displaying the training set, we are using the function describe() to get get an overview of the statistics related to each variable. The df.describe function confirms that we are dealing with a balanced data set, as the mean of each variable/ class is around 0.25 (25%)."
   ]
  },
  {
   "cell_type": "code",
   "execution_count": 5,
   "metadata": {},
   "outputs": [
    {
     "data": {
      "text/html": [
       "<div>\n",
       "<style scoped>\n",
       "    .dataframe tbody tr th:only-of-type {\n",
       "        vertical-align: middle;\n",
       "    }\n",
       "\n",
       "    .dataframe tbody tr th {\n",
       "        vertical-align: top;\n",
       "    }\n",
       "\n",
       "    .dataframe thead th {\n",
       "        text-align: right;\n",
       "    }\n",
       "</style>\n",
       "<table border=\"1\" class=\"dataframe\">\n",
       "  <thead>\n",
       "    <tr style=\"text-align: right;\">\n",
       "      <th></th>\n",
       "      <th>label_int</th>\n",
       "      <th>science_int</th>\n",
       "      <th>sports_int</th>\n",
       "      <th>world_int</th>\n",
       "      <th>business_int</th>\n",
       "    </tr>\n",
       "  </thead>\n",
       "  <tbody>\n",
       "    <tr>\n",
       "      <th>count</th>\n",
       "      <td>109999.000000</td>\n",
       "      <td>109999.000000</td>\n",
       "      <td>109999.000000</td>\n",
       "      <td>109999.000000</td>\n",
       "      <td>109999.000000</td>\n",
       "    </tr>\n",
       "    <tr>\n",
       "      <th>mean</th>\n",
       "      <td>1.500341</td>\n",
       "      <td>0.249657</td>\n",
       "      <td>0.250384</td>\n",
       "      <td>0.249920</td>\n",
       "      <td>0.250039</td>\n",
       "    </tr>\n",
       "    <tr>\n",
       "      <th>std</th>\n",
       "      <td>1.117767</td>\n",
       "      <td>0.432816</td>\n",
       "      <td>0.433236</td>\n",
       "      <td>0.432969</td>\n",
       "      <td>0.433037</td>\n",
       "    </tr>\n",
       "    <tr>\n",
       "      <th>min</th>\n",
       "      <td>0.000000</td>\n",
       "      <td>0.000000</td>\n",
       "      <td>0.000000</td>\n",
       "      <td>0.000000</td>\n",
       "      <td>0.000000</td>\n",
       "    </tr>\n",
       "    <tr>\n",
       "      <th>25%</th>\n",
       "      <td>1.000000</td>\n",
       "      <td>0.000000</td>\n",
       "      <td>0.000000</td>\n",
       "      <td>0.000000</td>\n",
       "      <td>0.000000</td>\n",
       "    </tr>\n",
       "    <tr>\n",
       "      <th>50%</th>\n",
       "      <td>1.000000</td>\n",
       "      <td>0.000000</td>\n",
       "      <td>0.000000</td>\n",
       "      <td>0.000000</td>\n",
       "      <td>0.000000</td>\n",
       "    </tr>\n",
       "    <tr>\n",
       "      <th>75%</th>\n",
       "      <td>3.000000</td>\n",
       "      <td>0.000000</td>\n",
       "      <td>1.000000</td>\n",
       "      <td>0.000000</td>\n",
       "      <td>1.000000</td>\n",
       "    </tr>\n",
       "    <tr>\n",
       "      <th>max</th>\n",
       "      <td>3.000000</td>\n",
       "      <td>1.000000</td>\n",
       "      <td>1.000000</td>\n",
       "      <td>1.000000</td>\n",
       "      <td>1.000000</td>\n",
       "    </tr>\n",
       "  </tbody>\n",
       "</table>\n",
       "</div>"
      ],
      "text/plain": [
       "           label_int    science_int     sports_int      world_int  \\\n",
       "count  109999.000000  109999.000000  109999.000000  109999.000000   \n",
       "mean        1.500341       0.249657       0.250384       0.249920   \n",
       "std         1.117767       0.432816       0.433236       0.432969   \n",
       "min         0.000000       0.000000       0.000000       0.000000   \n",
       "25%         1.000000       0.000000       0.000000       0.000000   \n",
       "50%         1.000000       0.000000       0.000000       0.000000   \n",
       "75%         3.000000       0.000000       1.000000       0.000000   \n",
       "max         3.000000       1.000000       1.000000       1.000000   \n",
       "\n",
       "        business_int  \n",
       "count  109999.000000  \n",
       "mean        0.250039  \n",
       "std         0.433037  \n",
       "min         0.000000  \n",
       "25%         0.000000  \n",
       "50%         0.000000  \n",
       "75%         1.000000  \n",
       "max         1.000000  "
      ]
     },
     "execution_count": 5,
     "metadata": {},
     "output_type": "execute_result"
    }
   ],
   "source": [
    "train_ag.describe()"
   ]
  },
  {
   "cell_type": "markdown",
   "metadata": {},
   "source": [
    "As mentioned abve, the same has been done on the test set. We first read the data set and then display the first ten entries, as well as display the statistics overview of the test set. "
   ]
  },
  {
   "cell_type": "code",
   "execution_count": 6,
   "metadata": {},
   "outputs": [
    {
     "data": {
      "text/html": [
       "<table border=\"1\" class=\"dataframe\">\n",
       "  <thead>\n",
       "    <tr style=\"text-align: right;\">\n",
       "      <th></th>\n",
       "      <th>text</th>\n",
       "      <th>label</th>\n",
       "      <th>label_int</th>\n",
       "      <th>science_int</th>\n",
       "      <th>sports_int</th>\n",
       "      <th>world_int</th>\n",
       "      <th>business_int</th>\n",
       "    </tr>\n",
       "  </thead>\n",
       "  <tbody>\n",
       "    <tr>\n",
       "      <th>0</th>\n",
       "      <td>It #39;s over. Our relationship just hasn #39;t been working for a while, and now, this is it. I #39;m leaving you for another browser.</td>\n",
       "      <td>Science</td>\n",
       "      <td>0</td>\n",
       "      <td>1</td>\n",
       "      <td>0</td>\n",
       "      <td>0</td>\n",
       "      <td>0</td>\n",
       "    </tr>\n",
       "    <tr>\n",
       "      <th>1</th>\n",
       "      <td>Toshiba Corp. announced Tuesday a 80 gigabyte (GB), 1.8-inch hard drive that will set off speculation of a new, higher capacity Apple iPod models later in 2005.</td>\n",
       "      <td>Science</td>\n",
       "      <td>0</td>\n",
       "      <td>1</td>\n",
       "      <td>0</td>\n",
       "      <td>0</td>\n",
       "      <td>0</td>\n",
       "    </tr>\n",
       "    <tr>\n",
       "      <th>2</th>\n",
       "      <td>Scientists go back to the drawing board in their battle against poison resistant rats.</td>\n",
       "      <td>Science</td>\n",
       "      <td>0</td>\n",
       "      <td>1</td>\n",
       "      <td>0</td>\n",
       "      <td>0</td>\n",
       "      <td>0</td>\n",
       "    </tr>\n",
       "    <tr>\n",
       "      <th>3</th>\n",
       "      <td>The first shuttle flight since the Columbia tragedy has been pushed back by NASA. This is due to hurricane damages and implementation of new safety measures.</td>\n",
       "      <td>Science</td>\n",
       "      <td>0</td>\n",
       "      <td>1</td>\n",
       "      <td>0</td>\n",
       "      <td>0</td>\n",
       "      <td>0</td>\n",
       "    </tr>\n",
       "    <tr>\n",
       "      <th>4</th>\n",
       "      <td>NEW YORK, Sept 21: Iraqi Prime Minister Iyad Allawi discussed proposals for rejuvenating the Iraqi army when he met President Pervez Musharraf in New York Monday evening, officials told Dawn.</td>\n",
       "      <td>World</td>\n",
       "      <td>2</td>\n",
       "      <td>0</td>\n",
       "      <td>0</td>\n",
       "      <td>1</td>\n",
       "      <td>0</td>\n",
       "    </tr>\n",
       "    <tr>\n",
       "      <th>5</th>\n",
       "      <td>Hynix of Korea has sold its non-memory semiconductor operations to Citigroup Venture Capital for Won954.3bn (\\$828m) and it will be renamed MagnaChip Semiconductor.</td>\n",
       "      <td>Science</td>\n",
       "      <td>0</td>\n",
       "      <td>1</td>\n",
       "      <td>0</td>\n",
       "      <td>0</td>\n",
       "      <td>0</td>\n",
       "    </tr>\n",
       "    <tr>\n",
       "      <th>6</th>\n",
       "      <td>Four seconds after he checked into his first basketball game in nearly a year, Alonzo Mourning drilled a jumper from the foul line, then pointed to the ceiling.</td>\n",
       "      <td>Sports</td>\n",
       "      <td>1</td>\n",
       "      <td>0</td>\n",
       "      <td>1</td>\n",
       "      <td>0</td>\n",
       "      <td>0</td>\n",
       "    </tr>\n",
       "    <tr>\n",
       "      <th>7</th>\n",
       "      <td>Virgin will use Airbus A340-600 aircraft on the London-Sydney route, but plans to increase capacity by using Boeing 747s or adding a second daily service.</td>\n",
       "      <td>Business</td>\n",
       "      <td>3</td>\n",
       "      <td>0</td>\n",
       "      <td>0</td>\n",
       "      <td>0</td>\n",
       "      <td>1</td>\n",
       "    </tr>\n",
       "    <tr>\n",
       "      <th>8</th>\n",
       "      <td>From 26,000 light-years-- near the center of our galaxy-- comes a radio signal that can be interpreted as a cloud of sugar molecules, one key component of what might have assisted the development of life if transported on primordial comets.    Astrobiology Magazine -- Astronomers using the National Science Foundation's giant Robert C...</td>\n",
       "      <td>Science</td>\n",
       "      <td>0</td>\n",
       "      <td>1</td>\n",
       "      <td>0</td>\n",
       "      <td>0</td>\n",
       "      <td>0</td>\n",
       "    </tr>\n",
       "    <tr>\n",
       "      <th>9</th>\n",
       "      <td>At Storage Networking World yesterday, Dell President and CEO Kevin Rollins talked about his company's relationship with EMC and the development of standards to help users manage complex storage-area networks.</td>\n",
       "      <td>Science</td>\n",
       "      <td>0</td>\n",
       "      <td>1</td>\n",
       "      <td>0</td>\n",
       "      <td>0</td>\n",
       "      <td>0</td>\n",
       "    </tr>\n",
       "  </tbody>\n",
       "</table>"
      ],
      "text/plain": [
       "<IPython.core.display.HTML object>"
      ]
     },
     "execution_count": 6,
     "metadata": {},
     "output_type": "execute_result"
    }
   ],
   "source": [
    "#load test set\n",
    "test_ag = pd.read_csv('/Users/marieheller/OneDrive - Universitat Ramón Llull/01_Courses/02_Term 2/Artificial Intelligence II/NLP/agnews/agnews_test.csv')\n",
    "display_df(test_ag[:10])"
   ]
  },
  {
   "cell_type": "code",
   "execution_count": 7,
   "metadata": {},
   "outputs": [
    {
     "data": {
      "text/html": [
       "<div>\n",
       "<style scoped>\n",
       "    .dataframe tbody tr th:only-of-type {\n",
       "        vertical-align: middle;\n",
       "    }\n",
       "\n",
       "    .dataframe tbody tr th {\n",
       "        vertical-align: top;\n",
       "    }\n",
       "\n",
       "    .dataframe thead th {\n",
       "        text-align: right;\n",
       "    }\n",
       "</style>\n",
       "<table border=\"1\" class=\"dataframe\">\n",
       "  <thead>\n",
       "    <tr style=\"text-align: right;\">\n",
       "      <th></th>\n",
       "      <th>label_int</th>\n",
       "      <th>science_int</th>\n",
       "      <th>sports_int</th>\n",
       "      <th>world_int</th>\n",
       "      <th>business_int</th>\n",
       "    </tr>\n",
       "  </thead>\n",
       "  <tbody>\n",
       "    <tr>\n",
       "      <th>count</th>\n",
       "      <td>10000.000000</td>\n",
       "      <td>10000.00000</td>\n",
       "      <td>10000.000000</td>\n",
       "      <td>10000.000000</td>\n",
       "      <td>10000.000000</td>\n",
       "    </tr>\n",
       "    <tr>\n",
       "      <th>mean</th>\n",
       "      <td>1.496400</td>\n",
       "      <td>0.25370</td>\n",
       "      <td>0.245800</td>\n",
       "      <td>0.250900</td>\n",
       "      <td>0.249600</td>\n",
       "    </tr>\n",
       "    <tr>\n",
       "      <th>std</th>\n",
       "      <td>1.121032</td>\n",
       "      <td>0.43515</td>\n",
       "      <td>0.430582</td>\n",
       "      <td>0.433553</td>\n",
       "      <td>0.432803</td>\n",
       "    </tr>\n",
       "    <tr>\n",
       "      <th>min</th>\n",
       "      <td>0.000000</td>\n",
       "      <td>0.00000</td>\n",
       "      <td>0.000000</td>\n",
       "      <td>0.000000</td>\n",
       "      <td>0.000000</td>\n",
       "    </tr>\n",
       "    <tr>\n",
       "      <th>25%</th>\n",
       "      <td>0.000000</td>\n",
       "      <td>0.00000</td>\n",
       "      <td>0.000000</td>\n",
       "      <td>0.000000</td>\n",
       "      <td>0.000000</td>\n",
       "    </tr>\n",
       "    <tr>\n",
       "      <th>50%</th>\n",
       "      <td>2.000000</td>\n",
       "      <td>0.00000</td>\n",
       "      <td>0.000000</td>\n",
       "      <td>0.000000</td>\n",
       "      <td>0.000000</td>\n",
       "    </tr>\n",
       "    <tr>\n",
       "      <th>75%</th>\n",
       "      <td>2.000000</td>\n",
       "      <td>1.00000</td>\n",
       "      <td>0.000000</td>\n",
       "      <td>1.000000</td>\n",
       "      <td>0.000000</td>\n",
       "    </tr>\n",
       "    <tr>\n",
       "      <th>max</th>\n",
       "      <td>3.000000</td>\n",
       "      <td>1.00000</td>\n",
       "      <td>1.000000</td>\n",
       "      <td>1.000000</td>\n",
       "      <td>1.000000</td>\n",
       "    </tr>\n",
       "  </tbody>\n",
       "</table>\n",
       "</div>"
      ],
      "text/plain": [
       "          label_int  science_int    sports_int     world_int  business_int\n",
       "count  10000.000000  10000.00000  10000.000000  10000.000000  10000.000000\n",
       "mean       1.496400      0.25370      0.245800      0.250900      0.249600\n",
       "std        1.121032      0.43515      0.430582      0.433553      0.432803\n",
       "min        0.000000      0.00000      0.000000      0.000000      0.000000\n",
       "25%        0.000000      0.00000      0.000000      0.000000      0.000000\n",
       "50%        2.000000      0.00000      0.000000      0.000000      0.000000\n",
       "75%        2.000000      1.00000      0.000000      1.000000      0.000000\n",
       "max        3.000000      1.00000      1.000000      1.000000      1.000000"
      ]
     },
     "execution_count": 7,
     "metadata": {},
     "output_type": "execute_result"
    }
   ],
   "source": [
    "test_ag.describe()"
   ]
  },
  {
   "cell_type": "markdown",
   "metadata": {},
   "source": [
    "# 3. Evaluation"
   ]
  },
  {
   "cell_type": "markdown",
   "metadata": {},
   "source": [
    "As a next step we have used the sklearn function to evaluate our classifiers. There are several metrics of interest. We will first have a closer look on the accuracy which tells us the portion of correct predictions in the test. In section 5 we will have a closer look at precision and recall. "
   ]
  },
  {
   "cell_type": "markdown",
   "metadata": {},
   "source": [
    "### Global function"
   ]
  },
  {
   "cell_type": "markdown",
   "metadata": {},
   "source": [
    "First, we have defined two dummy classifiers, one that always predicts 'positive' (i.e. 1) and another one that always predicts whether our input text is 'negative' (i.e. 0)."
   ]
  },
  {
   "cell_type": "code",
   "execution_count": 8,
   "metadata": {},
   "outputs": [],
   "source": [
    "def dummy_positive(text):\n",
    "    return 1\n",
    "def dummy_negative(text):\n",
    "    return 0"
   ]
  },
  {
   "cell_type": "markdown",
   "metadata": {},
   "source": [
    "Afterwards we have used the sklearn.metrics.classification_report on all four classifiers (see 3.1 - 3.4). The classification report gets as input the list of correct labels (as integers) and the list of predictions, and computes the metrics."
   ]
  },
  {
   "cell_type": "markdown",
   "metadata": {},
   "source": [
    "### 3.1 Evaluation of science news"
   ]
  },
  {
   "cell_type": "code",
   "execution_count": 9,
   "metadata": {},
   "outputs": [
    {
     "name": "stdout",
     "output_type": "stream",
     "text": [
      "Baseline: predict always positive (science news)\n",
      "                            precision    recall  f1-score   support\n",
      "\n",
      "negative (no science news)       0.00      0.00      0.00      7463\n",
      "   positive (science news)       0.25      1.00      0.40      2537\n",
      "\n",
      "                  accuracy                           0.25     10000\n",
      "                 macro avg       0.13      0.50      0.20     10000\n",
      "              weighted avg       0.06      0.25      0.10     10000\n",
      "\n"
     ]
    },
    {
     "name": "stderr",
     "output_type": "stream",
     "text": [
      "/Users/marieheller/.pyenv/versions/3.9.0/lib/python3.9/site-packages/sklearn/metrics/_classification.py:1245: UndefinedMetricWarning: Precision and F-score are ill-defined and being set to 0.0 in labels with no predicted samples. Use `zero_division` parameter to control this behavior.\n",
      "  _warn_prf(average, modifier, msg_start, len(result))\n",
      "/Users/marieheller/.pyenv/versions/3.9.0/lib/python3.9/site-packages/sklearn/metrics/_classification.py:1245: UndefinedMetricWarning: Precision and F-score are ill-defined and being set to 0.0 in labels with no predicted samples. Use `zero_division` parameter to control this behavior.\n",
      "  _warn_prf(average, modifier, msg_start, len(result))\n",
      "/Users/marieheller/.pyenv/versions/3.9.0/lib/python3.9/site-packages/sklearn/metrics/_classification.py:1245: UndefinedMetricWarning: Precision and F-score are ill-defined and being set to 0.0 in labels with no predicted samples. Use `zero_division` parameter to control this behavior.\n",
      "  _warn_prf(average, modifier, msg_start, len(result))\n"
     ]
    }
   ],
   "source": [
    "print('Baseline: predict always positive (science news)')\n",
    "print(classification_report(test_ag.science_int,\n",
    "                            [dummy_positive(text) for text in test_ag.text],\n",
    "                            target_names=['negative (no science news)', 'positive (science news)']))"
   ]
  },
  {
   "cell_type": "markdown",
   "metadata": {},
   "source": [
    "The evaluation of the dummy positive for science news gives us an accuracy score of 25%. Moreover, it has a precision of 0.25 for the positive class, as well as a recall of 1.00 and f1-score of 0.4."
   ]
  },
  {
   "cell_type": "code",
   "execution_count": 10,
   "metadata": {},
   "outputs": [
    {
     "name": "stdout",
     "output_type": "stream",
     "text": [
      "Baseline: predict always negative (no science news)\n",
      "                            precision    recall  f1-score   support\n",
      "\n",
      "negative (no science news)       0.75      1.00      0.85      7463\n",
      "   positive (science news)       0.00      0.00      0.00      2537\n",
      "\n",
      "                  accuracy                           0.75     10000\n",
      "                 macro avg       0.37      0.50      0.43     10000\n",
      "              weighted avg       0.56      0.75      0.64     10000\n",
      "\n"
     ]
    },
    {
     "name": "stderr",
     "output_type": "stream",
     "text": [
      "/Users/marieheller/.pyenv/versions/3.9.0/lib/python3.9/site-packages/sklearn/metrics/_classification.py:1245: UndefinedMetricWarning: Precision and F-score are ill-defined and being set to 0.0 in labels with no predicted samples. Use `zero_division` parameter to control this behavior.\n",
      "  _warn_prf(average, modifier, msg_start, len(result))\n",
      "/Users/marieheller/.pyenv/versions/3.9.0/lib/python3.9/site-packages/sklearn/metrics/_classification.py:1245: UndefinedMetricWarning: Precision and F-score are ill-defined and being set to 0.0 in labels with no predicted samples. Use `zero_division` parameter to control this behavior.\n",
      "  _warn_prf(average, modifier, msg_start, len(result))\n",
      "/Users/marieheller/.pyenv/versions/3.9.0/lib/python3.9/site-packages/sklearn/metrics/_classification.py:1245: UndefinedMetricWarning: Precision and F-score are ill-defined and being set to 0.0 in labels with no predicted samples. Use `zero_division` parameter to control this behavior.\n",
      "  _warn_prf(average, modifier, msg_start, len(result))\n"
     ]
    }
   ],
   "source": [
    "print('Baseline: predict always negative (no science news)')\n",
    "print(classification_report(test_ag.science_int,\n",
    "                            [dummy_negative(text) for text in test_ag.text],\n",
    "                            target_names=['negative (no science news)', 'positive (science news)']))"
   ]
  },
  {
   "cell_type": "markdown",
   "metadata": {},
   "source": [
    "The evaluation of the dummy negative for science news gives us an accuracy score of 75%. Moreover, it has a precision of 0.75 for the negative class, as well as a recall of 1.00 and f1-score of 0.85.\n",
    "\n",
    "\n",
    "**Key Takeaway**: The accuracy of correclty classifying non science news is higher than the accuracy score of correctly classifying science news."
   ]
  },
  {
   "cell_type": "markdown",
   "metadata": {},
   "source": [
    "### 3.2 Evaluation sports news"
   ]
  },
  {
   "cell_type": "code",
   "execution_count": 11,
   "metadata": {},
   "outputs": [
    {
     "name": "stdout",
     "output_type": "stream",
     "text": [
      "Baseline: predict always positive (sports news)\n",
      "                           precision    recall  f1-score   support\n",
      "\n",
      "negative (no sports news)       0.00      0.00      0.00      7542\n",
      "   positive (sports news)       0.25      1.00      0.39      2458\n",
      "\n",
      "                 accuracy                           0.25     10000\n",
      "                macro avg       0.12      0.50      0.20     10000\n",
      "             weighted avg       0.06      0.25      0.10     10000\n",
      "\n"
     ]
    },
    {
     "name": "stderr",
     "output_type": "stream",
     "text": [
      "/Users/marieheller/.pyenv/versions/3.9.0/lib/python3.9/site-packages/sklearn/metrics/_classification.py:1245: UndefinedMetricWarning: Precision and F-score are ill-defined and being set to 0.0 in labels with no predicted samples. Use `zero_division` parameter to control this behavior.\n",
      "  _warn_prf(average, modifier, msg_start, len(result))\n",
      "/Users/marieheller/.pyenv/versions/3.9.0/lib/python3.9/site-packages/sklearn/metrics/_classification.py:1245: UndefinedMetricWarning: Precision and F-score are ill-defined and being set to 0.0 in labels with no predicted samples. Use `zero_division` parameter to control this behavior.\n",
      "  _warn_prf(average, modifier, msg_start, len(result))\n",
      "/Users/marieheller/.pyenv/versions/3.9.0/lib/python3.9/site-packages/sklearn/metrics/_classification.py:1245: UndefinedMetricWarning: Precision and F-score are ill-defined and being set to 0.0 in labels with no predicted samples. Use `zero_division` parameter to control this behavior.\n",
      "  _warn_prf(average, modifier, msg_start, len(result))\n"
     ]
    }
   ],
   "source": [
    "print('Baseline: predict always positive (sports news)')\n",
    "print(classification_report(test_ag.sports_int,\n",
    "                            [dummy_positive(text) for text in test_ag.text],\n",
    "                            target_names=['negative (no sports news)', 'positive (sports news)']))"
   ]
  },
  {
   "cell_type": "markdown",
   "metadata": {},
   "source": [
    "The evaluation of the dummy positive for sports news gives us an accuracy score of 25%. Moreover, it has a precision of 0.25 for the positive class, as well as a recall of 1.00 and f1-score of 0.39."
   ]
  },
  {
   "cell_type": "code",
   "execution_count": 12,
   "metadata": {},
   "outputs": [
    {
     "name": "stdout",
     "output_type": "stream",
     "text": [
      "Baseline: predict always negative (no sports news)\n",
      "                           precision    recall  f1-score   support\n",
      "\n",
      "negative (no sports news)       0.75      1.00      0.86      7542\n",
      "   positive (sports news)       0.00      0.00      0.00      2458\n",
      "\n",
      "                 accuracy                           0.75     10000\n",
      "                macro avg       0.38      0.50      0.43     10000\n",
      "             weighted avg       0.57      0.75      0.65     10000\n",
      "\n"
     ]
    },
    {
     "name": "stderr",
     "output_type": "stream",
     "text": [
      "/Users/marieheller/.pyenv/versions/3.9.0/lib/python3.9/site-packages/sklearn/metrics/_classification.py:1245: UndefinedMetricWarning: Precision and F-score are ill-defined and being set to 0.0 in labels with no predicted samples. Use `zero_division` parameter to control this behavior.\n",
      "  _warn_prf(average, modifier, msg_start, len(result))\n",
      "/Users/marieheller/.pyenv/versions/3.9.0/lib/python3.9/site-packages/sklearn/metrics/_classification.py:1245: UndefinedMetricWarning: Precision and F-score are ill-defined and being set to 0.0 in labels with no predicted samples. Use `zero_division` parameter to control this behavior.\n",
      "  _warn_prf(average, modifier, msg_start, len(result))\n",
      "/Users/marieheller/.pyenv/versions/3.9.0/lib/python3.9/site-packages/sklearn/metrics/_classification.py:1245: UndefinedMetricWarning: Precision and F-score are ill-defined and being set to 0.0 in labels with no predicted samples. Use `zero_division` parameter to control this behavior.\n",
      "  _warn_prf(average, modifier, msg_start, len(result))\n"
     ]
    }
   ],
   "source": [
    "print('Baseline: predict always negative (no sports news)')\n",
    "print(classification_report(test_ag.sports_int,\n",
    "                            [dummy_negative(text) for text in test_ag.text],\n",
    "                            target_names=['negative (no sports news)', 'positive (sports news)']))"
   ]
  },
  {
   "cell_type": "markdown",
   "metadata": {},
   "source": [
    "The evaluation of the dummy negative for sports news gives us an accuracy score of 75%. Moreover, it has a precision of 0.75 for the negative class, as well as a recall of 1.00 and f1-score of 0.86.\n",
    "\n",
    "**Key Takeaway:** The accuracy of correclty classifying non sports news is higher than the accuracy score of correctly classifying sports news."
   ]
  },
  {
   "cell_type": "markdown",
   "metadata": {},
   "source": [
    "### 3.3 Evaluation world news"
   ]
  },
  {
   "cell_type": "code",
   "execution_count": 13,
   "metadata": {},
   "outputs": [
    {
     "name": "stdout",
     "output_type": "stream",
     "text": [
      "Baseline: predict always positive (world news)\n",
      "                          precision    recall  f1-score   support\n",
      "\n",
      "negative (no world news)       0.00      0.00      0.00      7491\n",
      "   positive (world news)       0.25      1.00      0.40      2509\n",
      "\n",
      "                accuracy                           0.25     10000\n",
      "               macro avg       0.13      0.50      0.20     10000\n",
      "            weighted avg       0.06      0.25      0.10     10000\n",
      "\n"
     ]
    },
    {
     "name": "stderr",
     "output_type": "stream",
     "text": [
      "/Users/marieheller/.pyenv/versions/3.9.0/lib/python3.9/site-packages/sklearn/metrics/_classification.py:1245: UndefinedMetricWarning: Precision and F-score are ill-defined and being set to 0.0 in labels with no predicted samples. Use `zero_division` parameter to control this behavior.\n",
      "  _warn_prf(average, modifier, msg_start, len(result))\n",
      "/Users/marieheller/.pyenv/versions/3.9.0/lib/python3.9/site-packages/sklearn/metrics/_classification.py:1245: UndefinedMetricWarning: Precision and F-score are ill-defined and being set to 0.0 in labels with no predicted samples. Use `zero_division` parameter to control this behavior.\n",
      "  _warn_prf(average, modifier, msg_start, len(result))\n",
      "/Users/marieheller/.pyenv/versions/3.9.0/lib/python3.9/site-packages/sklearn/metrics/_classification.py:1245: UndefinedMetricWarning: Precision and F-score are ill-defined and being set to 0.0 in labels with no predicted samples. Use `zero_division` parameter to control this behavior.\n",
      "  _warn_prf(average, modifier, msg_start, len(result))\n"
     ]
    }
   ],
   "source": [
    "print('Baseline: predict always positive (world news)')\n",
    "print(classification_report(test_ag.world_int,\n",
    "                            [dummy_positive(text) for text in test_ag.text],\n",
    "                            target_names=['negative (no world news)', 'positive (world news)']))"
   ]
  },
  {
   "cell_type": "markdown",
   "metadata": {},
   "source": [
    "The evaluation of the dummy positive for world news gives us an accuracy score of 25%. Moreover, it has a precision of 0.25 for the positive class, as well as a recall of 1.00 and f1-score of 0.40."
   ]
  },
  {
   "cell_type": "code",
   "execution_count": 14,
   "metadata": {},
   "outputs": [
    {
     "name": "stdout",
     "output_type": "stream",
     "text": [
      "Baseline: predict always negative (no world news)\n",
      "                          precision    recall  f1-score   support\n",
      "\n",
      "negative (no world news)       0.75      1.00      0.86      7491\n",
      "   positive (world news)       0.00      0.00      0.00      2509\n",
      "\n",
      "                accuracy                           0.75     10000\n",
      "               macro avg       0.37      0.50      0.43     10000\n",
      "            weighted avg       0.56      0.75      0.64     10000\n",
      "\n"
     ]
    },
    {
     "name": "stderr",
     "output_type": "stream",
     "text": [
      "/Users/marieheller/.pyenv/versions/3.9.0/lib/python3.9/site-packages/sklearn/metrics/_classification.py:1245: UndefinedMetricWarning: Precision and F-score are ill-defined and being set to 0.0 in labels with no predicted samples. Use `zero_division` parameter to control this behavior.\n",
      "  _warn_prf(average, modifier, msg_start, len(result))\n",
      "/Users/marieheller/.pyenv/versions/3.9.0/lib/python3.9/site-packages/sklearn/metrics/_classification.py:1245: UndefinedMetricWarning: Precision and F-score are ill-defined and being set to 0.0 in labels with no predicted samples. Use `zero_division` parameter to control this behavior.\n",
      "  _warn_prf(average, modifier, msg_start, len(result))\n",
      "/Users/marieheller/.pyenv/versions/3.9.0/lib/python3.9/site-packages/sklearn/metrics/_classification.py:1245: UndefinedMetricWarning: Precision and F-score are ill-defined and being set to 0.0 in labels with no predicted samples. Use `zero_division` parameter to control this behavior.\n",
      "  _warn_prf(average, modifier, msg_start, len(result))\n"
     ]
    }
   ],
   "source": [
    "print('Baseline: predict always negative (no world news)')\n",
    "print(classification_report(test_ag.world_int,\n",
    "                            [dummy_negative(text) for text in test_ag.text],\n",
    "                            target_names=['negative (no world news)', 'positive (world news)']))"
   ]
  },
  {
   "cell_type": "markdown",
   "metadata": {},
   "source": [
    "The evaluation of the dummy negative for world news gives us an accuracy score of 75%. Moreover, it has a precision of 0.75 for the negative class, as well as a recall of 1.00 and f1-score of 0.85.\n",
    "\n",
    "**Key Takeaway:** The accuracy of correclty classifying non world news is higher than the accuracy score of correctly classifying world news."
   ]
  },
  {
   "cell_type": "markdown",
   "metadata": {},
   "source": [
    "### 3.4 Evaluation business news"
   ]
  },
  {
   "cell_type": "code",
   "execution_count": 15,
   "metadata": {},
   "outputs": [
    {
     "name": "stdout",
     "output_type": "stream",
     "text": [
      "Baseline: predict always positive (business news)\n",
      "                             precision    recall  f1-score   support\n",
      "\n",
      "negative (no business news)       0.00      0.00      0.00      7504\n",
      "   positive (business news)       0.25      1.00      0.40      2496\n",
      "\n",
      "                   accuracy                           0.25     10000\n",
      "                  macro avg       0.12      0.50      0.20     10000\n",
      "               weighted avg       0.06      0.25      0.10     10000\n",
      "\n"
     ]
    },
    {
     "name": "stderr",
     "output_type": "stream",
     "text": [
      "/Users/marieheller/.pyenv/versions/3.9.0/lib/python3.9/site-packages/sklearn/metrics/_classification.py:1245: UndefinedMetricWarning: Precision and F-score are ill-defined and being set to 0.0 in labels with no predicted samples. Use `zero_division` parameter to control this behavior.\n",
      "  _warn_prf(average, modifier, msg_start, len(result))\n",
      "/Users/marieheller/.pyenv/versions/3.9.0/lib/python3.9/site-packages/sklearn/metrics/_classification.py:1245: UndefinedMetricWarning: Precision and F-score are ill-defined and being set to 0.0 in labels with no predicted samples. Use `zero_division` parameter to control this behavior.\n",
      "  _warn_prf(average, modifier, msg_start, len(result))\n",
      "/Users/marieheller/.pyenv/versions/3.9.0/lib/python3.9/site-packages/sklearn/metrics/_classification.py:1245: UndefinedMetricWarning: Precision and F-score are ill-defined and being set to 0.0 in labels with no predicted samples. Use `zero_division` parameter to control this behavior.\n",
      "  _warn_prf(average, modifier, msg_start, len(result))\n"
     ]
    }
   ],
   "source": [
    "print('Baseline: predict always positive (business news)')\n",
    "print(classification_report(test_ag.business_int,\n",
    "                            [dummy_positive(text) for text in test_ag.text],\n",
    "                            target_names=['negative (no business news)', 'positive (business news)']))"
   ]
  },
  {
   "cell_type": "markdown",
   "metadata": {},
   "source": [
    "The evaluation of the dummy positive for business news gives us an accuracy score of 25%. Moreover, it has a precision of 0.25 for the positive class, as well as a recall of 1.00 and f1-score of 0.39."
   ]
  },
  {
   "cell_type": "code",
   "execution_count": 16,
   "metadata": {},
   "outputs": [
    {
     "name": "stdout",
     "output_type": "stream",
     "text": [
      "Baseline: predict always negative (no business news)\n",
      "                             precision    recall  f1-score   support\n",
      "\n",
      "negative (no business news)       0.75      1.00      0.86      7504\n",
      "   positive (business news)       0.00      0.00      0.00      2496\n",
      "\n",
      "                   accuracy                           0.75     10000\n",
      "                  macro avg       0.38      0.50      0.43     10000\n",
      "               weighted avg       0.56      0.75      0.64     10000\n",
      "\n"
     ]
    },
    {
     "name": "stderr",
     "output_type": "stream",
     "text": [
      "/Users/marieheller/.pyenv/versions/3.9.0/lib/python3.9/site-packages/sklearn/metrics/_classification.py:1245: UndefinedMetricWarning: Precision and F-score are ill-defined and being set to 0.0 in labels with no predicted samples. Use `zero_division` parameter to control this behavior.\n",
      "  _warn_prf(average, modifier, msg_start, len(result))\n",
      "/Users/marieheller/.pyenv/versions/3.9.0/lib/python3.9/site-packages/sklearn/metrics/_classification.py:1245: UndefinedMetricWarning: Precision and F-score are ill-defined and being set to 0.0 in labels with no predicted samples. Use `zero_division` parameter to control this behavior.\n",
      "  _warn_prf(average, modifier, msg_start, len(result))\n",
      "/Users/marieheller/.pyenv/versions/3.9.0/lib/python3.9/site-packages/sklearn/metrics/_classification.py:1245: UndefinedMetricWarning: Precision and F-score are ill-defined and being set to 0.0 in labels with no predicted samples. Use `zero_division` parameter to control this behavior.\n",
      "  _warn_prf(average, modifier, msg_start, len(result))\n"
     ]
    }
   ],
   "source": [
    "print('Baseline: predict always negative (no business news)')\n",
    "print(classification_report(test_ag.business_int,\n",
    "                            [dummy_negative(text) for text in test_ag.text],\n",
    "                            target_names=['negative (no business news)', 'positive (business news)']))"
   ]
  },
  {
   "cell_type": "markdown",
   "metadata": {},
   "source": [
    "The evaluation of the dummy negative for sports news gives us again an accuracy score of 75%. Similar to the other newsit has a precision of 0.75 for the negative class, as well as a recall of 1.00 and f1-score of 0.86.\n",
    "\n",
    "**Key Takeaway:** Again, the accuracy of correclty classifying non world news is higher than the accuracy score of correctly classifying world news.\n",
    "\n",
    "We can see that each dummy variable is equally good/ bad in predicting the positive/ negative class for each of the four categories/ classes of the AG news data set."
   ]
  },
  {
   "cell_type": "markdown",
   "metadata": {},
   "source": [
    "# Mandatory Goals"
   ]
  },
  {
   "cell_type": "markdown",
   "metadata": {},
   "source": [
    "# 4. Binary Classifiers"
   ]
  },
  {
   "cell_type": "markdown",
   "metadata": {},
   "source": [
    "*Train binary classification models for each of the 4 classes of the AG News, and evaluate them on\n",
    "the test data using accuracy, precision and recall. Try different choices of ngrams, and learning\n",
    "algorithms, taking care of proper tuning of model and optimization parameters. Try your best\n",
    "models and find strong and weak aspects of them.*"
   ]
  },
  {
   "cell_type": "markdown",
   "metadata": {},
   "source": [
    "We have trained 3 different binary classification models for each of the 4 classes of the AG News, namely, **the Naive Bayes Model, the SGD classifier and the Bag-of-ngrams** including **Grid-Search** in sklearn."
   ]
  },
  {
   "cell_type": "markdown",
   "metadata": {},
   "source": [
    "### 4.1 Bag-of-words classifiers "
   ]
  },
  {
   "cell_type": "markdown",
   "metadata": {},
   "source": [
    "The bag-of-words classifier assigns a weight for each word. The weights are then trained by a machine learning routine. Once trained, the classifier can do predictions based on provided text and its words. The bag of words classifier takes the weights of the words and sums them linearly to get a prediction score. In binary prediction (like\n",
    "positive/negative), if the prediction score is positive, then the prediction label is positive.\n",
    "\n",
    "Before training a Naive Bayes Model on each of the classifiers, we defined two global functions. After doing this, we will train and evaluate a naive bayes model for each of the classes - science news, sports news, world news and business news."
   ]
  },
  {
   "cell_type": "code",
   "execution_count": 17,
   "metadata": {},
   "outputs": [],
   "source": [
    "from sklearn.pipeline import Pipeline \n",
    "from sklearn.feature_extraction.text import CountVectorizer, TfidfTransformer\n",
    "from sklearn.naive_bayes import MultinomialNB \n",
    "from sklearn.linear_model import SGDClassifier \n",
    "\n",
    "def make_sklearn_naive_bayes():\n",
    "    classifier = Pipeline([('vect',CountVectorizer()), ('tfidf', TfidfTransformer()), ('clf', MultinomialNB()),])\n",
    "    return classifer\n",
    "\n",
    "def make_sklearn_sgd():\n",
    "    classifier = Pipeline([('vect',CountVectorizer()), \n",
    "                           ('tfidf',TfidfTransformer()),('clf', SGDClassifier(loss='hinge',\n",
    "                            penalty='12',alpha=1e-3, random_state=42, max_iter=5, tol=None)),])\n",
    "    \n",
    "    return classifer"
   ]
  },
  {
   "cell_type": "markdown",
   "metadata": {},
   "source": [
    "## Naive Bayes Model"
   ]
  },
  {
   "cell_type": "markdown",
   "metadata": {},
   "source": [
    "The process for each of the Naive Bayed Models throughout section 4.1.1 - 4.1.4 is the same:\n",
    "\n",
    "1. For each model, we first define the respective Pipeline, afterwards we take the pipeline and train the model based on the text train set, as well as the train set that only looks at the respective model classifier (i.e. science_int, sports_int, world_int, business_int).\n",
    "\n",
    "2. Afterwards, we start doing predictions. The predict function receives a list of texts (input_texts), and computes a label(integer) for each input text. The prediction_int will show us, whether the input text is associated with the positive or negative class.\n",
    "\n",
    "3. As a third step, we make predictions on the test set and check how many of them are correct with a simple accuracy\n",
    "calculation.\n",
    "\n",
    "4. Finally, we evaluate the model with the sklearn metric to retrieve a classification report."
   ]
  },
  {
   "cell_type": "markdown",
   "metadata": {},
   "source": [
    "### 4.1.1 Naive Bayes Model - Science News"
   ]
  },
  {
   "cell_type": "code",
   "execution_count": 18,
   "metadata": {},
   "outputs": [],
   "source": [
    "ag_naivebayes_sc = Pipeline([\n",
    "    ('vect', CountVectorizer()),\n",
    "    ('tfidf', TfidfTransformer()),\n",
    "    ('clf', MultinomialNB()),\n",
    "])"
   ]
  },
  {
   "cell_type": "code",
   "execution_count": 19,
   "metadata": {},
   "outputs": [
    {
     "data": {
      "text/plain": [
       "Pipeline(steps=[('vect', CountVectorizer()), ('tfidf', TfidfTransformer()),\n",
       "                ('clf', MultinomialNB())])"
      ]
     },
     "execution_count": 19,
     "metadata": {},
     "output_type": "execute_result"
    }
   ],
   "source": [
    "ag_naivebayes_sc.fit(train_ag.text,train_ag.science_int)"
   ]
  },
  {
   "cell_type": "code",
   "execution_count": 20,
   "metadata": {},
   "outputs": [
    {
     "name": "stdout",
     "output_type": "stream",
     "text": [
      "Text:savage                                  prediction_int: 0prediction: negative\n",
      "Text:warns                                   prediction_int: 0prediction: negative\n",
      "Text:vanished                                prediction_int: 0prediction: negative\n"
     ]
    }
   ],
   "source": [
    "#trying out a list of words\n",
    "input_texts = ['savage', 'warns','vanished']\n",
    "predictions = ag_naivebayes_sc.predict(input_texts)\n",
    "for text, pred_int in zip(input_texts, predictions):\n",
    "    print('Text:{:40s}prediction_int: {}prediction: {}'.format(text,pred_int,'positive'if pred_int==1 else'negative'))"
   ]
  },
  {
   "cell_type": "markdown",
   "metadata": {},
   "source": [
    "According to our prediction, the three words *savage, warns and vanished* belong to the negative class, meaning they are associated with non science news. "
   ]
  },
  {
   "cell_type": "code",
   "execution_count": 21,
   "metadata": {},
   "outputs": [],
   "source": [
    "ag_test_naivebayes_sc = ag_naivebayes_sc.predict(test_ag.text)"
   ]
  },
  {
   "cell_type": "code",
   "execution_count": 22,
   "metadata": {},
   "outputs": [
    {
     "data": {
      "text/plain": [
       "0.9206"
      ]
     },
     "execution_count": 22,
     "metadata": {},
     "output_type": "execute_result"
    }
   ],
   "source": [
    "diff = ag_test_naivebayes_sc == test_ag.science_int\n",
    "Counter(diff)[True]/len(diff)"
   ]
  },
  {
   "cell_type": "markdown",
   "metadata": {},
   "source": [
    "**Interpretation**: 92% of our predictions are correct. Hence, we receive an accuracy score of 92%."
   ]
  },
  {
   "cell_type": "markdown",
   "metadata": {},
   "source": [
    "#### Evaluation with sklearn metrics"
   ]
  },
  {
   "cell_type": "code",
   "execution_count": 23,
   "metadata": {},
   "outputs": [
    {
     "name": "stdout",
     "output_type": "stream",
     "text": [
      "                            precision    recall  f1-score   support\n",
      "\n",
      "negative (no science news)       0.92      0.98      0.95      7463\n",
      "   positive (science news)       0.91      0.76      0.83      2537\n",
      "\n",
      "                  accuracy                           0.92     10000\n",
      "                 macro avg       0.92      0.87      0.89     10000\n",
      "              weighted avg       0.92      0.92      0.92     10000\n",
      "\n"
     ]
    }
   ],
   "source": [
    "print(classification_report(test_ag.science_int,ag_test_naivebayes_sc,target_names=['negative (no science news)','positive (science news)']))"
   ]
  },
  {
   "cell_type": "markdown",
   "metadata": {},
   "source": [
    "### 4.1.2 Naive Bayes Model - Sports news"
   ]
  },
  {
   "cell_type": "code",
   "execution_count": 189,
   "metadata": {},
   "outputs": [],
   "source": [
    "ag_naivebayes_sp = Pipeline([\n",
    "    ('vect', CountVectorizer()),\n",
    "    ('tfidf', TfidfTransformer()),\n",
    "    ('clf', MultinomialNB()),\n",
    "])"
   ]
  },
  {
   "cell_type": "code",
   "execution_count": 190,
   "metadata": {},
   "outputs": [
    {
     "data": {
      "text/plain": [
       "Pipeline(steps=[('vect', CountVectorizer()), ('tfidf', TfidfTransformer()),\n",
       "                ('clf', MultinomialNB())])"
      ]
     },
     "execution_count": 190,
     "metadata": {},
     "output_type": "execute_result"
    }
   ],
   "source": [
    "ag_naivebayes_sp.fit(train_ag.text, train_ag.sports_int)"
   ]
  },
  {
   "cell_type": "code",
   "execution_count": 191,
   "metadata": {},
   "outputs": [
    {
     "name": "stdout",
     "output_type": "stream",
     "text": [
      "Text:savage                                  prediction_int: 1prediction: positive\n",
      "Text:warns                                   prediction_int: 0prediction: negative\n",
      "Text:vanished                                prediction_int: 0prediction: negative\n"
     ]
    }
   ],
   "source": [
    "#trying out a list of words\n",
    "input_texts = ['savage', 'warns','vanished']\n",
    "predictions = ag_naivebayes_sp.predict(input_texts)\n",
    "for text, pred_int in zip(input_texts, predictions):\n",
    "    print('Text:{:40s}prediction_int: {}prediction: {}'.format(text,pred_int,'positive'if pred_int==1 else'negative'))"
   ]
  },
  {
   "cell_type": "markdown",
   "metadata": {},
   "source": [
    "According to our prediction, the words *warns and vanished* belong to the negative class, meaning they are associated with non sports news, while *savage* is classified as positive and hence seems to be sports news."
   ]
  },
  {
   "cell_type": "code",
   "execution_count": 192,
   "metadata": {},
   "outputs": [],
   "source": [
    "ag_test_naivebayes_sp = ag_naivebayes_sp.predict(test_ag.text)"
   ]
  },
  {
   "cell_type": "code",
   "execution_count": 193,
   "metadata": {},
   "outputs": [
    {
     "data": {
      "text/plain": [
       "0.9775"
      ]
     },
     "execution_count": 193,
     "metadata": {},
     "output_type": "execute_result"
    }
   ],
   "source": [
    "diff = ag_test_naivebayes_sp == test_ag.sports_int\n",
    "Counter(diff)[True]/len(diff)"
   ]
  },
  {
   "cell_type": "markdown",
   "metadata": {},
   "source": [
    "**Interpretation**: For the sports news classifier, 98% of our predictions are correct. Hence, we receive an accuracy score of 98%."
   ]
  },
  {
   "cell_type": "markdown",
   "metadata": {},
   "source": [
    "#### Evaluation with sklearn metrics"
   ]
  },
  {
   "cell_type": "code",
   "execution_count": 27,
   "metadata": {},
   "outputs": [
    {
     "name": "stdout",
     "output_type": "stream",
     "text": [
      "                           precision    recall  f1-score   support\n",
      "\n",
      "negative (no sports news)       0.98      0.99      0.99      7542\n",
      "   positive (sports news)       0.97      0.94      0.95      2458\n",
      "\n",
      "                 accuracy                           0.98     10000\n",
      "                macro avg       0.97      0.96      0.97     10000\n",
      "             weighted avg       0.98      0.98      0.98     10000\n",
      "\n"
     ]
    }
   ],
   "source": [
    "print(classification_report(test_ag.sports_int,ag_test_naivebayes_sp,target_names=['negative (no sports news)','positive (sports news)']))"
   ]
  },
  {
   "cell_type": "markdown",
   "metadata": {},
   "source": [
    "### 4.1.3 Naive Bayes Model - World news"
   ]
  },
  {
   "cell_type": "code",
   "execution_count": 28,
   "metadata": {},
   "outputs": [],
   "source": [
    "ag_naivebayes_wrld = Pipeline([\n",
    "    ('vect', CountVectorizer()),\n",
    "    ('tfidf', TfidfTransformer()),\n",
    "    ('clf', MultinomialNB()),\n",
    "])"
   ]
  },
  {
   "cell_type": "code",
   "execution_count": 29,
   "metadata": {},
   "outputs": [
    {
     "data": {
      "text/plain": [
       "Pipeline(steps=[('vect', CountVectorizer()), ('tfidf', TfidfTransformer()),\n",
       "                ('clf', MultinomialNB())])"
      ]
     },
     "execution_count": 29,
     "metadata": {},
     "output_type": "execute_result"
    }
   ],
   "source": [
    "ag_naivebayes_wrld.fit(train_ag.text, train_ag.world_int)"
   ]
  },
  {
   "cell_type": "code",
   "execution_count": 194,
   "metadata": {},
   "outputs": [
    {
     "name": "stdout",
     "output_type": "stream",
     "text": [
      "Text:savage                                  prediction_int: 0prediction: negative\n",
      "Text:warns                                   prediction_int: 0prediction: negative\n",
      "Text:vanished                                prediction_int: 0prediction: negative\n"
     ]
    }
   ],
   "source": [
    "#trying out a list of words\n",
    "input_texts = ['savage', 'warns','vanished']\n",
    "predictions = ag_naivebayes_wrld.predict(input_texts)\n",
    "for text, pred_int in zip(input_texts, predictions):\n",
    "    print('Text:{:40s}prediction_int: {}prediction: {}'.format(text,pred_int,'positive'if pred_int==1 else'negative'))"
   ]
  },
  {
   "cell_type": "markdown",
   "metadata": {},
   "source": [
    "According to our prediction, the words *savage, warns and vanished* belong to the negative class, meaning they are associated with non world news. "
   ]
  },
  {
   "cell_type": "code",
   "execution_count": 195,
   "metadata": {},
   "outputs": [],
   "source": [
    "ag_test_naivebayes_wrld = ag_naivebayes_wrld.predict(test_ag.text)"
   ]
  },
  {
   "cell_type": "code",
   "execution_count": 197,
   "metadata": {},
   "outputs": [
    {
     "data": {
      "text/plain": [
       "0.9429"
      ]
     },
     "execution_count": 197,
     "metadata": {},
     "output_type": "execute_result"
    }
   ],
   "source": [
    "diff = ag_test_naivebayes_wrld == test_ag.world_int\n",
    "Counter(diff)[True]/len(diff)"
   ]
  },
  {
   "cell_type": "markdown",
   "metadata": {},
   "source": [
    "**Interpretation**: For the world news classifier, 94% of our predictions are correct. Hence, we receive an accuracy score of 94%."
   ]
  },
  {
   "cell_type": "markdown",
   "metadata": {},
   "source": [
    "#### Evaluation with Sklearn metrics"
   ]
  },
  {
   "cell_type": "code",
   "execution_count": 31,
   "metadata": {},
   "outputs": [
    {
     "name": "stdout",
     "output_type": "stream",
     "text": [
      "                          precision    recall  f1-score   support\n",
      "\n",
      "negative (no world news)       0.94      0.99      0.96      7491\n",
      "   positive (world news)       0.95      0.82      0.88      2509\n",
      "\n",
      "                accuracy                           0.94     10000\n",
      "               macro avg       0.94      0.90      0.92     10000\n",
      "            weighted avg       0.94      0.94      0.94     10000\n",
      "\n"
     ]
    }
   ],
   "source": [
    "print(classification_report(test_ag.world_int,ag_test_naivebayes_wrld,target_names=['negative (no world news)','positive (world news)']))"
   ]
  },
  {
   "cell_type": "markdown",
   "metadata": {},
   "source": [
    "### 4.1.4 Naive Bayes Model - Business news"
   ]
  },
  {
   "cell_type": "code",
   "execution_count": 32,
   "metadata": {},
   "outputs": [],
   "source": [
    "ag_naivebayes_bu = Pipeline([\n",
    "    ('vect', CountVectorizer()),\n",
    "    ('tfidf', TfidfTransformer()),\n",
    "    ('clf', MultinomialNB()),\n",
    "])"
   ]
  },
  {
   "cell_type": "code",
   "execution_count": 33,
   "metadata": {},
   "outputs": [
    {
     "data": {
      "text/plain": [
       "Pipeline(steps=[('vect', CountVectorizer()), ('tfidf', TfidfTransformer()),\n",
       "                ('clf', MultinomialNB())])"
      ]
     },
     "execution_count": 33,
     "metadata": {},
     "output_type": "execute_result"
    }
   ],
   "source": [
    "ag_naivebayes_bu.fit(train_ag.text, train_ag.business_int)"
   ]
  },
  {
   "cell_type": "code",
   "execution_count": 198,
   "metadata": {},
   "outputs": [
    {
     "name": "stdout",
     "output_type": "stream",
     "text": [
      "Text:savage                                  prediction_int: 0prediction: negative\n",
      "Text:warns                                   prediction_int: 0prediction: negative\n",
      "Text:vanished                                prediction_int: 0prediction: negative\n"
     ]
    }
   ],
   "source": [
    "#trying out a list of words\n",
    "input_texts = ['savage', 'warns','vanished']\n",
    "predictions = ag_naivebayes_bu.predict(input_texts)\n",
    "for text, pred_int in zip(input_texts, predictions):\n",
    "    print('Text:{:40s}prediction_int: {}prediction: {}'.format(text,pred_int,'positive'if pred_int==1 else'negative'))"
   ]
  },
  {
   "cell_type": "markdown",
   "metadata": {},
   "source": [
    "According to our prediction, the words *savage, warns and vanished* belong to the negative class, meaning they are not associated with business news."
   ]
  },
  {
   "cell_type": "code",
   "execution_count": 199,
   "metadata": {},
   "outputs": [],
   "source": [
    "ag_test_naivebayes_bu = ag_naivebayes_bu.predict(test_ag.text)"
   ]
  },
  {
   "cell_type": "code",
   "execution_count": 201,
   "metadata": {},
   "outputs": [
    {
     "data": {
      "text/plain": [
       "0.917"
      ]
     },
     "execution_count": 201,
     "metadata": {},
     "output_type": "execute_result"
    }
   ],
   "source": [
    "diff = ag_test_naivebayes_bu == test_ag.business_int\n",
    "Counter(diff)[True]/len(diff)"
   ]
  },
  {
   "cell_type": "markdown",
   "metadata": {},
   "source": [
    "**Interpretation**: For the world news classifier, 92% of our predictions are correct. Hence, we receive an accuracy score of 92%."
   ]
  },
  {
   "cell_type": "code",
   "execution_count": 35,
   "metadata": {},
   "outputs": [
    {
     "name": "stdout",
     "output_type": "stream",
     "text": [
      "                             precision    recall  f1-score   support\n",
      "\n",
      "negative (no business news)       0.92      0.97      0.95      7504\n",
      "   positive (business news)       0.89      0.76      0.82      2496\n",
      "\n",
      "                   accuracy                           0.92     10000\n",
      "                  macro avg       0.91      0.87      0.88     10000\n",
      "               weighted avg       0.92      0.92      0.91     10000\n",
      "\n"
     ]
    }
   ],
   "source": [
    "print(classification_report(test_ag.business_int,ag_test_naivebayes_bu,target_names=['negative (no business news)','positive (business news)']))"
   ]
  },
  {
   "cell_type": "markdown",
   "metadata": {},
   "source": [
    "### DRY code"
   ]
  },
  {
   "cell_type": "markdown",
   "metadata": {},
   "source": [
    "Instead of training a Naive Bayes model for every class on its own, we have implemented a shorter version of code to ensure that we have a DRY code:"
   ]
  },
  {
   "cell_type": "code",
   "execution_count": 36,
   "metadata": {},
   "outputs": [
    {
     "name": "stdout",
     "output_type": "stream",
     "text": [
      "CPU times: user 18.1 s, sys: 605 ms, total: 18.8 s\n",
      "Wall time: 20 s\n"
     ]
    },
    {
     "data": {
      "text/html": [
       "<div>\n",
       "<style scoped>\n",
       "    .dataframe tbody tr th:only-of-type {\n",
       "        vertical-align: middle;\n",
       "    }\n",
       "\n",
       "    .dataframe tbody tr th {\n",
       "        vertical-align: top;\n",
       "    }\n",
       "\n",
       "    .dataframe thead th {\n",
       "        text-align: right;\n",
       "    }\n",
       "</style>\n",
       "<table border=\"1\" class=\"dataframe\">\n",
       "  <thead>\n",
       "    <tr style=\"text-align: right;\">\n",
       "      <th></th>\n",
       "      <th>science</th>\n",
       "      <th>sports</th>\n",
       "      <th>world</th>\n",
       "      <th>business</th>\n",
       "    </tr>\n",
       "  </thead>\n",
       "  <tbody>\n",
       "    <tr>\n",
       "      <th>Accuracy</th>\n",
       "      <td>0.9228</td>\n",
       "      <td>0.9807</td>\n",
       "      <td>0.9414</td>\n",
       "      <td>0.9243</td>\n",
       "    </tr>\n",
       "    <tr>\n",
       "      <th>Recall</th>\n",
       "      <td>0.9752</td>\n",
       "      <td>0.9897</td>\n",
       "      <td>0.9850</td>\n",
       "      <td>0.9687</td>\n",
       "    </tr>\n",
       "    <tr>\n",
       "      <th>Precision</th>\n",
       "      <td>0.9206</td>\n",
       "      <td>0.9775</td>\n",
       "      <td>0.9429</td>\n",
       "      <td>0.9170</td>\n",
       "    </tr>\n",
       "  </tbody>\n",
       "</table>\n",
       "</div>"
      ],
      "text/plain": [
       "           science  sports   world  business\n",
       "Accuracy    0.9228  0.9807  0.9414    0.9243\n",
       "Recall      0.9752  0.9897  0.9850    0.9687\n",
       "Precision   0.9206  0.9775  0.9429    0.9170"
      ]
     },
     "execution_count": 36,
     "metadata": {},
     "output_type": "execute_result"
    }
   ],
   "source": [
    "%%time\n",
    "\n",
    "model_classifiers = ['science_int', 'sports_int','world_int', 'business_int']\n",
    "metrics_nb = []\n",
    "overview_nb = pd.DataFrame(index = ['Accuracy', 'Recall', 'Precision'])\n",
    "\n",
    "for model in model_classifiers:\n",
    "    agnews_naivebayes = Pipeline([\n",
    "        ('vect', CountVectorizer()),\n",
    "        ('tfidf', TfidfTransformer()),\n",
    "        ('clf', MultinomialNB()),\n",
    "    ])\n",
    "    agnews_naivebayes.fit(train_ag.text, train_ag[model])\n",
    "   \n",
    "    \n",
    "    metrics_nb.append((classification_report(test_ag[model], \n",
    "                            agnews_naivebayes.predict(test_ag.text), \n",
    "                            target_names=[model, 'not_' + model], output_dict = True)).copy())\n",
    "    \n",
    "    overview_nb[model[:-4]] = (round(metrics_nb[-1][model]['precision'], 4),\n",
    "                            round(metrics_nb[-1][model]['recall'],4),\n",
    "                            round(metrics_nb[-1]['accuracy'], 4))\n",
    "\n",
    "overview_nb"
   ]
  },
  {
   "cell_type": "markdown",
   "metadata": {},
   "source": [
    "**Interpretation:** The table gives us an overview of the different evaluation metrics for each of the classes. We can see that all Naive Bayes models perform quite well and also quite similar. In all three models the accuracy is above 90%. However, as accuracy is not a very strong metric - it only cares about right or wrong- to evaluate the actual performance of a model we also have to take into account other metrics such as Recall and Precision. Precision and recall specifically look at each of the sides of mistakes. \n",
    "- *Precision* looks at “false positive” mistakes - it is the ratio of true positives out of\n",
    "the total number of examples where a classifier predicts “positive”. A precision score of 1 (100%) means that a classifier always predicts the positive class correctly. Consequently, a lower precision means that false positives occur among the predictions. \n",
    "- *Recall* looks at “false negative” mistakes - out of all truly positive examples, it is the fraction that\n",
    "is correctly labeled as “positive”. A recall of 1 (100%) means that our classifier will identify all truly\n",
    "positive examples in the data. By achieving a high recall score usually, the precision score suffers.\n",
    "\n",
    "In our case, both recall and precision metrics are very strong for all four classes. According to the table, the Naive Bayes model seems to give the best predictions for the sports class. "
   ]
  },
  {
   "cell_type": "markdown",
   "metadata": {},
   "source": [
    "## 4.2 SGD Classifier"
   ]
  },
  {
   "cell_type": "markdown",
   "metadata": {},
   "source": [
    "As a second model we have trained a SGD classifier for all four classes. "
   ]
  },
  {
   "cell_type": "markdown",
   "metadata": {},
   "source": [
    "Global function needed for all four classes to avoid repetition when analyzing the impact weights."
   ]
  },
  {
   "cell_type": "code",
   "execution_count": 37,
   "metadata": {},
   "outputs": [],
   "source": [
    "def sort_feature_weights(sk_pipe, fkey='vect', wkey='clf'):\n",
    "    F = sk_pipe[fkey].get_feature_names()\n",
    "    W = sk_pipe[wkey].coef_[0]\n",
    "    return sorted(zip(F, W), key=lambda fw: fw[1])"
   ]
  },
  {
   "cell_type": "markdown",
   "metadata": {},
   "source": [
    "### DRY Code"
   ]
  },
  {
   "cell_type": "markdown",
   "metadata": {},
   "source": [
    "A dry code was written to avoid repetition when training SGD models for the four classifiers. Nevertheless, the long code can still be found below. In general, training the model works the same for all classifiers. \n",
    "\n",
    "We first have defined the agnews_sgd variable which takes the Pipeline using different parameters. Here, we are using the hinge loss. Moreover, as tlpha parameter controls the regularization (lower values of alpha mean that the model is less regularized), we came to the conclusion that the best alpha for our mdel is 1e-6. \n",
    "Then,we train the model on the train set (with text) as well as the train set that fits the respecitive classifier (i.e. science_int, sports_int, world_int, business_int). \n",
    "Finally, we evaluate each model to receive the precision, recall and accuracy scre for each model."
   ]
  },
  {
   "cell_type": "code",
   "execution_count": 38,
   "metadata": {},
   "outputs": [
    {
     "name": "stdout",
     "output_type": "stream",
     "text": [
      "CPU times: user 26.9 s, sys: 592 ms, total: 27.5 s\n",
      "Wall time: 27.7 s\n"
     ]
    },
    {
     "data": {
      "text/html": [
       "<div>\n",
       "<style scoped>\n",
       "    .dataframe tbody tr th:only-of-type {\n",
       "        vertical-align: middle;\n",
       "    }\n",
       "\n",
       "    .dataframe tbody tr th {\n",
       "        vertical-align: top;\n",
       "    }\n",
       "\n",
       "    .dataframe thead th {\n",
       "        text-align: right;\n",
       "    }\n",
       "</style>\n",
       "<table border=\"1\" class=\"dataframe\">\n",
       "  <thead>\n",
       "    <tr style=\"text-align: right;\">\n",
       "      <th></th>\n",
       "      <th>science</th>\n",
       "      <th>sports</th>\n",
       "      <th>world</th>\n",
       "      <th>business</th>\n",
       "    </tr>\n",
       "  </thead>\n",
       "  <tbody>\n",
       "    <tr>\n",
       "      <th>Accuracy</th>\n",
       "      <td>0.9521</td>\n",
       "      <td>0.9857</td>\n",
       "      <td>0.9574</td>\n",
       "      <td>0.9524</td>\n",
       "    </tr>\n",
       "    <tr>\n",
       "      <th>Recall</th>\n",
       "      <td>0.9556</td>\n",
       "      <td>0.9849</td>\n",
       "      <td>0.9672</td>\n",
       "      <td>0.9512</td>\n",
       "    </tr>\n",
       "    <tr>\n",
       "      <th>Precision</th>\n",
       "      <td>0.9310</td>\n",
       "      <td>0.9778</td>\n",
       "      <td>0.9432</td>\n",
       "      <td>0.9277</td>\n",
       "    </tr>\n",
       "  </tbody>\n",
       "</table>\n",
       "</div>"
      ],
      "text/plain": [
       "           science  sports   world  business\n",
       "Accuracy    0.9521  0.9857  0.9574    0.9524\n",
       "Recall      0.9556  0.9849  0.9672    0.9512\n",
       "Precision   0.9310  0.9778  0.9432    0.9277"
      ]
     },
     "execution_count": 38,
     "metadata": {},
     "output_type": "execute_result"
    }
   ],
   "source": [
    "%%time\n",
    "\n",
    "metrics_sgd = []\n",
    "agnews_sgd_list = []\n",
    "overview_sgd = pd.DataFrame(index = ['Accuracy', 'Recall', 'Precision'])\n",
    "\n",
    "\n",
    "for model in model_classifiers:\n",
    "    agnews_sgd = Pipeline([\n",
    "        ('vect', CountVectorizer()),\n",
    "        ('tfidf', TfidfTransformer(use_idf=True)),\n",
    "        ('clf', SGDClassifier(loss='hinge', penalty='l2',\n",
    "                                  alpha=1e-6, random_state=42,\n",
    "                                  max_iter=100, tol=None)),\n",
    "    ])\n",
    "    agnews_sgd.fit(train_ag.text, train_ag[model])\n",
    "\n",
    "    metrics_sgd.append((classification_report(test_ag[model], \n",
    "                            agnews_sgd.predict(test_ag.text), \n",
    "                            target_names=[model, 'not_' + model], output_dict = True)).copy())\n",
    "    \n",
    "    agnews_sgd_list.append(sort_feature_weights(agnews_sgd))\n",
    "    \n",
    "    overview_sgd[model[:-4]] = (round(metrics_sgd[-1][model]['precision'],4),\n",
    "                            round(metrics_sgd[-1][model]['recall'],4),\n",
    "                            round(metrics_sgd[-1]['accuracy'], 4))\n",
    "    \n",
    "overview_sgd"
   ]
  },
  {
   "cell_type": "markdown",
   "metadata": {},
   "source": [
    "The table gives us an overview of all the evaluation metrics for the different classifiers. Again, it seems that the SGD classifier performs best for the sports classifier. Nevertheless, all four models have pretty good metrics, all being above 0.9."
   ]
  },
  {
   "cell_type": "markdown",
   "metadata": {},
   "source": [
    "### 4.2.1 SGD Classifier - Science News"
   ]
  },
  {
   "cell_type": "code",
   "execution_count": 39,
   "metadata": {},
   "outputs": [],
   "source": [
    "ag_sgd_sc = Pipeline([\n",
    "    ('vect', CountVectorizer()),\n",
    "    ('tfidf', TfidfTransformer(use_idf=True)),\n",
    "    ('clf', SGDClassifier(loss='hinge', penalty='l2',\n",
    "                          alpha=1e-6, random_state=42,\n",
    "                          max_iter=100, tol=None)),\n",
    "    ])"
   ]
  },
  {
   "cell_type": "code",
   "execution_count": 40,
   "metadata": {},
   "outputs": [
    {
     "name": "stdout",
     "output_type": "stream",
     "text": [
      "                             precision    recall  f1-score   support\n",
      "\n",
      "negative (not science news)       0.95      0.96      0.95      7463\n",
      "    positive (science news)       0.87      0.86      0.86      2537\n",
      "\n",
      "                   accuracy                           0.93     10000\n",
      "                  macro avg       0.91      0.91      0.91     10000\n",
      "               weighted avg       0.93      0.93      0.93     10000\n",
      "\n"
     ]
    }
   ],
   "source": [
    "ag_sgd_sc.fit(train_ag.text, train_ag.science_int)\n",
    "\n",
    "print(classification_report(test_ag.science_int,\n",
    "                            ag_sgd_sc.predict(test_ag.text),\n",
    "                            target_names=['negative (not science news)', 'positive (science news)']))"
   ]
  },
  {
   "cell_type": "markdown",
   "metadata": {},
   "source": [
    "### Inspect weights of the SGD Classifier - Science News"
   ]
  },
  {
   "cell_type": "markdown",
   "metadata": {},
   "source": [
    "To identify what the the SGD model has learned, we will take a closer look n the weights."
   ]
  },
  {
   "cell_type": "code",
   "execution_count": 41,
   "metadata": {},
   "outputs": [],
   "source": [
    "ag_sgd_sc_weights = sort_feature_weights(ag_sgd_sc)"
   ]
  },
  {
   "cell_type": "markdown",
   "metadata": {},
   "source": [
    "We list the n=10 words with the most positive/negative weights:"
   ]
  },
  {
   "cell_type": "code",
   "execution_count": 42,
   "metadata": {},
   "outputs": [
    {
     "name": "stdout",
     "output_type": "stream",
     "text": [
      "words most correlating with science news: \n"
     ]
    },
    {
     "data": {
      "text/plain": [
       "[('cybersecurity', 6.104069527057948),\n",
       " ('siliconvalley', 6.397927235041996),\n",
       " ('robots', 6.422343773615651),\n",
       " ('healthday', 6.4403394494715265),\n",
       " ('techies', 6.953637853517076),\n",
       " ('nasa', 7.092298072437657),\n",
       " ('ft', 7.227192097457423),\n",
       " ('caci', 7.5058607569480955),\n",
       " ('newsfactor', 7.90942264755871),\n",
       " ('washingtonpost', 7.951253918840972)]"
      ]
     },
     "execution_count": 42,
     "metadata": {},
     "output_type": "execute_result"
    }
   ],
   "source": [
    "n = 10\n",
    "print('words most correlating with science news: ')\n",
    "ag_sgd_sc_weights[-n:]"
   ]
  },
  {
   "cell_type": "markdown",
   "metadata": {},
   "source": [
    "**Insight:** looking at the words most correlated with science news, some seem to be quite surprising. It is surprising that words such as 'washingtonpost' or 'ft' are associated with science news, as they could also be categorized as business. "
   ]
  },
  {
   "cell_type": "code",
   "execution_count": 43,
   "metadata": {},
   "outputs": [
    {
     "name": "stdout",
     "output_type": "stream",
     "text": [
      "words least correlating with science news: \n"
     ]
    },
    {
     "data": {
      "text/plain": [
       "[('hellip', -10.108019350855422),\n",
       " ('fullquote', -7.835856247697604),\n",
       " ('mce', -5.823189429723003),\n",
       " ('coach', -5.5291548507800705),\n",
       " ('veritas', -5.433586512908005),\n",
       " ('stinging', -5.34392296979558),\n",
       " ('ingram', -5.281304489524441),\n",
       " ('foes', -5.021152351002213),\n",
       " ('sox', -4.860079922184835),\n",
       " ('quarterback', -4.830891855116446)]"
      ]
     },
     "execution_count": 43,
     "metadata": {},
     "output_type": "execute_result"
    }
   ],
   "source": [
    "n = 10\n",
    "print('words least correlating with science news: ')\n",
    "ag_sgd_sc_weights[:n]"
   ]
  },
  {
   "cell_type": "code",
   "execution_count": 44,
   "metadata": {},
   "outputs": [
    {
     "data": {
      "text/html": [
       "<div>\n",
       "<style scoped>\n",
       "    .dataframe tbody tr th:only-of-type {\n",
       "        vertical-align: middle;\n",
       "    }\n",
       "\n",
       "    .dataframe tbody tr th {\n",
       "        vertical-align: top;\n",
       "    }\n",
       "\n",
       "    .dataframe thead th {\n",
       "        text-align: right;\n",
       "    }\n",
       "</style>\n",
       "<table border=\"1\" class=\"dataframe\">\n",
       "  <thead>\n",
       "    <tr style=\"text-align: right;\">\n",
       "      <th></th>\n",
       "      <th>text</th>\n",
       "      <th>label</th>\n",
       "      <th>label_int</th>\n",
       "      <th>science_int</th>\n",
       "      <th>sports_int</th>\n",
       "      <th>world_int</th>\n",
       "      <th>business_int</th>\n",
       "    </tr>\n",
       "  </thead>\n",
       "  <tbody>\n",
       "    <tr>\n",
       "      <th>2693</th>\n",
       "      <td>The company rolls out many new products, inclu...</td>\n",
       "      <td>Business</td>\n",
       "      <td>3</td>\n",
       "      <td>0</td>\n",
       "      <td>0</td>\n",
       "      <td>0</td>\n",
       "      <td>1</td>\n",
       "    </tr>\n",
       "    <tr>\n",
       "      <th>3949</th>\n",
       "      <td>A website goes the extra mile to make sure vot...</td>\n",
       "      <td>Business</td>\n",
       "      <td>3</td>\n",
       "      <td>0</td>\n",
       "      <td>0</td>\n",
       "      <td>0</td>\n",
       "      <td>1</td>\n",
       "    </tr>\n",
       "    <tr>\n",
       "      <th>7099</th>\n",
       "      <td>Sharp unveils a new fat-busting microwave. Als...</td>\n",
       "      <td>Business</td>\n",
       "      <td>3</td>\n",
       "      <td>0</td>\n",
       "      <td>0</td>\n",
       "      <td>0</td>\n",
       "      <td>1</td>\n",
       "    </tr>\n",
       "    <tr>\n",
       "      <th>10330</th>\n",
       "      <td>The two companies join forces to beat out the ...</td>\n",
       "      <td>Business</td>\n",
       "      <td>3</td>\n",
       "      <td>0</td>\n",
       "      <td>0</td>\n",
       "      <td>0</td>\n",
       "      <td>1</td>\n",
       "    </tr>\n",
       "    <tr>\n",
       "      <th>11238</th>\n",
       "      <td>The company asks federal regulators to approve...</td>\n",
       "      <td>Business</td>\n",
       "      <td>3</td>\n",
       "      <td>0</td>\n",
       "      <td>0</td>\n",
       "      <td>0</td>\n",
       "      <td>1</td>\n",
       "    </tr>\n",
       "  </tbody>\n",
       "</table>\n",
       "</div>"
      ],
      "text/plain": [
       "                                                    text     label  label_int  \\\n",
       "2693   The company rolls out many new products, inclu...  Business          3   \n",
       "3949   A website goes the extra mile to make sure vot...  Business          3   \n",
       "7099   Sharp unveils a new fat-busting microwave. Als...  Business          3   \n",
       "10330  The two companies join forces to beat out the ...  Business          3   \n",
       "11238  The company asks federal regulators to approve...  Business          3   \n",
       "\n",
       "       science_int  sports_int  world_int  business_int  \n",
       "2693             0           0          0             1  \n",
       "3949             0           0          0             1  \n",
       "7099             0           0          0             1  \n",
       "10330            0           0          0             1  \n",
       "11238            0           0          0             1  "
      ]
     },
     "execution_count": 44,
     "metadata": {},
     "output_type": "execute_result"
    }
   ],
   "source": [
    "#words with high negative weights\n",
    "word_neg1 = train_ag.text.str.contains('hellip', flags = re.IGNORECASE, regex = True, na = False)\n",
    "train_ag[word_neg1].head(5)"
   ]
  },
  {
   "cell_type": "markdown",
   "metadata": {},
   "source": [
    "Let's see how the predictions are on hand-picked textual examples . . ."
   ]
  },
  {
   "cell_type": "code",
   "execution_count": 45,
   "metadata": {},
   "outputs": [
    {
     "data": {
      "text/plain": [
       "array([7.38896456])"
      ]
     },
     "execution_count": 45,
     "metadata": {},
     "output_type": "execute_result"
    }
   ],
   "source": [
    "ag_sgd_sc.decision_function(['washingtonpost'])"
   ]
  },
  {
   "cell_type": "code",
   "execution_count": 46,
   "metadata": {},
   "outputs": [
    {
     "data": {
      "text/plain": [
       "array([4.64540318])"
      ]
     },
     "execution_count": 46,
     "metadata": {},
     "output_type": "execute_result"
    }
   ],
   "source": [
    "ag_sgd_sc.decision_function(['explicit'])"
   ]
  },
  {
   "cell_type": "markdown",
   "metadata": {},
   "source": [
    "Considering that the model has a bias we need to take this into account as well. This also helps us to better understand the prediction score."
   ]
  },
  {
   "cell_type": "code",
   "execution_count": 47,
   "metadata": {},
   "outputs": [
    {
     "data": {
      "text/plain": [
       "-0.5622893550731473"
      ]
     },
     "execution_count": 47,
     "metadata": {},
     "output_type": "execute_result"
    }
   ],
   "source": [
    "ag_sgd_sc_bias = ag_sgd_sc['clf'].intercept_[0]\n",
    "ag_sgd_sc_bias"
   ]
  },
  {
   "cell_type": "markdown",
   "metadata": {},
   "source": [
    "### 4.2.2 SGD Classifier - Sports News"
   ]
  },
  {
   "cell_type": "code",
   "execution_count": 48,
   "metadata": {},
   "outputs": [],
   "source": [
    "ag_sgd_sp = Pipeline([\n",
    "    ('vect', CountVectorizer()),\n",
    "    ('tfidf', TfidfTransformer(use_idf=True)),\n",
    "    ('clf', SGDClassifier(loss='hinge', penalty='l2',\n",
    "                          alpha=1e-6, random_state=42,\n",
    "                          max_iter=100, tol=None)),\n",
    "    ])"
   ]
  },
  {
   "cell_type": "code",
   "execution_count": 49,
   "metadata": {},
   "outputs": [
    {
     "name": "stdout",
     "output_type": "stream",
     "text": [
      "                            precision    recall  f1-score   support\n",
      "\n",
      "negative (not sports news)       0.99      0.98      0.99      7542\n",
      "    positive (sports news)       0.95      0.96      0.95      2458\n",
      "\n",
      "                  accuracy                           0.98     10000\n",
      "                 macro avg       0.97      0.97      0.97     10000\n",
      "              weighted avg       0.98      0.98      0.98     10000\n",
      "\n"
     ]
    }
   ],
   "source": [
    "ag_sgd_sp.fit(train_ag.text, train_ag.sports_int)\n",
    "\n",
    "print(classification_report(test_ag.sports_int,\n",
    "                            ag_sgd_sp.predict(test_ag.text),\n",
    "                            target_names=['negative (not sports news)', 'positive (sports news)']))"
   ]
  },
  {
   "cell_type": "markdown",
   "metadata": {},
   "source": [
    "### Inspect weights of the SGD Classifier - Sports News"
   ]
  },
  {
   "cell_type": "markdown",
   "metadata": {},
   "source": [
    "To identify what the the SGD model has learned, we will take a closer look n the weights."
   ]
  },
  {
   "cell_type": "code",
   "execution_count": 50,
   "metadata": {},
   "outputs": [],
   "source": [
    "ag_sgd_sp_weights = sort_feature_weights(ag_sgd_sp)"
   ]
  },
  {
   "cell_type": "markdown",
   "metadata": {},
   "source": [
    "We list the n=10 words with the most positive/negative weights."
   ]
  },
  {
   "cell_type": "code",
   "execution_count": 51,
   "metadata": {},
   "outputs": [
    {
     "name": "stdout",
     "output_type": "stream",
     "text": [
      "words most correlating with sports news: \n"
     ]
    },
    {
     "data": {
      "text/plain": [
       "[('swimmer', 4.539570751593246),\n",
       " ('nascar', 4.601778087941961),\n",
       " ('sports', 4.607547725542004),\n",
       " ('auburn', 4.812467389705024),\n",
       " ('redskins', 4.906182084593801),\n",
       " ('coaches', 4.997649476626891),\n",
       " ('kobe', 5.012803468638323),\n",
       " ('nhl', 5.016696965688623),\n",
       " ('cup', 5.376920341383886),\n",
       " ('teams', 5.527632979297276)]"
      ]
     },
     "execution_count": 51,
     "metadata": {},
     "output_type": "execute_result"
    }
   ],
   "source": [
    "n = 10\n",
    "print('words most correlating with sports news: ')\n",
    "ag_sgd_sp_weights[-n:]"
   ]
  },
  {
   "cell_type": "code",
   "execution_count": 52,
   "metadata": {},
   "outputs": [
    {
     "name": "stdout",
     "output_type": "stream",
     "text": [
      "words least correlating with sports news: \n"
     ]
    },
    {
     "data": {
      "text/plain": [
       "[('afp', -11.036049542432837),\n",
       " ('technology', -5.371161465427809),\n",
       " ('software', -5.298989300380283),\n",
       " ('bonderman', -4.77885535530298),\n",
       " ('iraqi', -4.74638682304702),\n",
       " ('satisfying', -4.714815980414073),\n",
       " ('microsoft', -4.649789194685963),\n",
       " ('company', -4.5210922951514485),\n",
       " ('researchers', -4.504955153865194),\n",
       " ('mladin', -4.21506423630666)]"
      ]
     },
     "execution_count": 52,
     "metadata": {},
     "output_type": "execute_result"
    }
   ],
   "source": [
    "n = 10\n",
    "print('words least correlating with sports news: ')\n",
    "ag_sgd_sp_weights[:n]"
   ]
  },
  {
   "cell_type": "code",
   "execution_count": 53,
   "metadata": {},
   "outputs": [
    {
     "data": {
      "text/plain": [
       "array([4.6767083])"
      ]
     },
     "execution_count": 53,
     "metadata": {},
     "output_type": "execute_result"
    }
   ],
   "source": [
    "ag_sgd_sp.decision_function(['teams'])"
   ]
  },
  {
   "cell_type": "code",
   "execution_count": 54,
   "metadata": {},
   "outputs": [
    {
     "data": {
      "text/plain": [
       "array([3.23031725])"
      ]
     },
     "execution_count": 54,
     "metadata": {},
     "output_type": "execute_result"
    }
   ],
   "source": [
    "ag_sgd_sp.decision_function(['olympics'])"
   ]
  },
  {
   "cell_type": "markdown",
   "metadata": {},
   "source": [
    "Considering that the model has a bias we need to take this into account as well. This also helps us to better understand the prediction score."
   ]
  },
  {
   "cell_type": "code",
   "execution_count": 55,
   "metadata": {},
   "outputs": [
    {
     "data": {
      "text/plain": [
       "-0.8509246763513045"
      ]
     },
     "execution_count": 55,
     "metadata": {},
     "output_type": "execute_result"
    }
   ],
   "source": [
    "ag_sgd_sp_bias = ag_sgd_sp['clf'].intercept_[0]\n",
    "ag_sgd_sp_bias"
   ]
  },
  {
   "cell_type": "markdown",
   "metadata": {},
   "source": [
    "### 4.2.3 SGD Classifier - World News"
   ]
  },
  {
   "cell_type": "code",
   "execution_count": 56,
   "metadata": {},
   "outputs": [],
   "source": [
    "ag_sgd_wrld = Pipeline([\n",
    "    ('vect', CountVectorizer()),\n",
    "    ('tfidf', TfidfTransformer(use_idf=True)),\n",
    "    ('clf', SGDClassifier(loss='hinge', penalty='l2',\n",
    "                          alpha=1e-6, random_state=42,\n",
    "                          max_iter=100, tol=None)),\n",
    "    ])"
   ]
  },
  {
   "cell_type": "code",
   "execution_count": 57,
   "metadata": {},
   "outputs": [
    {
     "name": "stdout",
     "output_type": "stream",
     "text": [
      "                           precision    recall  f1-score   support\n",
      "\n",
      "negative (not world news)       0.96      0.97      0.96      7491\n",
      "    positive (world news)       0.90      0.87      0.89      2509\n",
      "\n",
      "                 accuracy                           0.94     10000\n",
      "                macro avg       0.93      0.92      0.92     10000\n",
      "             weighted avg       0.94      0.94      0.94     10000\n",
      "\n"
     ]
    }
   ],
   "source": [
    "ag_sgd_wrld.fit(train_ag.text, train_ag.world_int)\n",
    "\n",
    "print(classification_report(test_ag.world_int,\n",
    "                            ag_sgd_wrld.predict(test_ag.text),\n",
    "                            target_names=['negative (not world news)', 'positive (world news)']))"
   ]
  },
  {
   "cell_type": "markdown",
   "metadata": {},
   "source": [
    "### Inspect weights of the SGD Classifier - World News"
   ]
  },
  {
   "cell_type": "markdown",
   "metadata": {},
   "source": [
    "To identify what the the SGD model has learned, we will take a closer look n the weights."
   ]
  },
  {
   "cell_type": "code",
   "execution_count": 58,
   "metadata": {},
   "outputs": [],
   "source": [
    "ag_sgd_wrld_weights = sort_feature_weights(ag_sgd_wrld)"
   ]
  },
  {
   "cell_type": "markdown",
   "metadata": {},
   "source": [
    "We list the n=10 words with the most positive/negative weights."
   ]
  },
  {
   "cell_type": "code",
   "execution_count": 59,
   "metadata": {},
   "outputs": [
    {
     "name": "stdout",
     "output_type": "stream",
     "text": [
      "words most correlating with world news: \n"
     ]
    },
    {
     "data": {
      "text/plain": [
       "[('unaffected', 5.187544704195609),\n",
       " ('prosecute', 5.250843861617401),\n",
       " ('iraq', 5.455055900089948),\n",
       " ('fallujah', 5.4784624742512005),\n",
       " ('hostage', 5.536849089893944),\n",
       " ('darfur', 5.9058259179896035),\n",
       " ('palestinian', 6.139021793442138),\n",
       " ('arafat', 6.204300515687619),\n",
       " ('scaring', 7.579201761015613),\n",
       " ('afp', 8.879964021899111)]"
      ]
     },
     "execution_count": 59,
     "metadata": {},
     "output_type": "execute_result"
    }
   ],
   "source": [
    "n = 10\n",
    "print('words most correlating with world news: ')\n",
    "ag_sgd_wrld_weights[-n:]"
   ]
  },
  {
   "cell_type": "code",
   "execution_count": 60,
   "metadata": {},
   "outputs": [
    {
     "name": "stdout",
     "output_type": "stream",
     "text": [
      "words least correlating with world news: \n"
     ]
    },
    {
     "data": {
      "text/plain": [
       "[('mw', -5.34083530176589),\n",
       " ('swimmer', -4.987003146335877),\n",
       " ('deter', -4.874074225409275),\n",
       " ('redskins', -4.779600718676595),\n",
       " ('ebersol', -4.776143696125165),\n",
       " ('nbsp', -4.670208298174861),\n",
       " ('halliburton', -4.6489044524961685),\n",
       " ('amp', -4.632947003585709),\n",
       " ('internet', -4.6019593964755074),\n",
       " ('online', -4.590431288931356)]"
      ]
     },
     "execution_count": 60,
     "metadata": {},
     "output_type": "execute_result"
    }
   ],
   "source": [
    "n = 10\n",
    "print('words least correlating with world news: ')\n",
    "ag_sgd_wrld_weights[:n]"
   ]
  },
  {
   "cell_type": "code",
   "execution_count": 61,
   "metadata": {},
   "outputs": [
    {
     "data": {
      "text/plain": [
       "array([7.99863744])"
      ]
     },
     "execution_count": 61,
     "metadata": {},
     "output_type": "execute_result"
    }
   ],
   "source": [
    "ag_sgd_wrld.decision_function(['afp'])"
   ]
  },
  {
   "cell_type": "code",
   "execution_count": 62,
   "metadata": {},
   "outputs": [
    {
     "data": {
      "text/plain": [
       "array([3.89560759])"
      ]
     },
     "execution_count": 62,
     "metadata": {},
     "output_type": "execute_result"
    }
   ],
   "source": [
    "ag_sgd_wrld.decision_function(['pitcairn'])"
   ]
  },
  {
   "cell_type": "markdown",
   "metadata": {},
   "source": [
    "Considering that the model has a bias we need to take this into account as well. This also helps us to better understand the prediction score."
   ]
  },
  {
   "cell_type": "code",
   "execution_count": 63,
   "metadata": {},
   "outputs": [
    {
     "data": {
      "text/plain": [
       "-0.8813265841444407"
      ]
     },
     "execution_count": 63,
     "metadata": {},
     "output_type": "execute_result"
    }
   ],
   "source": [
    "ag_sgd_wrld_bias = ag_sgd_wrld['clf'].intercept_[0]\n",
    "ag_sgd_wrld_bias"
   ]
  },
  {
   "cell_type": "markdown",
   "metadata": {},
   "source": [
    "### 4.2.4 SGD Classifier - Business News"
   ]
  },
  {
   "cell_type": "code",
   "execution_count": 64,
   "metadata": {},
   "outputs": [],
   "source": [
    "ag_sgd_bu = Pipeline([\n",
    "    ('vect', CountVectorizer()),\n",
    "    ('tfidf', TfidfTransformer(use_idf=True)),\n",
    "    ('clf', SGDClassifier(loss='hinge', penalty='l2',\n",
    "                          alpha=1e-6, random_state=42,\n",
    "                          max_iter=100, tol=None)),\n",
    "    ])"
   ]
  },
  {
   "cell_type": "code",
   "execution_count": 65,
   "metadata": {},
   "outputs": [
    {
     "name": "stdout",
     "output_type": "stream",
     "text": [
      "                             precision    recall  f1-score   support\n",
      "\n",
      "negative (no business news)       0.95      0.95      0.95      7504\n",
      "   positive (business news)       0.85      0.86      0.86      2496\n",
      "\n",
      "                   accuracy                           0.93     10000\n",
      "                  macro avg       0.90      0.90      0.90     10000\n",
      "               weighted avg       0.93      0.93      0.93     10000\n",
      "\n"
     ]
    }
   ],
   "source": [
    "ag_sgd_bu.fit(train_ag.text, train_ag.business_int)\n",
    "\n",
    "print(classification_report(test_ag.business_int,\n",
    "                            ag_sgd_bu.predict(test_ag.text),\n",
    "                            target_names=['negative (no business news)', 'positive (business news)']))"
   ]
  },
  {
   "cell_type": "markdown",
   "metadata": {},
   "source": [
    "### Inspect weights of SGD Classifier - Business News"
   ]
  },
  {
   "cell_type": "markdown",
   "metadata": {},
   "source": [
    "To identify what the the SGD model has learned, we will take a closer look n the weights."
   ]
  },
  {
   "cell_type": "code",
   "execution_count": 66,
   "metadata": {},
   "outputs": [],
   "source": [
    "ag_sgd_bu_weights = sort_feature_weights(ag_sgd_bu)"
   ]
  },
  {
   "cell_type": "markdown",
   "metadata": {},
   "source": [
    "We list the n=10 words with the most positive/negative weights."
   ]
  },
  {
   "cell_type": "code",
   "execution_count": 67,
   "metadata": {},
   "outputs": [
    {
     "name": "stdout",
     "output_type": "stream",
     "text": [
      "words most correlating with business news: \n"
     ]
    },
    {
     "data": {
      "text/plain": [
       "[('optus', 5.2777425799393),\n",
       " ('airplanes', 5.297291192470666),\n",
       " ('exempted', 5.30341257540486),\n",
       " ('4bn', 5.468948466552995),\n",
       " ('halliburton', 5.53773288762966),\n",
       " ('aeronautic', 5.728631548850764),\n",
       " ('interceptor', 5.870929586227524),\n",
       " ('enron', 6.746857354928651),\n",
       " ('fullquote', 7.964131948872503),\n",
       " ('hellip', 9.39823610998677)]"
      ]
     },
     "execution_count": 67,
     "metadata": {},
     "output_type": "execute_result"
    }
   ],
   "source": [
    "n = 10\n",
    "print('words most correlating with business news: ')\n",
    "ag_sgd_bu_weights[-n:]"
   ]
  },
  {
   "cell_type": "code",
   "execution_count": 68,
   "metadata": {},
   "outputs": [
    {
     "name": "stdout",
     "output_type": "stream",
     "text": [
      "words least correlating with business news: \n"
     ]
    },
    {
     "data": {
      "text/plain": [
       "[('ap', -16.162784734814313),\n",
       " ('scaring', -9.986249208695698),\n",
       " ('washingtonpost', -8.965385165378294),\n",
       " ('afp', -8.430936364451771),\n",
       " ('newsfactor', -8.059114665518225),\n",
       " ('bioveris', -6.65721794578847),\n",
       " ('ft', -6.357343529297624),\n",
       " ('cds', -5.967767716866558),\n",
       " ('nhl', -5.618192637669693),\n",
       " ('prisons', -5.465298689466012)]"
      ]
     },
     "execution_count": 68,
     "metadata": {},
     "output_type": "execute_result"
    }
   ],
   "source": [
    "n = 10\n",
    "print('words least correlating with business news: ')\n",
    "ag_sgd_bu_weights[:n]"
   ]
  },
  {
   "cell_type": "code",
   "execution_count": 69,
   "metadata": {},
   "outputs": [
    {
     "data": {
      "text/plain": [
       "array([8.65391723])"
      ]
     },
     "execution_count": 69,
     "metadata": {},
     "output_type": "execute_result"
    }
   ],
   "source": [
    "ag_sgd_bu.decision_function(['hellip'])"
   ]
  },
  {
   "cell_type": "code",
   "execution_count": 70,
   "metadata": {},
   "outputs": [
    {
     "data": {
      "text/plain": [
       "array([4.10775082])"
      ]
     },
     "execution_count": 70,
     "metadata": {},
     "output_type": "execute_result"
    }
   ],
   "source": [
    "ag_sgd_bu.decision_function(['wpp'])"
   ]
  },
  {
   "cell_type": "markdown",
   "metadata": {},
   "source": [
    "Considering that the model has a bias we need to take this into account as well. This also helps us to better understand the prediction score."
   ]
  },
  {
   "cell_type": "code",
   "execution_count": 71,
   "metadata": {},
   "outputs": [
    {
     "data": {
      "text/plain": [
       "-0.7443188804084889"
      ]
     },
     "execution_count": 71,
     "metadata": {},
     "output_type": "execute_result"
    }
   ],
   "source": [
    "ag_sgd_bu_bias = ag_sgd_bu['clf'].intercept_[0]\n",
    "ag_sgd_bu_bias"
   ]
  },
  {
   "cell_type": "markdown",
   "metadata": {},
   "source": [
    "## Prediction Score Breakdown"
   ]
  },
  {
   "cell_type": "code",
   "execution_count": 72,
   "metadata": {},
   "outputs": [],
   "source": [
    "def prediction_score_breakdown(sk_model, text):\n",
    "    \"\"\"Computes the prediction score for a text, breaking down into the \n",
    "    individual scores for each word of the text.\"\"\"\n",
    "    X = [text]\n",
    "    for step_name, model in sk_model.steps[:-1]:\n",
    "        X = model.transform(X)\n",
    "    nzrows, nzcolumns = X.nonzero()\n",
    "    \n",
    "    F = sk_model.steps[0][1].get_feature_names()\n",
    "    W = sk_model.steps[-1][1].coef_[0]\n",
    "    bias = sk_model.steps[-1][1].intercept_[0]\n",
    "    total_score = bias\n",
    "    print('prediction_score={:.3f} bias={}'.format(total_score, bias))\n",
    "    for i,j in zip(nzrows, nzcolumns):\n",
    "        f = F[j]\n",
    "        v = X[i,j]\n",
    "        w = W[j]\n",
    "        s = w*v\n",
    "        total_score += s\n",
    "        print('prediction_score={:.3f} fdim={:5d}, fword=\"{:s}\", value={:.4f}, weight={:.4f}, score={:.4f}'.\n",
    "              format(total_score, j, f, v, w, s))\n",
    "    return total_score"
   ]
  },
  {
   "cell_type": "markdown",
   "metadata": {},
   "source": [
    "In order to understand the prediction score better we find examples of words and sentences for each of the classes and then use the prediction_score_breakdown function to find the prediction score for that example in the respective category.\n",
    "\n",
    "The final score takes into account the different weights associated with the different words and sums them. As the threshold for the prediction score is set at 0, a negative score will tell us that the sentence is classified as 0 and therefore belongs to the negative class, while a positive score will tell as that the sentence or word is classified as 1 and thus belongs to the positive class. "
   ]
  },
  {
   "cell_type": "markdown",
   "metadata": {},
   "source": [
    "### Science News"
   ]
  },
  {
   "cell_type": "code",
   "execution_count": 73,
   "metadata": {},
   "outputs": [
    {
     "data": {
      "text/html": [
       "<div>\n",
       "<style scoped>\n",
       "    .dataframe tbody tr th:only-of-type {\n",
       "        vertical-align: middle;\n",
       "    }\n",
       "\n",
       "    .dataframe tbody tr th {\n",
       "        vertical-align: top;\n",
       "    }\n",
       "\n",
       "    .dataframe thead th {\n",
       "        text-align: right;\n",
       "    }\n",
       "</style>\n",
       "<table border=\"1\" class=\"dataframe\">\n",
       "  <thead>\n",
       "    <tr style=\"text-align: right;\">\n",
       "      <th></th>\n",
       "      <th>text</th>\n",
       "      <th>label</th>\n",
       "      <th>label_int</th>\n",
       "      <th>science_int</th>\n",
       "      <th>sports_int</th>\n",
       "      <th>world_int</th>\n",
       "      <th>business_int</th>\n",
       "    </tr>\n",
       "  </thead>\n",
       "  <tbody>\n",
       "    <tr>\n",
       "      <th>6</th>\n",
       "      <td>An Anne Arundel County judge Wednesday  reject...</td>\n",
       "      <td>Science</td>\n",
       "      <td>0</td>\n",
       "      <td>1</td>\n",
       "      <td>0</td>\n",
       "      <td>0</td>\n",
       "      <td>0</td>\n",
       "    </tr>\n",
       "    <tr>\n",
       "      <th>12</th>\n",
       "      <td>Bank customers may soon be able to check their...</td>\n",
       "      <td>Science</td>\n",
       "      <td>0</td>\n",
       "      <td>1</td>\n",
       "      <td>0</td>\n",
       "      <td>0</td>\n",
       "      <td>0</td>\n",
       "    </tr>\n",
       "    <tr>\n",
       "      <th>13</th>\n",
       "      <td>PC World - New Simple Start Edition accounting...</td>\n",
       "      <td>Science</td>\n",
       "      <td>0</td>\n",
       "      <td>1</td>\n",
       "      <td>0</td>\n",
       "      <td>0</td>\n",
       "      <td>0</td>\n",
       "    </tr>\n",
       "    <tr>\n",
       "      <th>18</th>\n",
       "      <td>LONDON (Reuters) - Last month's back-to-back ...</td>\n",
       "      <td>Science</td>\n",
       "      <td>0</td>\n",
       "      <td>1</td>\n",
       "      <td>0</td>\n",
       "      <td>0</td>\n",
       "      <td>0</td>\n",
       "    </tr>\n",
       "    <tr>\n",
       "      <th>21</th>\n",
       "      <td>Chris Stone, second in command to CEO Jack Mes...</td>\n",
       "      <td>Science</td>\n",
       "      <td>0</td>\n",
       "      <td>1</td>\n",
       "      <td>0</td>\n",
       "      <td>0</td>\n",
       "      <td>0</td>\n",
       "    </tr>\n",
       "    <tr>\n",
       "      <th>28</th>\n",
       "      <td>AP - A savage crocodile attack on a group of c...</td>\n",
       "      <td>Science</td>\n",
       "      <td>0</td>\n",
       "      <td>1</td>\n",
       "      <td>0</td>\n",
       "      <td>0</td>\n",
       "      <td>0</td>\n",
       "    </tr>\n",
       "    <tr>\n",
       "      <th>29</th>\n",
       "      <td>The days of relying on shrinking transistors t...</td>\n",
       "      <td>Science</td>\n",
       "      <td>0</td>\n",
       "      <td>1</td>\n",
       "      <td>0</td>\n",
       "      <td>0</td>\n",
       "      <td>0</td>\n",
       "    </tr>\n",
       "    <tr>\n",
       "      <th>30</th>\n",
       "      <td>After spending nearly 10 days cleaning up from...</td>\n",
       "      <td>Science</td>\n",
       "      <td>0</td>\n",
       "      <td>1</td>\n",
       "      <td>0</td>\n",
       "      <td>0</td>\n",
       "      <td>0</td>\n",
       "    </tr>\n",
       "    <tr>\n",
       "      <th>32</th>\n",
       "      <td>A 40-minute schlep by rail and car separates t...</td>\n",
       "      <td>Science</td>\n",
       "      <td>0</td>\n",
       "      <td>1</td>\n",
       "      <td>0</td>\n",
       "      <td>0</td>\n",
       "      <td>0</td>\n",
       "    </tr>\n",
       "    <tr>\n",
       "      <th>35</th>\n",
       "      <td>By Michael Lasalandra, Globe Correspondent  Au...</td>\n",
       "      <td>Science</td>\n",
       "      <td>0</td>\n",
       "      <td>1</td>\n",
       "      <td>0</td>\n",
       "      <td>0</td>\n",
       "      <td>0</td>\n",
       "    </tr>\n",
       "    <tr>\n",
       "      <th>37</th>\n",
       "      <td>SPACE.com - A new report released by an Americ...</td>\n",
       "      <td>Science</td>\n",
       "      <td>0</td>\n",
       "      <td>1</td>\n",
       "      <td>0</td>\n",
       "      <td>0</td>\n",
       "      <td>0</td>\n",
       "    </tr>\n",
       "    <tr>\n",
       "      <th>38</th>\n",
       "      <td>Computer Associates today officially announced...</td>\n",
       "      <td>Science</td>\n",
       "      <td>0</td>\n",
       "      <td>1</td>\n",
       "      <td>0</td>\n",
       "      <td>0</td>\n",
       "      <td>0</td>\n",
       "    </tr>\n",
       "    <tr>\n",
       "      <th>42</th>\n",
       "      <td>The Carolina parakeet, the only parrot that wa...</td>\n",
       "      <td>Science</td>\n",
       "      <td>0</td>\n",
       "      <td>1</td>\n",
       "      <td>0</td>\n",
       "      <td>0</td>\n",
       "      <td>0</td>\n",
       "    </tr>\n",
       "    <tr>\n",
       "      <th>44</th>\n",
       "      <td>SEPTEMBER 20, 2004 (IDG NEWS SERVICE) - Sun Mi...</td>\n",
       "      <td>Science</td>\n",
       "      <td>0</td>\n",
       "      <td>1</td>\n",
       "      <td>0</td>\n",
       "      <td>0</td>\n",
       "      <td>0</td>\n",
       "    </tr>\n",
       "    <tr>\n",
       "      <th>49</th>\n",
       "      <td>Inspired by graffiti, posters and the communal...</td>\n",
       "      <td>Science</td>\n",
       "      <td>0</td>\n",
       "      <td>1</td>\n",
       "      <td>0</td>\n",
       "      <td>0</td>\n",
       "      <td>0</td>\n",
       "    </tr>\n",
       "  </tbody>\n",
       "</table>\n",
       "</div>"
      ],
      "text/plain": [
       "                                                 text    label  label_int  \\\n",
       "6   An Anne Arundel County judge Wednesday  reject...  Science          0   \n",
       "12  Bank customers may soon be able to check their...  Science          0   \n",
       "13  PC World - New Simple Start Edition accounting...  Science          0   \n",
       "18   LONDON (Reuters) - Last month's back-to-back ...  Science          0   \n",
       "21  Chris Stone, second in command to CEO Jack Mes...  Science          0   \n",
       "28  AP - A savage crocodile attack on a group of c...  Science          0   \n",
       "29  The days of relying on shrinking transistors t...  Science          0   \n",
       "30  After spending nearly 10 days cleaning up from...  Science          0   \n",
       "32  A 40-minute schlep by rail and car separates t...  Science          0   \n",
       "35  By Michael Lasalandra, Globe Correspondent  Au...  Science          0   \n",
       "37  SPACE.com - A new report released by an Americ...  Science          0   \n",
       "38  Computer Associates today officially announced...  Science          0   \n",
       "42  The Carolina parakeet, the only parrot that wa...  Science          0   \n",
       "44  SEPTEMBER 20, 2004 (IDG NEWS SERVICE) - Sun Mi...  Science          0   \n",
       "49  Inspired by graffiti, posters and the communal...  Science          0   \n",
       "\n",
       "    science_int  sports_int  world_int  business_int  \n",
       "6             1           0          0             0  \n",
       "12            1           0          0             0  \n",
       "13            1           0          0             0  \n",
       "18            1           0          0             0  \n",
       "21            1           0          0             0  \n",
       "28            1           0          0             0  \n",
       "29            1           0          0             0  \n",
       "30            1           0          0             0  \n",
       "32            1           0          0             0  \n",
       "35            1           0          0             0  \n",
       "37            1           0          0             0  \n",
       "38            1           0          0             0  \n",
       "42            1           0          0             0  \n",
       "44            1           0          0             0  \n",
       "49            1           0          0             0  "
      ]
     },
     "execution_count": 73,
     "metadata": {},
     "output_type": "execute_result"
    }
   ],
   "source": [
    "train_ag[train_ag.science_int==1].head(15)"
   ]
  },
  {
   "cell_type": "code",
   "execution_count": 74,
   "metadata": {},
   "outputs": [
    {
     "data": {
      "text/plain": [
       "'An Anne Arundel County judge Wednesday  rejected a challenge to the state\\'s touch-screen voting machines, saying they are more accurate than the paper ballots plaintiffs are seeking to make optional for the November elections. &lt;FONT face=\"verdana,MS Sans Serif,arial,helvetica\" size=\"-2\"\\\\ color=\"#666666\"&gt;&lt;B&gt;-The Washington Post&lt;/B&gt;&lt;/FONT&gt;'"
      ]
     },
     "execution_count": 74,
     "metadata": {},
     "output_type": "execute_result"
    }
   ],
   "source": [
    "train_ag[train_ag.science_int==1].text.iloc[0]"
   ]
  },
  {
   "cell_type": "code",
   "execution_count": 75,
   "metadata": {},
   "outputs": [
    {
     "data": {
      "text/plain": [
       "'Computer Associates today officially announced that John Swainson, an IBM veteran, has been named president and CEO-elect, as well as a member of the CA board.'"
      ]
     },
     "execution_count": 75,
     "metadata": {},
     "output_type": "execute_result"
    }
   ],
   "source": [
    "train_ag[train_ag.science_int==1].text.iloc[11]"
   ]
  },
  {
   "cell_type": "code",
   "execution_count": 76,
   "metadata": {},
   "outputs": [
    {
     "name": "stdout",
     "output_type": "stream",
     "text": [
      "prediction_score=-0.562 bias=-0.5622893550731473\n",
      "prediction_score=-0.803 fdim=53080, fword=\"today\", value=0.2524, weight=-0.9519, score=-0.2403\n",
      "prediction_score=-0.802 fdim=52472, fword=\"that\", value=0.1516, weight=0.0064, score=0.0010\n",
      "prediction_score=-2.004 fdim=51259, fword=\"swainson\", value=0.5596, weight=-2.1494, score=-1.2028\n",
      "prediction_score=-1.350 fdim=37229, fword=\"officially\", value=0.4239, weight=1.5425, score=0.6539\n",
      "prediction_score=-1.406 fdim=28470, fword=\"john\", value=0.3031, weight=-0.1832, score=-0.0555\n",
      "prediction_score=-0.660 fdim=12299, fword=\"computer\", value=0.2884, weight=2.5863, score=0.7459\n",
      "prediction_score=-0.775 fdim= 5223, fword=\"associates\", value=0.4162, weight=-0.2762, score=-0.1149\n",
      "prediction_score=-0.634 fdim= 4289, fword=\"announced\", value=0.2686, weight=0.5243, score=0.1408\n"
     ]
    },
    {
     "data": {
      "text/plain": [
       "-0.6341816844046028"
      ]
     },
     "execution_count": 76,
     "metadata": {},
     "output_type": "execute_result"
    }
   ],
   "source": [
    "prediction_score_breakdown(ag_sgd_sc,'Computer Associates today officially announced that John Swainson')"
   ]
  },
  {
   "cell_type": "markdown",
   "metadata": {},
   "source": [
    "The sentence 'Computer Associates today officially announced that John Swainson' gives us a final prediction score of -0.63 and is therefore classified as 0 (negative class)."
   ]
  },
  {
   "cell_type": "code",
   "execution_count": 77,
   "metadata": {},
   "outputs": [
    {
     "name": "stdout",
     "output_type": "stream",
     "text": [
      "prediction_score=-0.562 bias=-0.5622893550731473\n",
      "prediction_score=-0.237 fdim=56410, fword=\"voting\", value=0.3951, weight=0.8229, score=0.3251\n",
      "prediction_score=0.391 fdim=53333, fword=\"touch\", value=0.4368, weight=1.4385, score=0.6284\n",
      "prediction_score=0.346 fdim=53063, fword=\"to\", value=0.0885, weight=-0.5146, score=-0.0456\n",
      "prediction_score=0.305 fdim=52485, fword=\"the\", value=0.0683, weight=-0.5957, score=-0.0407\n",
      "prediction_score=0.228 fdim=49889, fword=\"state\", value=0.2607, weight=-0.2951, score=-0.0769\n",
      "prediction_score=1.123 fdim=46446, fword=\"screen\", value=0.3948, weight=2.2660, score=0.8947\n",
      "prediction_score=1.616 fdim=43578, fword=\"rejected\", value=0.3719, weight=1.3273, score=0.4937\n",
      "prediction_score=2.320 fdim=31934, fword=\"machines\", value=0.3811, weight=1.8456, score=0.7034\n",
      "prediction_score=1.924 fdim=10537, fword=\"challenge\", value=0.3649, weight=-1.0858, score=-0.3962\n"
     ]
    },
    {
     "data": {
      "text/plain": [
       "1.923557703738303"
      ]
     },
     "execution_count": 77,
     "metadata": {},
     "output_type": "execute_result"
    }
   ],
   "source": [
    "prediction_score_breakdown(ag_sgd_sc,'rejected a challenge to the state\\'s touch-screen voting machines')"
   ]
  },
  {
   "cell_type": "markdown",
   "metadata": {},
   "source": [
    "The sentence 'rejected a challenge to the state\\'s touch-screen voting machines' gives us a final prediction score of 1.92 and is therefore classified as 1 (positive class)."
   ]
  },
  {
   "cell_type": "markdown",
   "metadata": {},
   "source": [
    "### Sports News"
   ]
  },
  {
   "cell_type": "code",
   "execution_count": 78,
   "metadata": {},
   "outputs": [
    {
     "data": {
      "text/html": [
       "<div>\n",
       "<style scoped>\n",
       "    .dataframe tbody tr th:only-of-type {\n",
       "        vertical-align: middle;\n",
       "    }\n",
       "\n",
       "    .dataframe tbody tr th {\n",
       "        vertical-align: top;\n",
       "    }\n",
       "\n",
       "    .dataframe thead th {\n",
       "        text-align: right;\n",
       "    }\n",
       "</style>\n",
       "<table border=\"1\" class=\"dataframe\">\n",
       "  <thead>\n",
       "    <tr style=\"text-align: right;\">\n",
       "      <th></th>\n",
       "      <th>text</th>\n",
       "      <th>label</th>\n",
       "      <th>label_int</th>\n",
       "      <th>science_int</th>\n",
       "      <th>sports_int</th>\n",
       "      <th>world_int</th>\n",
       "      <th>business_int</th>\n",
       "    </tr>\n",
       "  </thead>\n",
       "  <tbody>\n",
       "    <tr>\n",
       "      <th>1</th>\n",
       "      <td>Spain needs only to beat an under-strength Fre...</td>\n",
       "      <td>Sports</td>\n",
       "      <td>1</td>\n",
       "      <td>0</td>\n",
       "      <td>1</td>\n",
       "      <td>0</td>\n",
       "      <td>0</td>\n",
       "    </tr>\n",
       "    <tr>\n",
       "      <th>3</th>\n",
       "      <td>Gilbert Arenas, Jarvis Hayes and Anthony Peele...</td>\n",
       "      <td>Sports</td>\n",
       "      <td>1</td>\n",
       "      <td>0</td>\n",
       "      <td>1</td>\n",
       "      <td>0</td>\n",
       "      <td>0</td>\n",
       "    </tr>\n",
       "    <tr>\n",
       "      <th>4</th>\n",
       "      <td>MEMPHIS, Tenn. -- Kobe Bryant had his worst sh...</td>\n",
       "      <td>Sports</td>\n",
       "      <td>1</td>\n",
       "      <td>0</td>\n",
       "      <td>1</td>\n",
       "      <td>0</td>\n",
       "      <td>0</td>\n",
       "    </tr>\n",
       "    <tr>\n",
       "      <th>24</th>\n",
       "      <td>Kelly Holmes #39; lastminute gamble was reward...</td>\n",
       "      <td>Sports</td>\n",
       "      <td>1</td>\n",
       "      <td>0</td>\n",
       "      <td>1</td>\n",
       "      <td>0</td>\n",
       "      <td>0</td>\n",
       "    </tr>\n",
       "    <tr>\n",
       "      <th>26</th>\n",
       "      <td>Coco Crisp's hustling RBI bunt single in the e...</td>\n",
       "      <td>Sports</td>\n",
       "      <td>1</td>\n",
       "      <td>0</td>\n",
       "      <td>1</td>\n",
       "      <td>0</td>\n",
       "      <td>0</td>\n",
       "    </tr>\n",
       "    <tr>\n",
       "      <th>31</th>\n",
       "      <td>It #39;s better late than never for Philip Riv...</td>\n",
       "      <td>Sports</td>\n",
       "      <td>1</td>\n",
       "      <td>0</td>\n",
       "      <td>1</td>\n",
       "      <td>0</td>\n",
       "      <td>0</td>\n",
       "    </tr>\n",
       "    <tr>\n",
       "      <th>33</th>\n",
       "      <td>AP - Second-seeded Tim Henman of Britain overc...</td>\n",
       "      <td>Sports</td>\n",
       "      <td>1</td>\n",
       "      <td>0</td>\n",
       "      <td>1</td>\n",
       "      <td>0</td>\n",
       "      <td>0</td>\n",
       "    </tr>\n",
       "    <tr>\n",
       "      <th>34</th>\n",
       "      <td>According to the International Ice Hockey Fede...</td>\n",
       "      <td>Sports</td>\n",
       "      <td>1</td>\n",
       "      <td>0</td>\n",
       "      <td>1</td>\n",
       "      <td>0</td>\n",
       "      <td>0</td>\n",
       "    </tr>\n",
       "    <tr>\n",
       "      <th>36</th>\n",
       "      <td>Tim Henman made light of his magnesium deficie...</td>\n",
       "      <td>Sports</td>\n",
       "      <td>1</td>\n",
       "      <td>0</td>\n",
       "      <td>1</td>\n",
       "      <td>0</td>\n",
       "      <td>0</td>\n",
       "    </tr>\n",
       "    <tr>\n",
       "      <th>41</th>\n",
       "      <td>Bangalore, India - India #39;s cricket selecto...</td>\n",
       "      <td>Sports</td>\n",
       "      <td>1</td>\n",
       "      <td>0</td>\n",
       "      <td>1</td>\n",
       "      <td>0</td>\n",
       "      <td>0</td>\n",
       "    </tr>\n",
       "    <tr>\n",
       "      <th>46</th>\n",
       "      <td>Foxboro, MA (Sports Network) - The New England...</td>\n",
       "      <td>Sports</td>\n",
       "      <td>1</td>\n",
       "      <td>0</td>\n",
       "      <td>1</td>\n",
       "      <td>0</td>\n",
       "      <td>0</td>\n",
       "    </tr>\n",
       "    <tr>\n",
       "      <th>48</th>\n",
       "      <td>Adelaide, November 29: Australia set New Zeala...</td>\n",
       "      <td>Sports</td>\n",
       "      <td>1</td>\n",
       "      <td>0</td>\n",
       "      <td>1</td>\n",
       "      <td>0</td>\n",
       "      <td>0</td>\n",
       "    </tr>\n",
       "    <tr>\n",
       "      <th>51</th>\n",
       "      <td>AP - Jamaal Tinsley scored a season-high 29 po...</td>\n",
       "      <td>Sports</td>\n",
       "      <td>1</td>\n",
       "      <td>0</td>\n",
       "      <td>1</td>\n",
       "      <td>0</td>\n",
       "      <td>0</td>\n",
       "    </tr>\n",
       "    <tr>\n",
       "      <th>59</th>\n",
       "      <td>One day after his good friend Lou Holtz announ...</td>\n",
       "      <td>Sports</td>\n",
       "      <td>1</td>\n",
       "      <td>0</td>\n",
       "      <td>1</td>\n",
       "      <td>0</td>\n",
       "      <td>0</td>\n",
       "    </tr>\n",
       "    <tr>\n",
       "      <th>61</th>\n",
       "      <td>AP - Despite losing his most dependable big ma...</td>\n",
       "      <td>Sports</td>\n",
       "      <td>1</td>\n",
       "      <td>0</td>\n",
       "      <td>1</td>\n",
       "      <td>0</td>\n",
       "      <td>0</td>\n",
       "    </tr>\n",
       "  </tbody>\n",
       "</table>\n",
       "</div>"
      ],
      "text/plain": [
       "                                                 text   label  label_int  \\\n",
       "1   Spain needs only to beat an under-strength Fre...  Sports          1   \n",
       "3   Gilbert Arenas, Jarvis Hayes and Anthony Peele...  Sports          1   \n",
       "4   MEMPHIS, Tenn. -- Kobe Bryant had his worst sh...  Sports          1   \n",
       "24  Kelly Holmes #39; lastminute gamble was reward...  Sports          1   \n",
       "26  Coco Crisp's hustling RBI bunt single in the e...  Sports          1   \n",
       "31  It #39;s better late than never for Philip Riv...  Sports          1   \n",
       "33  AP - Second-seeded Tim Henman of Britain overc...  Sports          1   \n",
       "34  According to the International Ice Hockey Fede...  Sports          1   \n",
       "36  Tim Henman made light of his magnesium deficie...  Sports          1   \n",
       "41  Bangalore, India - India #39;s cricket selecto...  Sports          1   \n",
       "46  Foxboro, MA (Sports Network) - The New England...  Sports          1   \n",
       "48  Adelaide, November 29: Australia set New Zeala...  Sports          1   \n",
       "51  AP - Jamaal Tinsley scored a season-high 29 po...  Sports          1   \n",
       "59  One day after his good friend Lou Holtz announ...  Sports          1   \n",
       "61  AP - Despite losing his most dependable big ma...  Sports          1   \n",
       "\n",
       "    science_int  sports_int  world_int  business_int  \n",
       "1             0           1          0             0  \n",
       "3             0           1          0             0  \n",
       "4             0           1          0             0  \n",
       "24            0           1          0             0  \n",
       "26            0           1          0             0  \n",
       "31            0           1          0             0  \n",
       "33            0           1          0             0  \n",
       "34            0           1          0             0  \n",
       "36            0           1          0             0  \n",
       "41            0           1          0             0  \n",
       "46            0           1          0             0  \n",
       "48            0           1          0             0  \n",
       "51            0           1          0             0  \n",
       "59            0           1          0             0  \n",
       "61            0           1          0             0  "
      ]
     },
     "execution_count": 78,
     "metadata": {},
     "output_type": "execute_result"
    }
   ],
   "source": [
    "train_ag[train_ag.sports_int==1].head(15)"
   ]
  },
  {
   "cell_type": "code",
   "execution_count": 79,
   "metadata": {},
   "outputs": [
    {
     "data": {
      "text/plain": [
       "\"Coco Crisp's hustling RBI bunt single in the eighth inning pushed the Indians past the Yankees, 4-3, on Wednesday night, ending Cleveland's nine-game losing streak.\""
      ]
     },
     "execution_count": 79,
     "metadata": {},
     "output_type": "execute_result"
    }
   ],
   "source": [
    "train_ag[train_ag.sports_int==1].text.iloc[4]"
   ]
  },
  {
   "cell_type": "code",
   "execution_count": 80,
   "metadata": {},
   "outputs": [
    {
     "data": {
      "text/plain": [
       "'SEPTEMBER 20, 2004 (IDG NEWS SERVICE) - Sun Microsystems Inc. will hold its quarterly product launch this week, unleashing a raft of new hardware offerings spanning servers to storage.'"
      ]
     },
     "execution_count": 80,
     "metadata": {},
     "output_type": "execute_result"
    }
   ],
   "source": [
    "train_ag[train_ag.science_int==1].text.iloc[13]"
   ]
  },
  {
   "cell_type": "code",
   "execution_count": 81,
   "metadata": {},
   "outputs": [
    {
     "name": "stdout",
     "output_type": "stream",
     "text": [
      "prediction_score=-0.851 bias=-0.8509246763513045\n",
      "prediction_score=0.151 fdim=58256, fword=\"yankees\", value=0.3524, weight=2.8435, score=1.0019\n",
      "prediction_score=0.514 fdim=52485, fword=\"the\", value=0.2167, weight=1.6753, score=0.3630\n",
      "prediction_score=0.155 fdim=41960, fword=\"pushed\", value=0.4234, weight=-0.8468, score=-0.3585\n",
      "prediction_score=0.319 fdim=38872, fword=\"past\", value=0.3290, weight=0.4962, score=0.1632\n",
      "prediction_score=0.241 fdim=26977, fword=\"inning\", value=0.3808, weight=-0.2029, score=-0.0773\n",
      "prediction_score=0.126 fdim=26609, fword=\"indians\", value=0.4607, weight=-0.2502, score=-0.1153\n",
      "prediction_score=0.135 fdim=26414, fword=\"in\", value=0.1016, weight=0.0899, score=0.0091\n",
      "prediction_score=-0.581 fdim=17593, fword=\"eighth\", value=0.4170, weight=-1.7169, score=-0.7160\n"
     ]
    },
    {
     "data": {
      "text/plain": [
       "-0.5807238152230951"
      ]
     },
     "execution_count": 81,
     "metadata": {},
     "output_type": "execute_result"
    }
   ],
   "source": [
    "prediction_score_breakdown(ag_sgd_sp,'in the eighth inning pushed the Indians past the Yankees')"
   ]
  },
  {
   "cell_type": "markdown",
   "metadata": {},
   "source": [
    "The sentence 'in the eighth inning pushed the Indians past the Yankees' gives us a final prediction score of -0.58 and is therefore classified as 0 (negative class). "
   ]
  },
  {
   "cell_type": "code",
   "execution_count": 82,
   "metadata": {},
   "outputs": [
    {
     "name": "stdout",
     "output_type": "stream",
     "text": [
      "prediction_score=-0.851 bias=-0.8509246763513045\n",
      "prediction_score=-0.694 fdim=50903, fword=\"sun\", value=0.6040, weight=0.2596, score=0.1568\n",
      "prediction_score=-1.970 fdim=33842, fword=\"microsystems\", value=0.6906, weight=-1.8480, score=-1.2762\n",
      "prediction_score=-2.963 fdim=26450, fword=\"inc\", value=0.3978, weight=-2.4961, score=-0.9930\n"
     ]
    },
    {
     "data": {
      "text/plain": [
       "-2.963370608145403"
      ]
     },
     "execution_count": 82,
     "metadata": {},
     "output_type": "execute_result"
    }
   ],
   "source": [
    "prediction_score_breakdown(ag_sgd_sp,'Sun Microsystems Inc.')"
   ]
  },
  {
   "cell_type": "markdown",
   "metadata": {},
   "source": [
    "The sentence 'Sun Microsystems Inc.' gives us a final prediction score of -2.96 and is therefore classified as 0 (negative class)."
   ]
  },
  {
   "cell_type": "markdown",
   "metadata": {},
   "source": [
    "### World News"
   ]
  },
  {
   "cell_type": "code",
   "execution_count": 83,
   "metadata": {},
   "outputs": [
    {
     "data": {
      "text/html": [
       "<div>\n",
       "<style scoped>\n",
       "    .dataframe tbody tr th:only-of-type {\n",
       "        vertical-align: middle;\n",
       "    }\n",
       "\n",
       "    .dataframe tbody tr th {\n",
       "        vertical-align: top;\n",
       "    }\n",
       "\n",
       "    .dataframe thead th {\n",
       "        text-align: right;\n",
       "    }\n",
       "</style>\n",
       "<table border=\"1\" class=\"dataframe\">\n",
       "  <thead>\n",
       "    <tr style=\"text-align: right;\">\n",
       "      <th></th>\n",
       "      <th>text</th>\n",
       "      <th>label</th>\n",
       "      <th>label_int</th>\n",
       "      <th>science_int</th>\n",
       "      <th>sports_int</th>\n",
       "      <th>world_int</th>\n",
       "      <th>business_int</th>\n",
       "    </tr>\n",
       "  </thead>\n",
       "  <tbody>\n",
       "    <tr>\n",
       "      <th>2</th>\n",
       "      <td>PANAMA CITY, Panama -- When the United States ...</td>\n",
       "      <td>World</td>\n",
       "      <td>2</td>\n",
       "      <td>0</td>\n",
       "      <td>0</td>\n",
       "      <td>1</td>\n",
       "      <td>0</td>\n",
       "    </tr>\n",
       "    <tr>\n",
       "      <th>7</th>\n",
       "      <td>JAKARTA A militant Muslim cleric was charged W...</td>\n",
       "      <td>World</td>\n",
       "      <td>2</td>\n",
       "      <td>0</td>\n",
       "      <td>0</td>\n",
       "      <td>1</td>\n",
       "      <td>0</td>\n",
       "    </tr>\n",
       "    <tr>\n",
       "      <th>9</th>\n",
       "      <td>A Palestinian rocket hit an Israeli town near ...</td>\n",
       "      <td>World</td>\n",
       "      <td>2</td>\n",
       "      <td>0</td>\n",
       "      <td>0</td>\n",
       "      <td>1</td>\n",
       "      <td>0</td>\n",
       "    </tr>\n",
       "    <tr>\n",
       "      <th>10</th>\n",
       "      <td>Hoping to end persistent skirmishing, peacekee...</td>\n",
       "      <td>World</td>\n",
       "      <td>2</td>\n",
       "      <td>0</td>\n",
       "      <td>0</td>\n",
       "      <td>1</td>\n",
       "      <td>0</td>\n",
       "    </tr>\n",
       "    <tr>\n",
       "      <th>14</th>\n",
       "      <td>PARIS: Turkey is not yet ready for entry into ...</td>\n",
       "      <td>World</td>\n",
       "      <td>2</td>\n",
       "      <td>0</td>\n",
       "      <td>0</td>\n",
       "      <td>1</td>\n",
       "      <td>0</td>\n",
       "    </tr>\n",
       "    <tr>\n",
       "      <th>15</th>\n",
       "      <td>BAGHDAD, Iraq - A US military official in Iraq...</td>\n",
       "      <td>World</td>\n",
       "      <td>2</td>\n",
       "      <td>0</td>\n",
       "      <td>0</td>\n",
       "      <td>1</td>\n",
       "      <td>0</td>\n",
       "    </tr>\n",
       "    <tr>\n",
       "      <th>17</th>\n",
       "      <td>NEW YORK - High-tech changes in the banking in...</td>\n",
       "      <td>World</td>\n",
       "      <td>2</td>\n",
       "      <td>0</td>\n",
       "      <td>0</td>\n",
       "      <td>1</td>\n",
       "      <td>0</td>\n",
       "    </tr>\n",
       "    <tr>\n",
       "      <th>20</th>\n",
       "      <td>Yasser Arafat died as the leader of a country ...</td>\n",
       "      <td>World</td>\n",
       "      <td>2</td>\n",
       "      <td>0</td>\n",
       "      <td>0</td>\n",
       "      <td>1</td>\n",
       "      <td>0</td>\n",
       "    </tr>\n",
       "    <tr>\n",
       "      <th>39</th>\n",
       "      <td>AP - John Kerry's telling voters that Presiden...</td>\n",
       "      <td>World</td>\n",
       "      <td>2</td>\n",
       "      <td>0</td>\n",
       "      <td>0</td>\n",
       "      <td>1</td>\n",
       "      <td>0</td>\n",
       "    </tr>\n",
       "    <tr>\n",
       "      <th>40</th>\n",
       "      <td>ABUJA (Reuters) - Peace talks between Sudan's...</td>\n",
       "      <td>World</td>\n",
       "      <td>2</td>\n",
       "      <td>0</td>\n",
       "      <td>0</td>\n",
       "      <td>1</td>\n",
       "      <td>0</td>\n",
       "    </tr>\n",
       "    <tr>\n",
       "      <th>43</th>\n",
       "      <td>Carlos Barrios Orta squeezed himself into his ...</td>\n",
       "      <td>World</td>\n",
       "      <td>2</td>\n",
       "      <td>0</td>\n",
       "      <td>0</td>\n",
       "      <td>1</td>\n",
       "      <td>0</td>\n",
       "    </tr>\n",
       "    <tr>\n",
       "      <th>47</th>\n",
       "      <td>AP - Secretary of State Colin Powell has anger...</td>\n",
       "      <td>World</td>\n",
       "      <td>2</td>\n",
       "      <td>0</td>\n",
       "      <td>0</td>\n",
       "      <td>1</td>\n",
       "      <td>0</td>\n",
       "    </tr>\n",
       "    <tr>\n",
       "      <th>55</th>\n",
       "      <td>Pakistan #39;s National Assembly elected Shauk...</td>\n",
       "      <td>World</td>\n",
       "      <td>2</td>\n",
       "      <td>0</td>\n",
       "      <td>0</td>\n",
       "      <td>1</td>\n",
       "      <td>0</td>\n",
       "    </tr>\n",
       "    <tr>\n",
       "      <th>58</th>\n",
       "      <td>As many as 12 Palestinians died in four separa...</td>\n",
       "      <td>World</td>\n",
       "      <td>2</td>\n",
       "      <td>0</td>\n",
       "      <td>0</td>\n",
       "      <td>1</td>\n",
       "      <td>0</td>\n",
       "    </tr>\n",
       "    <tr>\n",
       "      <th>66</th>\n",
       "      <td>One of four U.S. military officers in Afghanis...</td>\n",
       "      <td>World</td>\n",
       "      <td>2</td>\n",
       "      <td>0</td>\n",
       "      <td>0</td>\n",
       "      <td>1</td>\n",
       "      <td>0</td>\n",
       "    </tr>\n",
       "  </tbody>\n",
       "</table>\n",
       "</div>"
      ],
      "text/plain": [
       "                                                 text  label  label_int  \\\n",
       "2   PANAMA CITY, Panama -- When the United States ...  World          2   \n",
       "7   JAKARTA A militant Muslim cleric was charged W...  World          2   \n",
       "9   A Palestinian rocket hit an Israeli town near ...  World          2   \n",
       "10  Hoping to end persistent skirmishing, peacekee...  World          2   \n",
       "14  PARIS: Turkey is not yet ready for entry into ...  World          2   \n",
       "15  BAGHDAD, Iraq - A US military official in Iraq...  World          2   \n",
       "17  NEW YORK - High-tech changes in the banking in...  World          2   \n",
       "20  Yasser Arafat died as the leader of a country ...  World          2   \n",
       "39  AP - John Kerry's telling voters that Presiden...  World          2   \n",
       "40   ABUJA (Reuters) - Peace talks between Sudan's...  World          2   \n",
       "43  Carlos Barrios Orta squeezed himself into his ...  World          2   \n",
       "47  AP - Secretary of State Colin Powell has anger...  World          2   \n",
       "55  Pakistan #39;s National Assembly elected Shauk...  World          2   \n",
       "58  As many as 12 Palestinians died in four separa...  World          2   \n",
       "66  One of four U.S. military officers in Afghanis...  World          2   \n",
       "\n",
       "    science_int  sports_int  world_int  business_int  \n",
       "2             0           0          1             0  \n",
       "7             0           0          1             0  \n",
       "9             0           0          1             0  \n",
       "10            0           0          1             0  \n",
       "14            0           0          1             0  \n",
       "15            0           0          1             0  \n",
       "17            0           0          1             0  \n",
       "20            0           0          1             0  \n",
       "39            0           0          1             0  \n",
       "40            0           0          1             0  \n",
       "43            0           0          1             0  \n",
       "47            0           0          1             0  \n",
       "55            0           0          1             0  \n",
       "58            0           0          1             0  \n",
       "66            0           0          1             0  "
      ]
     },
     "execution_count": 83,
     "metadata": {},
     "output_type": "execute_result"
    }
   ],
   "source": [
    "train_ag[train_ag.world_int==1].head(15)"
   ]
  },
  {
   "cell_type": "code",
   "execution_count": 84,
   "metadata": {},
   "outputs": [
    {
     "data": {
      "text/plain": [
       "'BAGHDAD, Iraq - A US military official in Iraq says seven American marines have been killed today in a car-bomb explosion. Several other Marines have been wounded in the attack.'"
      ]
     },
     "execution_count": 84,
     "metadata": {},
     "output_type": "execute_result"
    }
   ],
   "source": [
    "train_ag[train_ag.world_int==1].text.iloc[5]"
   ]
  },
  {
   "cell_type": "code",
   "execution_count": 85,
   "metadata": {},
   "outputs": [
    {
     "data": {
      "text/plain": [
       "'As many as 12 Palestinians died in four separate incidents on Saturday in Gaza, another day of escalating violence between Israeli forces and Palestinian militants.'"
      ]
     },
     "execution_count": 85,
     "metadata": {},
     "output_type": "execute_result"
    }
   ],
   "source": [
    "train_ag[train_ag.world_int==1].text.iloc[13]"
   ]
  },
  {
   "cell_type": "code",
   "execution_count": 86,
   "metadata": {},
   "outputs": [
    {
     "name": "stdout",
     "output_type": "stream",
     "text": [
      "prediction_score=-0.881 bias=-0.8813265841444407\n",
      "prediction_score=-1.422 fdim=55346, fword=\"us\", value=0.3417, weight=-1.5830, score=-0.5410\n",
      "prediction_score=-1.088 fdim=46051, fword=\"says\", value=0.4418, weight=0.7570, score=0.3344\n",
      "prediction_score=-0.716 fdim=37228, fword=\"official\", value=0.4967, weight=0.7488, score=0.3719\n",
      "prediction_score=1.409 fdim=33983, fword=\"military\", value=0.4903, weight=4.3335, score=2.1247\n",
      "prediction_score=3.693 fdim=27627, fword=\"iraq\", value=0.4188, weight=5.4551, score=2.2844\n",
      "prediction_score=3.676 fdim=26414, fword=\"in\", value=0.1599, weight=-0.1048, score=-0.0167\n"
     ]
    },
    {
     "data": {
      "text/plain": [
       "3.6764010182987166"
      ]
     },
     "execution_count": 86,
     "metadata": {},
     "output_type": "execute_result"
    }
   ],
   "source": [
    "prediction_score_breakdown(ag_sgd_wrld,'A US military official in Iraq says')"
   ]
  },
  {
   "cell_type": "markdown",
   "metadata": {},
   "source": [
    "The sentence 'A US military official in Iraq says' gives us a final prediction score of 3.67 and is therefore classified as 1 (positive class)."
   ]
  },
  {
   "cell_type": "code",
   "execution_count": 87,
   "metadata": {},
   "outputs": [
    {
     "name": "stdout",
     "output_type": "stream",
     "text": [
      "prediction_score=-0.881 bias=-0.8813265841444407\n",
      "prediction_score=-0.911 fdim=26414, fword=\"in\", value=0.2817, weight=-0.1048, score=-0.0295\n",
      "prediction_score=1.017 fdim=22034, fword=\"gaza\", value=0.9595, weight=2.0088, score=1.9274\n"
     ]
    },
    {
     "data": {
      "text/plain": [
       "1.0165641028844146"
      ]
     },
     "execution_count": 87,
     "metadata": {},
     "output_type": "execute_result"
    }
   ],
   "source": [
    "prediction_score_breakdown(ag_sgd_wrld,'in Gaza')"
   ]
  },
  {
   "cell_type": "markdown",
   "metadata": {},
   "source": [
    "The sentence 'in Gaza' gives us a final prediction score of 1.02 and is therefore classified as 1 (positive class)."
   ]
  },
  {
   "cell_type": "markdown",
   "metadata": {},
   "source": [
    "### Business News"
   ]
  },
  {
   "cell_type": "code",
   "execution_count": 88,
   "metadata": {},
   "outputs": [
    {
     "data": {
      "text/html": [
       "<div>\n",
       "<style scoped>\n",
       "    .dataframe tbody tr th:only-of-type {\n",
       "        vertical-align: middle;\n",
       "    }\n",
       "\n",
       "    .dataframe tbody tr th {\n",
       "        vertical-align: top;\n",
       "    }\n",
       "\n",
       "    .dataframe thead th {\n",
       "        text-align: right;\n",
       "    }\n",
       "</style>\n",
       "<table border=\"1\" class=\"dataframe\">\n",
       "  <thead>\n",
       "    <tr style=\"text-align: right;\">\n",
       "      <th></th>\n",
       "      <th>text</th>\n",
       "      <th>label</th>\n",
       "      <th>label_int</th>\n",
       "      <th>science_int</th>\n",
       "      <th>sports_int</th>\n",
       "      <th>world_int</th>\n",
       "      <th>business_int</th>\n",
       "    </tr>\n",
       "  </thead>\n",
       "  <tbody>\n",
       "    <tr>\n",
       "      <th>0</th>\n",
       "      <td>John Souza, a volunteer with the Boone County ...</td>\n",
       "      <td>Business</td>\n",
       "      <td>3</td>\n",
       "      <td>0</td>\n",
       "      <td>0</td>\n",
       "      <td>0</td>\n",
       "      <td>1</td>\n",
       "    </tr>\n",
       "    <tr>\n",
       "      <th>5</th>\n",
       "      <td>Delta Air Lines #39; decision to close its hub...</td>\n",
       "      <td>Business</td>\n",
       "      <td>3</td>\n",
       "      <td>0</td>\n",
       "      <td>0</td>\n",
       "      <td>0</td>\n",
       "      <td>1</td>\n",
       "    </tr>\n",
       "    <tr>\n",
       "      <th>8</th>\n",
       "      <td>There #39;s a reason that smiling Salvation Ar...</td>\n",
       "      <td>Business</td>\n",
       "      <td>3</td>\n",
       "      <td>0</td>\n",
       "      <td>0</td>\n",
       "      <td>0</td>\n",
       "      <td>1</td>\n",
       "    </tr>\n",
       "    <tr>\n",
       "      <th>11</th>\n",
       "      <td>Liverpool could be about to be taken over by a...</td>\n",
       "      <td>Business</td>\n",
       "      <td>3</td>\n",
       "      <td>0</td>\n",
       "      <td>0</td>\n",
       "      <td>0</td>\n",
       "      <td>1</td>\n",
       "    </tr>\n",
       "    <tr>\n",
       "      <th>16</th>\n",
       "      <td>FRANKFURT, Oct 9 (AFP) - Germany #39;s Deutsch...</td>\n",
       "      <td>Business</td>\n",
       "      <td>3</td>\n",
       "      <td>0</td>\n",
       "      <td>0</td>\n",
       "      <td>0</td>\n",
       "      <td>1</td>\n",
       "    </tr>\n",
       "    <tr>\n",
       "      <th>19</th>\n",
       "      <td>AFP - What do you do when you've got billions ...</td>\n",
       "      <td>Business</td>\n",
       "      <td>3</td>\n",
       "      <td>0</td>\n",
       "      <td>0</td>\n",
       "      <td>0</td>\n",
       "      <td>1</td>\n",
       "    </tr>\n",
       "    <tr>\n",
       "      <th>22</th>\n",
       "      <td>Coca-Cola Amatil, the leading Australian soft ...</td>\n",
       "      <td>Business</td>\n",
       "      <td>3</td>\n",
       "      <td>0</td>\n",
       "      <td>0</td>\n",
       "      <td>0</td>\n",
       "      <td>1</td>\n",
       "    </tr>\n",
       "    <tr>\n",
       "      <th>23</th>\n",
       "      <td>Three UK bankers must wait until the middle of...</td>\n",
       "      <td>Business</td>\n",
       "      <td>3</td>\n",
       "      <td>0</td>\n",
       "      <td>0</td>\n",
       "      <td>0</td>\n",
       "      <td>1</td>\n",
       "    </tr>\n",
       "    <tr>\n",
       "      <th>25</th>\n",
       "      <td>Moody #39;s Investors Service on Friday said i...</td>\n",
       "      <td>Business</td>\n",
       "      <td>3</td>\n",
       "      <td>0</td>\n",
       "      <td>0</td>\n",
       "      <td>0</td>\n",
       "      <td>1</td>\n",
       "    </tr>\n",
       "    <tr>\n",
       "      <th>27</th>\n",
       "      <td>THE already healthy order book of Airbus in Br...</td>\n",
       "      <td>Business</td>\n",
       "      <td>3</td>\n",
       "      <td>0</td>\n",
       "      <td>0</td>\n",
       "      <td>0</td>\n",
       "      <td>1</td>\n",
       "    </tr>\n",
       "    <tr>\n",
       "      <th>45</th>\n",
       "      <td>ATLANTA (Reuters) - Home improvement retailin...</td>\n",
       "      <td>Business</td>\n",
       "      <td>3</td>\n",
       "      <td>0</td>\n",
       "      <td>0</td>\n",
       "      <td>0</td>\n",
       "      <td>1</td>\n",
       "    </tr>\n",
       "    <tr>\n",
       "      <th>50</th>\n",
       "      <td>Gamblers left more than \\$1.3 billion in Arizo...</td>\n",
       "      <td>Business</td>\n",
       "      <td>3</td>\n",
       "      <td>0</td>\n",
       "      <td>0</td>\n",
       "      <td>0</td>\n",
       "      <td>1</td>\n",
       "    </tr>\n",
       "    <tr>\n",
       "      <th>56</th>\n",
       "      <td>Irish china and glassmaker Waterford Wedgwood ...</td>\n",
       "      <td>Business</td>\n",
       "      <td>3</td>\n",
       "      <td>0</td>\n",
       "      <td>0</td>\n",
       "      <td>0</td>\n",
       "      <td>1</td>\n",
       "    </tr>\n",
       "    <tr>\n",
       "      <th>57</th>\n",
       "      <td>Japan #39;s economy will be the most severely ...</td>\n",
       "      <td>Business</td>\n",
       "      <td>3</td>\n",
       "      <td>0</td>\n",
       "      <td>0</td>\n",
       "      <td>0</td>\n",
       "      <td>1</td>\n",
       "    </tr>\n",
       "    <tr>\n",
       "      <th>60</th>\n",
       "      <td>NEW YORK (Reuters) - Blue-chip stocks opened ...</td>\n",
       "      <td>Business</td>\n",
       "      <td>3</td>\n",
       "      <td>0</td>\n",
       "      <td>0</td>\n",
       "      <td>0</td>\n",
       "      <td>1</td>\n",
       "    </tr>\n",
       "  </tbody>\n",
       "</table>\n",
       "</div>"
      ],
      "text/plain": [
       "                                                 text     label  label_int  \\\n",
       "0   John Souza, a volunteer with the Boone County ...  Business          3   \n",
       "5   Delta Air Lines #39; decision to close its hub...  Business          3   \n",
       "8   There #39;s a reason that smiling Salvation Ar...  Business          3   \n",
       "11  Liverpool could be about to be taken over by a...  Business          3   \n",
       "16  FRANKFURT, Oct 9 (AFP) - Germany #39;s Deutsch...  Business          3   \n",
       "19  AFP - What do you do when you've got billions ...  Business          3   \n",
       "22  Coca-Cola Amatil, the leading Australian soft ...  Business          3   \n",
       "23  Three UK bankers must wait until the middle of...  Business          3   \n",
       "25  Moody #39;s Investors Service on Friday said i...  Business          3   \n",
       "27  THE already healthy order book of Airbus in Br...  Business          3   \n",
       "45   ATLANTA (Reuters) - Home improvement retailin...  Business          3   \n",
       "50  Gamblers left more than \\$1.3 billion in Arizo...  Business          3   \n",
       "56  Irish china and glassmaker Waterford Wedgwood ...  Business          3   \n",
       "57  Japan #39;s economy will be the most severely ...  Business          3   \n",
       "60   NEW YORK (Reuters) - Blue-chip stocks opened ...  Business          3   \n",
       "\n",
       "    science_int  sports_int  world_int  business_int  \n",
       "0             0           0          0             1  \n",
       "5             0           0          0             1  \n",
       "8             0           0          0             1  \n",
       "11            0           0          0             1  \n",
       "16            0           0          0             1  \n",
       "19            0           0          0             1  \n",
       "22            0           0          0             1  \n",
       "23            0           0          0             1  \n",
       "25            0           0          0             1  \n",
       "27            0           0          0             1  \n",
       "45            0           0          0             1  \n",
       "50            0           0          0             1  \n",
       "56            0           0          0             1  \n",
       "57            0           0          0             1  \n",
       "60            0           0          0             1  "
      ]
     },
     "execution_count": 88,
     "metadata": {},
     "output_type": "execute_result"
    }
   ],
   "source": [
    "train_ag[train_ag.business_int==1].head(15)"
   ]
  },
  {
   "cell_type": "code",
   "execution_count": 89,
   "metadata": {},
   "outputs": [
    {
     "data": {
      "text/plain": [
       "'Three UK bankers must wait until the middle of October to see if they will be extradited to the US over an Enron-related case.'"
      ]
     },
     "execution_count": 89,
     "metadata": {},
     "output_type": "execute_result"
    }
   ],
   "source": [
    "train_ag[train_ag.business_int==1].text.iloc[7]"
   ]
  },
  {
   "cell_type": "code",
   "execution_count": 90,
   "metadata": {},
   "outputs": [
    {
     "data": {
      "text/plain": [
       "'Gamblers left more than \\\\$1.3 billion in Arizona Indian casinos in fiscal 2004, demonstrating an appetite for slot machines and cards that shows no signs of ebbing.'"
      ]
     },
     "execution_count": 90,
     "metadata": {},
     "output_type": "execute_result"
    }
   ],
   "source": [
    "train_ag[train_ag.business_int==1].text.iloc[11]"
   ]
  },
  {
   "cell_type": "code",
   "execution_count": 91,
   "metadata": {},
   "outputs": [
    {
     "name": "stdout",
     "output_type": "stream",
     "text": [
      "prediction_score=-0.744 bias=-0.7443188804084889\n",
      "prediction_score=-0.365 fdim=54408, fword=\"uk\", value=0.5685, weight=0.6673, score=0.3793\n",
      "prediction_score=0.663 fdim= 6200, fword=\"bankers\", value=0.8227, weight=1.2491, score=1.0276\n"
     ]
    },
    {
     "data": {
      "text/plain": [
       "0.6626629736697076"
      ]
     },
     "execution_count": 91,
     "metadata": {},
     "output_type": "execute_result"
    }
   ],
   "source": [
    "prediction_score_breakdown(ag_sgd_bu,'UK bankers')"
   ]
  },
  {
   "cell_type": "markdown",
   "metadata": {},
   "source": [
    "The sentence 'UK bankers' gives us a final prediction score of 0.66 and is therefore classified as 1 (positive class)."
   ]
  },
  {
   "cell_type": "code",
   "execution_count": 92,
   "metadata": {},
   "outputs": [
    {
     "name": "stdout",
     "output_type": "stream",
     "text": [
      "prediction_score=-0.744 bias=-0.7443188804084889\n",
      "prediction_score=-0.648 fdim=52459, fword=\"than\", value=0.1934, weight=0.4983, score=0.0963\n",
      "prediction_score=-0.642 fdim=34757, fword=\"more\", value=0.1851, weight=0.0329, score=0.0061\n",
      "prediction_score=-0.950 fdim=30565, fword=\"left\", value=0.2507, weight=-1.2273, score=-0.3076\n",
      "prediction_score=-0.945 fdim=26604, fword=\"indian\", value=0.3041, weight=0.0145, score=0.0044\n",
      "prediction_score=-0.932 fdim=26414, fword=\"in\", value=0.1665, weight=0.0804, score=0.0134\n",
      "prediction_score=-0.853 fdim=21814, fword=\"gamblers\", value=0.4813, weight=0.1640, score=0.0789\n",
      "prediction_score=-0.580 fdim=20390, fword=\"fiscal\", value=0.3336, weight=0.8167, score=0.2725\n",
      "prediction_score=0.450 fdim=10072, fword=\"casinos\", value=0.4279, weight=2.4071, score=1.0300\n",
      "prediction_score=0.864 fdim= 7315, fword=\"billion\", value=0.2313, weight=1.7921, score=0.4145\n",
      "prediction_score=0.885 fdim= 4831, fword=\"arizona\", value=0.3387, weight=0.0609, score=0.0206\n",
      "prediction_score=0.839 fdim=  641, fword=\"2004\", value=0.2257, weight=-0.2046, score=-0.0462\n"
     ]
    },
    {
     "data": {
      "text/plain": [
       "0.8386232312666246"
      ]
     },
     "execution_count": 92,
     "metadata": {},
     "output_type": "execute_result"
    }
   ],
   "source": [
    "prediction_score_breakdown(ag_sgd_bu,'Gamblers left more than \\\\$1.3 billion in Arizona Indian casinos in fiscal 2004')"
   ]
  },
  {
   "cell_type": "markdown",
   "metadata": {},
   "source": [
    "The sentence 'Gamblers left more than \\\\$1.3 billion in Arizona Indian casinos in fiscal 2004' gives us a final prediction score of 0.84 and is therefore classified as 1 (positive class)."
   ]
  },
  {
   "cell_type": "markdown",
   "metadata": {},
   "source": [
    "## 4.3 Bag-of-ngrams (and Grid-Search in sklearn)"
   ]
  },
  {
   "cell_type": "markdown",
   "metadata": {},
   "source": [
    "As a simple bag-of-words model has  many limitations, i.e. it completely ignores word order, and\n",
    "can shuffle meaning, we are also training a Bag-of-ngrams, which provides a simple generalization of words (n-grams). If a sentence is a sequence of words, then an ngram is a subsequence of size n. As such, a word is a 1-gram (unigram), while two consecutive words are a 2-gram (bigram). Therefore, we will train a more sophisticated model. \n",
    "\n",
    "\n",
    "First, global functions and variables needed to train SGD classifiers have been defined. "
   ]
  },
  {
   "cell_type": "markdown",
   "metadata": {},
   "source": [
    "A convenience function has been created to check the exploration of grid search."
   ]
  },
  {
   "cell_type": "code",
   "execution_count": 93,
   "metadata": {},
   "outputs": [],
   "source": [
    "from sklearn.model_selection import GridSearchCV\n",
    "\n",
    "def crossvalidation_report_df(grid_cv):\n",
    "    \"\"\"Convenience function.\n",
    "    Creates a simple dataframe that reports the results of a\n",
    "    cros-validation experiment. The input grid_cv must be fit.\n",
    "    Returns a dataframe, sorted by rank of experiment.\n",
    "    \"\"\"\n",
    "    # pick columns that define each experiment (start with param)\n",
    "    # and the columns that report mean_test and rank_test results\n",
    "    cols = [c for c in grid_cv.cv_results_ if (c.startswith('param') or\n",
    "                                               c in ['mean_test_score', 'rank_test_score'])]\n",
    "    # sort original df by rank, and select columns\n",
    "    return pd.DataFrame(grid_cv.cv_results_).sort_values(by='rank_test_score')[cols]"
   ]
  },
  {
   "cell_type": "markdown",
   "metadata": {},
   "source": [
    "We also defined one grid-search for SGD as following:"
   ]
  },
  {
   "cell_type": "code",
   "execution_count": 94,
   "metadata": {},
   "outputs": [],
   "source": [
    "# this defines the base sklearn pipeline we want tot tune\n",
    "sgd_grid_estimator = Pipeline([\n",
    "    ('vect', CountVectorizer()),\n",
    "    ('tfidf', TfidfTransformer(use_idf=True)),\n",
    "    ('clf', SGDClassifier(loss='hinge', penalty='l2', random_state=42, \n",
    "                          max_iter=100, tol=None)),\n",
    "])\n",
    "\n",
    "# this defines the configurations\n",
    "sgd_grid_parameters = {\n",
    "    'vect__ngram_range': [(1, 1), (1, 2), (1,3)],\n",
    "    'clf__alpha': (1e-3, 1e-6, 1e-9, 1e-12)\n",
    "}\n",
    "\n",
    "# we create\n",
    "sgd_grid = GridSearchCV(sgd_grid_estimator, sgd_grid_parameters, verbose=1)"
   ]
  },
  {
   "cell_type": "code",
   "execution_count": 95,
   "metadata": {},
   "outputs": [],
   "source": [
    "def ngram_order(f):\n",
    "  \"\"\"Returns the ngram order of a feature. \"\"\"\n",
    "  return len(f.split())"
   ]
  },
  {
   "cell_type": "markdown",
   "metadata": {},
   "source": [
    "In the section 4.3.1-4.3.4 we we will learn SGD classifiers using unigram, bigram, and trigram representations of text. By using the grid search and 5-fold cross validation on each model for each classifier, we can tune the different hyperparameters of the model, specifically the alpha regularization constant. \n",
    "\n",
    "The following steps are repeated for all four classifiers: \n",
    "1. First, we train a sgd_grid on the train.text set as well as the train set for the respective classifier (science_int, sports_int etc.). This provides us with the grid search for each classifier, which trains many models for the respective classifier.\n",
    "2. Then we retrieve the classification report for the grid search which provides us with the information on the different parameters used in a respective model, including the mean test_score and the rank of the test score. \n",
    "3. Afterwards we retrieve the model with the best_estimators/params for each classifier as well as the corresponding classification report. \n",
    "4. Finally, we are looking at the weights and bigram weights for each of the models.\n",
    "\n"
   ]
  },
  {
   "cell_type": "markdown",
   "metadata": {},
   "source": [
    "### 4.3.1 Bag-of-ngrams (and Grid-search in sklearn) - Science News"
   ]
  },
  {
   "cell_type": "code",
   "execution_count": 96,
   "metadata": {},
   "outputs": [
    {
     "name": "stdout",
     "output_type": "stream",
     "text": [
      "Fitting 5 folds for each of 12 candidates, totalling 60 fits\n"
     ]
    },
    {
     "data": {
      "text/plain": [
       "GridSearchCV(estimator=Pipeline(steps=[('vect', CountVectorizer()),\n",
       "                                       ('tfidf', TfidfTransformer()),\n",
       "                                       ('clf',\n",
       "                                        SGDClassifier(max_iter=100,\n",
       "                                                      random_state=42,\n",
       "                                                      tol=None))]),\n",
       "             param_grid={'clf__alpha': (0.001, 1e-06, 1e-09, 1e-12),\n",
       "                         'vect__ngram_range': [(1, 1), (1, 2), (1, 3)]},\n",
       "             verbose=1)"
      ]
     },
     "execution_count": 96,
     "metadata": {},
     "output_type": "execute_result"
    }
   ],
   "source": [
    "sgd_grid.fit(train_ag.text, train_ag.science_int)"
   ]
  },
  {
   "cell_type": "code",
   "execution_count": 97,
   "metadata": {},
   "outputs": [
    {
     "data": {
      "text/html": [
       "<div>\n",
       "<style scoped>\n",
       "    .dataframe tbody tr th:only-of-type {\n",
       "        vertical-align: middle;\n",
       "    }\n",
       "\n",
       "    .dataframe tbody tr th {\n",
       "        vertical-align: top;\n",
       "    }\n",
       "\n",
       "    .dataframe thead th {\n",
       "        text-align: right;\n",
       "    }\n",
       "</style>\n",
       "<table border=\"1\" class=\"dataframe\">\n",
       "  <thead>\n",
       "    <tr style=\"text-align: right;\">\n",
       "      <th></th>\n",
       "      <th>param_clf__alpha</th>\n",
       "      <th>param_vect__ngram_range</th>\n",
       "      <th>params</th>\n",
       "      <th>mean_test_score</th>\n",
       "      <th>rank_test_score</th>\n",
       "    </tr>\n",
       "  </thead>\n",
       "  <tbody>\n",
       "    <tr>\n",
       "      <th>5</th>\n",
       "      <td>0.000001</td>\n",
       "      <td>(1, 3)</td>\n",
       "      <td>{'clf__alpha': 1e-06, 'vect__ngram_range': (1,...</td>\n",
       "      <td>0.942181</td>\n",
       "      <td>1</td>\n",
       "    </tr>\n",
       "    <tr>\n",
       "      <th>4</th>\n",
       "      <td>0.000001</td>\n",
       "      <td>(1, 2)</td>\n",
       "      <td>{'clf__alpha': 1e-06, 'vect__ngram_range': (1,...</td>\n",
       "      <td>0.940327</td>\n",
       "      <td>2</td>\n",
       "    </tr>\n",
       "    <tr>\n",
       "      <th>8</th>\n",
       "      <td>0.0</td>\n",
       "      <td>(1, 3)</td>\n",
       "      <td>{'clf__alpha': 1e-09, 'vect__ngram_range': (1,...</td>\n",
       "      <td>0.935690</td>\n",
       "      <td>3</td>\n",
       "    </tr>\n",
       "    <tr>\n",
       "      <th>11</th>\n",
       "      <td>0.0</td>\n",
       "      <td>(1, 3)</td>\n",
       "      <td>{'clf__alpha': 1e-12, 'vect__ngram_range': (1,...</td>\n",
       "      <td>0.935009</td>\n",
       "      <td>4</td>\n",
       "    </tr>\n",
       "    <tr>\n",
       "      <th>7</th>\n",
       "      <td>0.0</td>\n",
       "      <td>(1, 2)</td>\n",
       "      <td>{'clf__alpha': 1e-09, 'vect__ngram_range': (1,...</td>\n",
       "      <td>0.932999</td>\n",
       "      <td>5</td>\n",
       "    </tr>\n",
       "    <tr>\n",
       "      <th>10</th>\n",
       "      <td>0.0</td>\n",
       "      <td>(1, 2)</td>\n",
       "      <td>{'clf__alpha': 1e-12, 'vect__ngram_range': (1,...</td>\n",
       "      <td>0.932745</td>\n",
       "      <td>6</td>\n",
       "    </tr>\n",
       "    <tr>\n",
       "      <th>3</th>\n",
       "      <td>0.000001</td>\n",
       "      <td>(1, 1)</td>\n",
       "      <td>{'clf__alpha': 1e-06, 'vect__ngram_range': (1,...</td>\n",
       "      <td>0.926354</td>\n",
       "      <td>7</td>\n",
       "    </tr>\n",
       "    <tr>\n",
       "      <th>6</th>\n",
       "      <td>0.0</td>\n",
       "      <td>(1, 1)</td>\n",
       "      <td>{'clf__alpha': 1e-09, 'vect__ngram_range': (1,...</td>\n",
       "      <td>0.903808</td>\n",
       "      <td>8</td>\n",
       "    </tr>\n",
       "    <tr>\n",
       "      <th>9</th>\n",
       "      <td>0.0</td>\n",
       "      <td>(1, 1)</td>\n",
       "      <td>{'clf__alpha': 1e-12, 'vect__ngram_range': (1,...</td>\n",
       "      <td>0.903435</td>\n",
       "      <td>9</td>\n",
       "    </tr>\n",
       "    <tr>\n",
       "      <th>0</th>\n",
       "      <td>0.001</td>\n",
       "      <td>(1, 1)</td>\n",
       "      <td>{'clf__alpha': 0.001, 'vect__ngram_range': (1,...</td>\n",
       "      <td>0.822726</td>\n",
       "      <td>10</td>\n",
       "    </tr>\n",
       "    <tr>\n",
       "      <th>1</th>\n",
       "      <td>0.001</td>\n",
       "      <td>(1, 2)</td>\n",
       "      <td>{'clf__alpha': 0.001, 'vect__ngram_range': (1,...</td>\n",
       "      <td>0.757498</td>\n",
       "      <td>11</td>\n",
       "    </tr>\n",
       "    <tr>\n",
       "      <th>2</th>\n",
       "      <td>0.001</td>\n",
       "      <td>(1, 3)</td>\n",
       "      <td>{'clf__alpha': 0.001, 'vect__ngram_range': (1,...</td>\n",
       "      <td>0.753670</td>\n",
       "      <td>12</td>\n",
       "    </tr>\n",
       "  </tbody>\n",
       "</table>\n",
       "</div>"
      ],
      "text/plain": [
       "   param_clf__alpha param_vect__ngram_range  \\\n",
       "5          0.000001                  (1, 3)   \n",
       "4          0.000001                  (1, 2)   \n",
       "8               0.0                  (1, 3)   \n",
       "11              0.0                  (1, 3)   \n",
       "7               0.0                  (1, 2)   \n",
       "10              0.0                  (1, 2)   \n",
       "3          0.000001                  (1, 1)   \n",
       "6               0.0                  (1, 1)   \n",
       "9               0.0                  (1, 1)   \n",
       "0             0.001                  (1, 1)   \n",
       "1             0.001                  (1, 2)   \n",
       "2             0.001                  (1, 3)   \n",
       "\n",
       "                                               params  mean_test_score  \\\n",
       "5   {'clf__alpha': 1e-06, 'vect__ngram_range': (1,...         0.942181   \n",
       "4   {'clf__alpha': 1e-06, 'vect__ngram_range': (1,...         0.940327   \n",
       "8   {'clf__alpha': 1e-09, 'vect__ngram_range': (1,...         0.935690   \n",
       "11  {'clf__alpha': 1e-12, 'vect__ngram_range': (1,...         0.935009   \n",
       "7   {'clf__alpha': 1e-09, 'vect__ngram_range': (1,...         0.932999   \n",
       "10  {'clf__alpha': 1e-12, 'vect__ngram_range': (1,...         0.932745   \n",
       "3   {'clf__alpha': 1e-06, 'vect__ngram_range': (1,...         0.926354   \n",
       "6   {'clf__alpha': 1e-09, 'vect__ngram_range': (1,...         0.903808   \n",
       "9   {'clf__alpha': 1e-12, 'vect__ngram_range': (1,...         0.903435   \n",
       "0   {'clf__alpha': 0.001, 'vect__ngram_range': (1,...         0.822726   \n",
       "1   {'clf__alpha': 0.001, 'vect__ngram_range': (1,...         0.757498   \n",
       "2   {'clf__alpha': 0.001, 'vect__ngram_range': (1,...         0.753670   \n",
       "\n",
       "    rank_test_score  \n",
       "5                 1  \n",
       "4                 2  \n",
       "8                 3  \n",
       "11                4  \n",
       "7                 5  \n",
       "10                6  \n",
       "3                 7  \n",
       "6                 8  \n",
       "9                 9  \n",
       "0                10  \n",
       "1                11  \n",
       "2                12  "
      ]
     },
     "execution_count": 97,
     "metadata": {},
     "output_type": "execute_result"
    }
   ],
   "source": [
    "crossvalidation_report_df(sgd_grid)"
   ]
  },
  {
   "cell_type": "code",
   "execution_count": 98,
   "metadata": {},
   "outputs": [
    {
     "name": "stdout",
     "output_type": "stream",
     "text": [
      "BEST PARAMS: {'clf__alpha': 1e-06, 'vect__ngram_range': (1, 3)}\n",
      "                            precision    recall  f1-score   support\n",
      "\n",
      "negative (no science news)       0.96      0.96      0.96      7463\n",
      "   positive (science news)       0.89      0.88      0.88      2537\n",
      "\n",
      "                  accuracy                           0.94     10000\n",
      "                 macro avg       0.92      0.92      0.92     10000\n",
      "              weighted avg       0.94      0.94      0.94     10000\n",
      "\n"
     ]
    }
   ],
   "source": [
    "sgd_best_sc = sgd_grid.best_estimator_\n",
    "print('BEST PARAMS:', sgd_grid.best_params_)\n",
    "\n",
    "print(classification_report(test_ag.science_int,\n",
    "                            sgd_best_sc.predict(test_ag.text),\n",
    "                            target_names=['negative (no science news)','positive (science news)']))"
   ]
  },
  {
   "cell_type": "markdown",
   "metadata": {},
   "source": [
    "**Interpretation**: The best model has the params 'clf__alpha': 1e-06, 'vect__ngram_range': (1, 3). It yields an accuracy of 94% as well as high recall and precision scores for both classes. "
   ]
  },
  {
   "cell_type": "code",
   "execution_count": 99,
   "metadata": {},
   "outputs": [],
   "source": [
    "sgd_best_weights_sc = sort_feature_weights(sgd_best_sc)"
   ]
  },
  {
   "cell_type": "code",
   "execution_count": 100,
   "metadata": {},
   "outputs": [],
   "source": [
    "sgd_best_weights_sc = sorted(sgd_best_weights_sc, key=lambda fw: fw[1], reverse=True)"
   ]
  },
  {
   "cell_type": "code",
   "execution_count": 101,
   "metadata": {},
   "outputs": [
    {
     "name": "stdout",
     "output_type": "stream",
     "text": [
      "Model weights associated with science news (positive class)\n"
     ]
    },
    {
     "data": {
      "text/plain": [
       "[('space', 6.972020305040656),\n",
       " ('nasa', 6.179498853227548),\n",
       " ('ap', 5.7653529529006535),\n",
       " ('software', 5.622390981053731),\n",
       " ('internet', 5.58180773499295),\n",
       " ('scientists', 5.276840142752125),\n",
       " ('apple', 5.081326025352972),\n",
       " ('washingtonpost com', 4.932115143073133),\n",
       " ('linux', 4.86421991498195),\n",
       " ('microsoft', 4.813672429660281),\n",
       " ('washingtonpost', 4.765994811189612),\n",
       " ('web', 4.72717185379651),\n",
       " ('reuters', 4.554448317728398),\n",
       " ('online', 4.517296469892175),\n",
       " ('com', 4.507327626459249),\n",
       " ('computer', 4.273914072157427),\n",
       " ('science', 4.171190849282465),\n",
       " ('technology', 4.134804864225583),\n",
       " ('researchers', 3.8215106047691636),\n",
       " ('spam', 3.8081190992356833)]"
      ]
     },
     "execution_count": 101,
     "metadata": {},
     "output_type": "execute_result"
    }
   ],
   "source": [
    "print('Model weights associated with science news (positive class)')\n",
    "sgd_best_weights_sc[:20]"
   ]
  },
  {
   "cell_type": "code",
   "execution_count": 102,
   "metadata": {},
   "outputs": [
    {
     "name": "stdout",
     "output_type": "stream",
     "text": [
      "Model weights associated with none science news (negative class)\n"
     ]
    },
    {
     "data": {
      "text/plain": [
       "[('seattle', -2.549968897771642),\n",
       " ('economic', -2.5551194790483382),\n",
       " ('sbc', -2.564946459898931),\n",
       " ('president', -2.6477741046993537),\n",
       " ('economy', -2.6702023332389104),\n",
       " ('us', -2.712888052571279),\n",
       " ('cup', -2.716520423210864),\n",
       " ('oil', -2.726175789844483),\n",
       " ('his', -2.733506017831803),\n",
       " ('toronto', -2.735568687100355),\n",
       " ('stocks', -2.753429933041969),\n",
       " ('saturday', -2.7761079893947485),\n",
       " ('sunday', -3.0263704670498925),\n",
       " ('new york', -3.1607744919108125),\n",
       " ('york', -3.2036393281031943),\n",
       " ('iraq', -3.2302278958749238),\n",
       " ('football', -3.2604423961030666),\n",
       " ('coach', -3.3284309900532754),\n",
       " ('yesterday', -4.014380153352625),\n",
       " ('hellip', -4.204872184506804)]"
      ]
     },
     "execution_count": 102,
     "metadata": {},
     "output_type": "execute_result"
    }
   ],
   "source": [
    "print('Model weights associated with none science news (negative class)')\n",
    "sgd_best_weights_sc[-20:]"
   ]
  },
  {
   "cell_type": "code",
   "execution_count": 103,
   "metadata": {},
   "outputs": [
    {
     "name": "stdout",
     "output_type": "stream",
     "text": [
      "Bigram weights associated with science news (positive class)\n"
     ]
    },
    {
     "data": {
      "text/plain": [
       "[('washingtonpost com', 4.932115143073133),\n",
       " ('ap microsoft', 2.8235089081453353),\n",
       " ('washington ap', 2.737081618852527),\n",
       " ('pt organizations', 2.5673973765859657),\n",
       " ('video game', 2.5024425732938522),\n",
       " ('ap google', 2.4660454511030663),\n",
       " ('reuters online', 2.4372809455977307),\n",
       " ('36 billion', 2.4263923820860582),\n",
       " ('at corp', 2.3930709743843335),\n",
       " ('ap computer', 2.3580804723387816),\n",
       " ('open source', 2.3068161182748583),\n",
       " ('video games', 2.226701208250651),\n",
       " ('afp after', 2.1518492548910793),\n",
       " ('ziff davis', 2.1108969642562703),\n",
       " ('york ap', 2.0234104222410916),\n",
       " ('global warming', 2.007491012943962),\n",
       " ('big blue', 2.003226367188843),\n",
       " ('ft com', 1.9747808357972776),\n",
       " ('reports from', 1.9661636329731655),\n",
       " ('ap india', 1.950465473410667)]"
      ]
     },
     "execution_count": 103,
     "metadata": {},
     "output_type": "execute_result"
    }
   ],
   "source": [
    "print('Bigram weights associated with science news (positive class)')\n",
    "[fw for fw in sgd_best_weights_sc if ngram_order(fw[0])==2][:20]"
   ]
  },
  {
   "cell_type": "code",
   "execution_count": 104,
   "metadata": {},
   "outputs": [
    {
     "name": "stdout",
     "output_type": "stream",
     "text": [
      "Bigram weights associated with none science news (negative class)\n"
     ]
    },
    {
     "data": {
      "text/plain": [
       "[('will buy', -1.7982896313011354),\n",
       " ('seattle microsoft', -1.822153760222281),\n",
       " ('2004 58', -1.8225935233746489),\n",
       " ('58 am', -1.8225935233746489),\n",
       " ('peoplesoft 39', -1.846814583195195),\n",
       " ('inc 39', -1.849536455312391),\n",
       " ('uk mobile', -1.8576289387151166),\n",
       " ('bangkok reuters', -1.8810500983262661),\n",
       " ('administration initiative', -2.003181762148954),\n",
       " ('said yesterday', -2.0314842409070804),\n",
       " ('francisco reuters', -2.0703344377916406),\n",
       " ('york top', -2.111659897583624),\n",
       " ('19 pm', -2.2451205060146413),\n",
       " ('hellip and', -2.250494191208656),\n",
       " ('company 39', -2.284513951265857),\n",
       " ('39 largest', -2.3213619590773877),\n",
       " ('inc the', -2.457322703887225),\n",
       " ('canadian press', -2.4759973241844295),\n",
       " ('oracle 39', -2.519049495979108),\n",
       " ('new york', -3.1607744919108125)]"
      ]
     },
     "execution_count": 104,
     "metadata": {},
     "output_type": "execute_result"
    }
   ],
   "source": [
    "print('Bigram weights associated with none science news (negative class)')\n",
    "[fw for fw in sgd_best_weights_sc if len(fw[0].split())==2][-20:]"
   ]
  },
  {
   "cell_type": "code",
   "execution_count": 105,
   "metadata": {},
   "outputs": [
    {
     "data": {
      "text/plain": [
       "array([0.56149461])"
      ]
     },
     "execution_count": 105,
     "metadata": {},
     "output_type": "execute_result"
    }
   ],
   "source": [
    "sgd_best_sc.decision_function(['Computer Associates today officially announced that John Swainson'])"
   ]
  },
  {
   "cell_type": "code",
   "execution_count": 106,
   "metadata": {},
   "outputs": [
    {
     "name": "stdout",
     "output_type": "stream",
     "text": [
      "prediction_score=-0.393 bias=-0.39300439663851117\n",
      "prediction_score=-0.343 fdim=2547356, fword=\"today officially announced\", value=0.2715, weight=0.1847, score=0.0502\n",
      "prediction_score=-0.259 fdim=2547355, fword=\"today officially\", value=0.2580, weight=0.3241, score=0.0836\n",
      "prediction_score=-0.337 fdim=2545496, fword=\"today\", value=0.1039, weight=-0.7514, score=-0.0781\n",
      "prediction_score=-0.287 fdim=2353013, fword=\"that john swainson\", value=0.2785, weight=0.1788, score=0.0498\n",
      "prediction_score=-0.305 fdim=2353005, fword=\"that john\", value=0.2380, weight=-0.0722, score=-0.0172\n",
      "prediction_score=-0.248 fdim=2344755, fword=\"that\", value=0.0624, weight=0.9117, score=0.0569\n",
      "prediction_score=-0.321 fdim=2297397, fword=\"swainson\", value=0.2303, weight=-0.3184, score=-0.0733\n",
      "prediction_score=-0.271 fdim=1707559, fword=\"officially announced that\", value=0.2785, weight=0.1788, score=0.0498\n",
      "prediction_score=-0.234 fdim=1707552, fword=\"officially announced\", value=0.2396, weight=0.1539, score=0.0369\n",
      "prediction_score=-0.110 fdim=1707543, fword=\"officially\", value=0.1745, weight=0.7161, score=0.1249\n",
      "prediction_score=-0.155 fdim=1327883, fword=\"john swainson\", value=0.2314, weight=-0.1958, score=-0.0453\n",
      "prediction_score=-0.244 fdim=1326789, fword=\"john\", value=0.1247, weight=-0.7115, score=-0.0888\n",
      "prediction_score=-0.194 fdim=602599, fword=\"computer associates today\", value=0.2785, weight=0.1788, score=0.0498\n",
      "prediction_score=-0.197 fdim=602561, fword=\"computer associates\", value=0.1782, weight=-0.0186, score=-0.0033\n",
      "prediction_score=0.310 fdim=602426, fword=\"computer\", value=0.1187, weight=4.2739, score=0.5073\n",
      "prediction_score=0.360 fdim=300543, fword=\"associates today officially\", value=0.2785, weight=0.1788, score=0.0498\n",
      "prediction_score=0.410 fdim=300542, fword=\"associates today\", value=0.2785, weight=0.1788, score=0.0498\n",
      "prediction_score=0.327 fdim=300357, fword=\"associates\", value=0.1713, weight=-0.4855, score=-0.0832\n",
      "prediction_score=0.376 fdim=237714, fword=\"announced that john\", value=0.2785, weight=0.1788, score=0.0498\n",
      "prediction_score=0.440 fdim=237664, fword=\"announced that\", value=0.1600, weight=0.4002, score=0.0640\n",
      "prediction_score=0.561 fdim=236636, fword=\"announced\", value=0.1105, weight=1.0949, score=0.1210\n"
     ]
    },
    {
     "data": {
      "text/plain": [
       "0.5614946082099066"
      ]
     },
     "execution_count": 106,
     "metadata": {},
     "output_type": "execute_result"
    }
   ],
   "source": [
    "prediction_score_breakdown(sgd_best_sc,'Computer Associates today officially announced that John Swainson')"
   ]
  },
  {
   "cell_type": "markdown",
   "metadata": {},
   "source": [
    "The sentence 'Computer Associates today officially announced that John Swainson' gives us a final prediction score of 0.56 and is therefore classified as 1 (positive class)."
   ]
  },
  {
   "cell_type": "markdown",
   "metadata": {},
   "source": [
    "### 4.3.1 Bag-of-ngrams (and Grid-search in sklearn) - Sports News"
   ]
  },
  {
   "cell_type": "code",
   "execution_count": 107,
   "metadata": {},
   "outputs": [
    {
     "name": "stdout",
     "output_type": "stream",
     "text": [
      "Fitting 5 folds for each of 12 candidates, totalling 60 fits\n"
     ]
    },
    {
     "data": {
      "text/plain": [
       "GridSearchCV(estimator=Pipeline(steps=[('vect', CountVectorizer()),\n",
       "                                       ('tfidf', TfidfTransformer()),\n",
       "                                       ('clf',\n",
       "                                        SGDClassifier(max_iter=100,\n",
       "                                                      random_state=42,\n",
       "                                                      tol=None))]),\n",
       "             param_grid={'clf__alpha': (0.001, 1e-06, 1e-09, 1e-12),\n",
       "                         'vect__ngram_range': [(1, 1), (1, 2), (1, 3)]},\n",
       "             verbose=1)"
      ]
     },
     "execution_count": 107,
     "metadata": {},
     "output_type": "execute_result"
    }
   ],
   "source": [
    "sgd_grid.fit(train_ag.text, train_ag.sports_int)"
   ]
  },
  {
   "cell_type": "code",
   "execution_count": 108,
   "metadata": {},
   "outputs": [
    {
     "data": {
      "text/html": [
       "<div>\n",
       "<style scoped>\n",
       "    .dataframe tbody tr th:only-of-type {\n",
       "        vertical-align: middle;\n",
       "    }\n",
       "\n",
       "    .dataframe tbody tr th {\n",
       "        vertical-align: top;\n",
       "    }\n",
       "\n",
       "    .dataframe thead th {\n",
       "        text-align: right;\n",
       "    }\n",
       "</style>\n",
       "<table border=\"1\" class=\"dataframe\">\n",
       "  <thead>\n",
       "    <tr style=\"text-align: right;\">\n",
       "      <th></th>\n",
       "      <th>param_clf__alpha</th>\n",
       "      <th>param_vect__ngram_range</th>\n",
       "      <th>params</th>\n",
       "      <th>mean_test_score</th>\n",
       "      <th>rank_test_score</th>\n",
       "    </tr>\n",
       "  </thead>\n",
       "  <tbody>\n",
       "    <tr>\n",
       "      <th>5</th>\n",
       "      <td>0.000001</td>\n",
       "      <td>(1, 3)</td>\n",
       "      <td>{'clf__alpha': 1e-06, 'vect__ngram_range': (1,...</td>\n",
       "      <td>0.982236</td>\n",
       "      <td>1</td>\n",
       "    </tr>\n",
       "    <tr>\n",
       "      <th>4</th>\n",
       "      <td>0.000001</td>\n",
       "      <td>(1, 2)</td>\n",
       "      <td>{'clf__alpha': 1e-06, 'vect__ngram_range': (1,...</td>\n",
       "      <td>0.981982</td>\n",
       "      <td>2</td>\n",
       "    </tr>\n",
       "    <tr>\n",
       "      <th>8</th>\n",
       "      <td>0.0</td>\n",
       "      <td>(1, 3)</td>\n",
       "      <td>{'clf__alpha': 1e-09, 'vect__ngram_range': (1,...</td>\n",
       "      <td>0.977991</td>\n",
       "      <td>3</td>\n",
       "    </tr>\n",
       "    <tr>\n",
       "      <th>7</th>\n",
       "      <td>0.0</td>\n",
       "      <td>(1, 2)</td>\n",
       "      <td>{'clf__alpha': 1e-09, 'vect__ngram_range': (1,...</td>\n",
       "      <td>0.977491</td>\n",
       "      <td>4</td>\n",
       "    </tr>\n",
       "    <tr>\n",
       "      <th>11</th>\n",
       "      <td>0.0</td>\n",
       "      <td>(1, 3)</td>\n",
       "      <td>{'clf__alpha': 1e-12, 'vect__ngram_range': (1,...</td>\n",
       "      <td>0.977482</td>\n",
       "      <td>5</td>\n",
       "    </tr>\n",
       "    <tr>\n",
       "      <th>10</th>\n",
       "      <td>0.0</td>\n",
       "      <td>(1, 2)</td>\n",
       "      <td>{'clf__alpha': 1e-12, 'vect__ngram_range': (1,...</td>\n",
       "      <td>0.977300</td>\n",
       "      <td>6</td>\n",
       "    </tr>\n",
       "    <tr>\n",
       "      <th>3</th>\n",
       "      <td>0.000001</td>\n",
       "      <td>(1, 1)</td>\n",
       "      <td>{'clf__alpha': 1e-06, 'vect__ngram_range': (1,...</td>\n",
       "      <td>0.975718</td>\n",
       "      <td>7</td>\n",
       "    </tr>\n",
       "    <tr>\n",
       "      <th>6</th>\n",
       "      <td>0.0</td>\n",
       "      <td>(1, 1)</td>\n",
       "      <td>{'clf__alpha': 1e-09, 'vect__ngram_range': (1,...</td>\n",
       "      <td>0.969382</td>\n",
       "      <td>8</td>\n",
       "    </tr>\n",
       "    <tr>\n",
       "      <th>9</th>\n",
       "      <td>0.0</td>\n",
       "      <td>(1, 1)</td>\n",
       "      <td>{'clf__alpha': 1e-12, 'vect__ngram_range': (1,...</td>\n",
       "      <td>0.969027</td>\n",
       "      <td>9</td>\n",
       "    </tr>\n",
       "    <tr>\n",
       "      <th>0</th>\n",
       "      <td>0.001</td>\n",
       "      <td>(1, 1)</td>\n",
       "      <td>{'clf__alpha': 0.001, 'vect__ngram_range': (1,...</td>\n",
       "      <td>0.913054</td>\n",
       "      <td>10</td>\n",
       "    </tr>\n",
       "    <tr>\n",
       "      <th>1</th>\n",
       "      <td>0.001</td>\n",
       "      <td>(1, 2)</td>\n",
       "      <td>{'clf__alpha': 0.001, 'vect__ngram_range': (1,...</td>\n",
       "      <td>0.774434</td>\n",
       "      <td>11</td>\n",
       "    </tr>\n",
       "    <tr>\n",
       "      <th>2</th>\n",
       "      <td>0.001</td>\n",
       "      <td>(1, 3)</td>\n",
       "      <td>{'clf__alpha': 0.001, 'vect__ngram_range': (1,...</td>\n",
       "      <td>0.750234</td>\n",
       "      <td>12</td>\n",
       "    </tr>\n",
       "  </tbody>\n",
       "</table>\n",
       "</div>"
      ],
      "text/plain": [
       "   param_clf__alpha param_vect__ngram_range  \\\n",
       "5          0.000001                  (1, 3)   \n",
       "4          0.000001                  (1, 2)   \n",
       "8               0.0                  (1, 3)   \n",
       "7               0.0                  (1, 2)   \n",
       "11              0.0                  (1, 3)   \n",
       "10              0.0                  (1, 2)   \n",
       "3          0.000001                  (1, 1)   \n",
       "6               0.0                  (1, 1)   \n",
       "9               0.0                  (1, 1)   \n",
       "0             0.001                  (1, 1)   \n",
       "1             0.001                  (1, 2)   \n",
       "2             0.001                  (1, 3)   \n",
       "\n",
       "                                               params  mean_test_score  \\\n",
       "5   {'clf__alpha': 1e-06, 'vect__ngram_range': (1,...         0.982236   \n",
       "4   {'clf__alpha': 1e-06, 'vect__ngram_range': (1,...         0.981982   \n",
       "8   {'clf__alpha': 1e-09, 'vect__ngram_range': (1,...         0.977991   \n",
       "7   {'clf__alpha': 1e-09, 'vect__ngram_range': (1,...         0.977491   \n",
       "11  {'clf__alpha': 1e-12, 'vect__ngram_range': (1,...         0.977482   \n",
       "10  {'clf__alpha': 1e-12, 'vect__ngram_range': (1,...         0.977300   \n",
       "3   {'clf__alpha': 1e-06, 'vect__ngram_range': (1,...         0.975718   \n",
       "6   {'clf__alpha': 1e-09, 'vect__ngram_range': (1,...         0.969382   \n",
       "9   {'clf__alpha': 1e-12, 'vect__ngram_range': (1,...         0.969027   \n",
       "0   {'clf__alpha': 0.001, 'vect__ngram_range': (1,...         0.913054   \n",
       "1   {'clf__alpha': 0.001, 'vect__ngram_range': (1,...         0.774434   \n",
       "2   {'clf__alpha': 0.001, 'vect__ngram_range': (1,...         0.750234   \n",
       "\n",
       "    rank_test_score  \n",
       "5                 1  \n",
       "4                 2  \n",
       "8                 3  \n",
       "7                 4  \n",
       "11                5  \n",
       "10                6  \n",
       "3                 7  \n",
       "6                 8  \n",
       "9                 9  \n",
       "0                10  \n",
       "1                11  \n",
       "2                12  "
      ]
     },
     "execution_count": 108,
     "metadata": {},
     "output_type": "execute_result"
    }
   ],
   "source": [
    "crossvalidation_report_df(sgd_grid)"
   ]
  },
  {
   "cell_type": "code",
   "execution_count": 109,
   "metadata": {},
   "outputs": [
    {
     "name": "stdout",
     "output_type": "stream",
     "text": [
      "BEST PARAMS: {'clf__alpha': 1e-06, 'vect__ngram_range': (1, 3)}\n",
      "                           precision    recall  f1-score   support\n",
      "\n",
      "negative (no sports news)       0.99      0.99      0.99      7542\n",
      "   positive (sports news)       0.96      0.98      0.97      2458\n",
      "\n",
      "                 accuracy                           0.98     10000\n",
      "                macro avg       0.98      0.98      0.98     10000\n",
      "             weighted avg       0.98      0.98      0.98     10000\n",
      "\n"
     ]
    }
   ],
   "source": [
    "sgd_best_sp= sgd_grid.best_estimator_\n",
    "print('BEST PARAMS:', sgd_grid.best_params_)\n",
    "\n",
    "print(classification_report(test_ag.sports_int,\n",
    "                            sgd_best_sp.predict(test_ag.text),\n",
    "                            target_names=['negative (no sports news)','positive (sports news)']))"
   ]
  },
  {
   "cell_type": "markdown",
   "metadata": {},
   "source": [
    "**Interpretation**: The best model has the params 'clf__alpha': 1e-06, 'vect__ngram_range': (1, 3). It yields an accuracy of 98% as well as high recall and precision scores for both classes. "
   ]
  },
  {
   "cell_type": "code",
   "execution_count": 110,
   "metadata": {},
   "outputs": [],
   "source": [
    "sgd_best_weights_sp = sort_feature_weights(sgd_best_sp)"
   ]
  },
  {
   "cell_type": "code",
   "execution_count": 111,
   "metadata": {},
   "outputs": [],
   "source": [
    "sgd_best_weights_sp = sorted(sgd_best_weights_sp, key=lambda fw: fw[1], reverse=True)"
   ]
  },
  {
   "cell_type": "code",
   "execution_count": 112,
   "metadata": {},
   "outputs": [
    {
     "name": "stdout",
     "output_type": "stream",
     "text": [
      "Model weights associated with sports news (positive class)\n"
     ]
    },
    {
     "data": {
      "text/plain": [
       "[('coach', 6.739025751176653),\n",
       " ('football', 6.0912009617382505),\n",
       " ('cup', 5.904228005482822),\n",
       " ('team', 5.855044024469009),\n",
       " ('baseball', 5.7566282806769795),\n",
       " ('sports', 5.356850106369681),\n",
       " ('olympic', 5.196378557427717),\n",
       " ('stadium', 4.780375614526318),\n",
       " ('season', 4.724093382219681),\n",
       " ('league', 4.657028570756623),\n",
       " ('teams', 4.573803605722798),\n",
       " ('cricket', 4.559097454724068),\n",
       " ('players', 4.487273301860594),\n",
       " ('ap', 4.343908609976906),\n",
       " ('basketball', 4.269028284680577),\n",
       " ('olympics', 4.069874312133233),\n",
       " ('nascar', 3.8761378379099005),\n",
       " ('quarterback', 3.862160511012124),\n",
       " ('club', 3.670245880632761),\n",
       " ('nhl', 3.6599631616154977)]"
      ]
     },
     "execution_count": 112,
     "metadata": {},
     "output_type": "execute_result"
    }
   ],
   "source": [
    "print('Model weights associated with sports news (positive class)')\n",
    "sgd_best_weights_sp[:20]"
   ]
  },
  {
   "cell_type": "code",
   "execution_count": 113,
   "metadata": {},
   "outputs": [
    {
     "name": "stdout",
     "output_type": "stream",
     "text": [
      "Model weights associated with none sports news (negative class)\n"
     ]
    },
    {
     "data": {
      "text/plain": [
       "[('internet', -2.6628636960060086),\n",
       " ('industry', -2.674676022208136),\n",
       " ('minister', -2.6951008806290035),\n",
       " ('software', -2.7030161492690667),\n",
       " ('music', -2.7035405749221173),\n",
       " ('said', -2.741325763863101),\n",
       " ('market', -2.799237368196512),\n",
       " ('presidential', -2.8253704513807585),\n",
       " ('scientists', -2.8370641953066293),\n",
       " ('iraq', -2.8706098855265525),\n",
       " ('government', -3.008915873289078),\n",
       " ('computer', -3.02055974049583),\n",
       " ('election', -3.07452980050737),\n",
       " ('technology', -3.146521470045995),\n",
       " ('microsoft', -3.218863321630917),\n",
       " ('space', -3.3997457886099123),\n",
       " ('company', -3.6439318116551904),\n",
       " ('president', -3.8399450687666876),\n",
       " ('athens greece', -4.821913016118485),\n",
       " ('afp', -8.230621983955734)]"
      ]
     },
     "execution_count": 113,
     "metadata": {},
     "output_type": "execute_result"
    }
   ],
   "source": [
    "print('Model weights associated with none sports news (negative class)')\n",
    "sgd_best_weights_sp[-20:]"
   ]
  },
  {
   "cell_type": "code",
   "execution_count": 114,
   "metadata": {},
   "outputs": [
    {
     "name": "stdout",
     "output_type": "stream",
     "text": [
      "Bigram weights associated with sports news (positive class)\n"
     ]
    },
    {
     "data": {
      "text/plain": [
       "[('kobe bryant', 2.5299719584642117),\n",
       " ('world cup', 2.5157908657865717),\n",
       " ('last night', 2.4668011484590533),\n",
       " ('manchester united', 2.449126023693306),\n",
       " ('athens reuters', 2.3521656041219123),\n",
       " ('red sox', 2.285126320083245),\n",
       " ('formula one', 2.1297516855099987),\n",
       " ('grand prix', 1.8346357293066853),\n",
       " ('running back', 1.8163202245208898),\n",
       " ('sports network', 1.8007768384708855),\n",
       " ('the nba', 1.7921239892598737),\n",
       " ('notre dame', 1.7108119994202562),\n",
       " ('barry bonds', 1.6820959269148563),\n",
       " ('the nhl', 1.6725068795666616),\n",
       " ('gold medal', 1.6675596612081311),\n",
       " ('ap argentina', 1.6461747290548805),\n",
       " ('men 39', 1.5503949086998028),\n",
       " ('us open', 1.526865422098159),\n",
       " ('ap johnny', 1.5160279883780035),\n",
       " ('the jets', 1.4952061041277813)]"
      ]
     },
     "execution_count": 114,
     "metadata": {},
     "output_type": "execute_result"
    }
   ],
   "source": [
    "print('Bigram weights associated with sports news (positive class)')\n",
    "[fw for fw in sgd_best_weights_sp if ngram_order(fw[0])==2][:20]"
   ]
  },
  {
   "cell_type": "code",
   "execution_count": 115,
   "metadata": {},
   "outputs": [
    {
     "name": "stdout",
     "output_type": "stream",
     "text": [
      "Bigram weights associated with none sports news (negative class)\n"
     ]
    },
    {
     "data": {
      "text/plain": [
       "[('york maria', -1.3055827759019725),\n",
       " ('open source', -1.3479798534649028),\n",
       " ('yasser arafat', -1.3570677553999582),\n",
       " ('afp hosts', -1.3627291705228204),\n",
       " ('the state', -1.451509620673299),\n",
       " ('the country', -1.4593377880524756),\n",
       " ('one governing', -1.4739044027324384),\n",
       " ('greece gail', -1.4864604153441003),\n",
       " ('afp sri', -1.49443586043883),\n",
       " ('tenn pau', -1.5395602859154647),\n",
       " ('greece michael', -1.5718740569394847),\n",
       " ('video game', -1.5749471483423296),\n",
       " ('hempstead quarterback', -1.6607905419595124),\n",
       " ('lt gt', -1.6772794005641631),\n",
       " ('the company', -1.7836240440759792),\n",
       " ('oakland calif', -1.9189872781506665),\n",
       " ('prime minister', -1.9283458389298274),\n",
       " ('canadian press', -1.9936406817945616),\n",
       " ('afp manchester', -2.0031004370630483),\n",
       " ('athens greece', -4.821913016118485)]"
      ]
     },
     "execution_count": 115,
     "metadata": {},
     "output_type": "execute_result"
    }
   ],
   "source": [
    "print('Bigram weights associated with none sports news (negative class)')\n",
    "[fw for fw in sgd_best_weights_sp if len(fw[0].split())==2][-20:]"
   ]
  },
  {
   "cell_type": "code",
   "execution_count": 116,
   "metadata": {},
   "outputs": [
    {
     "data": {
      "text/plain": [
       "array([0.38600741])"
      ]
     },
     "execution_count": 116,
     "metadata": {},
     "output_type": "execute_result"
    }
   ],
   "source": [
    "sgd_best_sp.decision_function(['in the eighth inning pushed the Indians past the Yankees'])"
   ]
  },
  {
   "cell_type": "code",
   "execution_count": 117,
   "metadata": {},
   "outputs": [
    {
     "name": "stdout",
     "output_type": "stream",
     "text": [
      "prediction_score=-0.567 bias=-0.5672281020702552\n",
      "prediction_score=-0.121 fdim=2803370, fword=\"yankees\", value=0.1345, weight=3.3182, score=0.4463\n",
      "prediction_score=0.103 fdim=2443318, fword=\"the yankees\", value=0.1541, weight=1.4520, score=0.2238\n",
      "prediction_score=0.136 fdim=2398199, fword=\"the indians past\", value=0.2698, weight=0.1235, score=0.0333\n",
      "prediction_score=0.212 fdim=2398186, fword=\"the indians\", value=0.2118, weight=0.3574, score=0.0757\n",
      "prediction_score=0.151 fdim=2385622, fword=\"the eighth inning\", value=0.1872, weight=-0.3245, score=-0.0607\n",
      "prediction_score=0.042 fdim=2385614, fword=\"the eighth\", value=0.1764, weight=-0.6202, score=-0.1094\n",
      "prediction_score=0.226 fdim=2362622, fword=\"the\", value=0.0827, weight=2.2249, score=0.1840\n",
      "prediction_score=0.259 fdim=1928168, fword=\"pushed the indians\", value=0.2698, weight=0.1235, score=0.0333\n",
      "prediction_score=0.224 fdim=1928158, fword=\"pushed the\", value=0.2101, weight=-0.1651, score=-0.0347\n",
      "prediction_score=0.186 fdim=1927972, fword=\"pushed\", value=0.1616, weight=-0.2369, score=-0.0383\n",
      "prediction_score=0.215 fdim=1807866, fword=\"past the yankees\", value=0.2491, weight=0.1140, score=0.0284\n",
      "prediction_score=0.239 fdim=1807794, fword=\"past the\", value=0.1741, weight=0.1389, score=0.0242\n",
      "prediction_score=0.334 fdim=1807070, fword=\"past\", value=0.1256, weight=0.7624, score=0.0957\n",
      "prediction_score=0.368 fdim=1233486, fword=\"inning pushed the\", value=0.2698, weight=0.1235, score=0.0333\n",
      "prediction_score=0.401 fdim=1233485, fword=\"inning pushed\", value=0.2698, weight=0.1235, score=0.0333\n",
      "prediction_score=0.447 fdim=1233286, fword=\"inning\", value=0.1454, weight=0.3151, score=0.0458\n",
      "prediction_score=0.480 fdim=1222769, fword=\"indians past the\", value=0.2698, weight=0.1235, score=0.0333\n",
      "prediction_score=0.514 fdim=1222768, fword=\"indians past\", value=0.2698, weight=0.1235, score=0.0333\n",
      "prediction_score=0.617 fdim=1222653, fword=\"indians\", value=0.1758, weight=0.5907, score=0.1039\n",
      "prediction_score=0.437 fdim=1203058, fword=\"in the eighth\", value=0.1887, weight=-0.9580, score=-0.1808\n",
      "prediction_score=0.458 fdim=1202134, fword=\"in the\", value=0.0640, weight=0.3304, score=0.0211\n",
      "prediction_score=0.428 fdim=1176115, fword=\"in\", value=0.0388, weight=-0.7735, score=-0.0300\n",
      "prediction_score=0.461 fdim=788575, fword=\"eighth inning pushed\", value=0.2698, weight=0.1235, score=0.0333\n",
      "prediction_score=0.423 fdim=788555, fword=\"eighth inning\", value=0.1834, weight=-0.2081, score=-0.0382\n",
      "prediction_score=0.386 fdim=788503, fword=\"eighth\", value=0.1592, weight=-0.2321, score=-0.0369\n"
     ]
    },
    {
     "data": {
      "text/plain": [
       "0.38600741210633055"
      ]
     },
     "execution_count": 117,
     "metadata": {},
     "output_type": "execute_result"
    }
   ],
   "source": [
    "prediction_score_breakdown(sgd_best_sp,'in the eighth inning pushed the Indians past the Yankees')"
   ]
  },
  {
   "cell_type": "markdown",
   "metadata": {},
   "source": [
    "The sentence 'in the eighth inning pushed the Indians past the Yankees' gives us a final prediction score of 0.38 and is therefore classified as 1 (positive class)."
   ]
  },
  {
   "cell_type": "markdown",
   "metadata": {},
   "source": [
    "### 4.3.1 Bag-of-ngrams (and Grid-search in sklearn) - World News"
   ]
  },
  {
   "cell_type": "code",
   "execution_count": 118,
   "metadata": {},
   "outputs": [
    {
     "name": "stdout",
     "output_type": "stream",
     "text": [
      "Fitting 5 folds for each of 12 candidates, totalling 60 fits\n"
     ]
    },
    {
     "data": {
      "text/plain": [
       "GridSearchCV(estimator=Pipeline(steps=[('vect', CountVectorizer()),\n",
       "                                       ('tfidf', TfidfTransformer()),\n",
       "                                       ('clf',\n",
       "                                        SGDClassifier(max_iter=100,\n",
       "                                                      random_state=42,\n",
       "                                                      tol=None))]),\n",
       "             param_grid={'clf__alpha': (0.001, 1e-06, 1e-09, 1e-12),\n",
       "                         'vect__ngram_range': [(1, 1), (1, 2), (1, 3)]},\n",
       "             verbose=1)"
      ]
     },
     "execution_count": 118,
     "metadata": {},
     "output_type": "execute_result"
    }
   ],
   "source": [
    "sgd_grid.fit(train_ag.text, train_ag.world_int)"
   ]
  },
  {
   "cell_type": "code",
   "execution_count": 119,
   "metadata": {},
   "outputs": [
    {
     "data": {
      "text/html": [
       "<div>\n",
       "<style scoped>\n",
       "    .dataframe tbody tr th:only-of-type {\n",
       "        vertical-align: middle;\n",
       "    }\n",
       "\n",
       "    .dataframe tbody tr th {\n",
       "        vertical-align: top;\n",
       "    }\n",
       "\n",
       "    .dataframe thead th {\n",
       "        text-align: right;\n",
       "    }\n",
       "</style>\n",
       "<table border=\"1\" class=\"dataframe\">\n",
       "  <thead>\n",
       "    <tr style=\"text-align: right;\">\n",
       "      <th></th>\n",
       "      <th>param_clf__alpha</th>\n",
       "      <th>param_vect__ngram_range</th>\n",
       "      <th>params</th>\n",
       "      <th>mean_test_score</th>\n",
       "      <th>rank_test_score</th>\n",
       "    </tr>\n",
       "  </thead>\n",
       "  <tbody>\n",
       "    <tr>\n",
       "      <th>5</th>\n",
       "      <td>0.000001</td>\n",
       "      <td>(1, 3)</td>\n",
       "      <td>{'clf__alpha': 1e-06, 'vect__ngram_range': (1,...</td>\n",
       "      <td>0.954918</td>\n",
       "      <td>1</td>\n",
       "    </tr>\n",
       "    <tr>\n",
       "      <th>4</th>\n",
       "      <td>0.000001</td>\n",
       "      <td>(1, 2)</td>\n",
       "      <td>{'clf__alpha': 1e-06, 'vect__ngram_range': (1,...</td>\n",
       "      <td>0.953545</td>\n",
       "      <td>2</td>\n",
       "    </tr>\n",
       "    <tr>\n",
       "      <th>8</th>\n",
       "      <td>0.0</td>\n",
       "      <td>(1, 3)</td>\n",
       "      <td>{'clf__alpha': 1e-09, 'vect__ngram_range': (1,...</td>\n",
       "      <td>0.949754</td>\n",
       "      <td>3</td>\n",
       "    </tr>\n",
       "    <tr>\n",
       "      <th>11</th>\n",
       "      <td>0.0</td>\n",
       "      <td>(1, 3)</td>\n",
       "      <td>{'clf__alpha': 1e-12, 'vect__ngram_range': (1,...</td>\n",
       "      <td>0.949663</td>\n",
       "      <td>4</td>\n",
       "    </tr>\n",
       "    <tr>\n",
       "      <th>10</th>\n",
       "      <td>0.0</td>\n",
       "      <td>(1, 2)</td>\n",
       "      <td>{'clf__alpha': 1e-12, 'vect__ngram_range': (1,...</td>\n",
       "      <td>0.947445</td>\n",
       "      <td>5</td>\n",
       "    </tr>\n",
       "    <tr>\n",
       "      <th>7</th>\n",
       "      <td>0.0</td>\n",
       "      <td>(1, 2)</td>\n",
       "      <td>{'clf__alpha': 1e-09, 'vect__ngram_range': (1,...</td>\n",
       "      <td>0.947027</td>\n",
       "      <td>6</td>\n",
       "    </tr>\n",
       "    <tr>\n",
       "      <th>3</th>\n",
       "      <td>0.000001</td>\n",
       "      <td>(1, 1)</td>\n",
       "      <td>{'clf__alpha': 1e-06, 'vect__ngram_range': (1,...</td>\n",
       "      <td>0.940836</td>\n",
       "      <td>7</td>\n",
       "    </tr>\n",
       "    <tr>\n",
       "      <th>9</th>\n",
       "      <td>0.0</td>\n",
       "      <td>(1, 1)</td>\n",
       "      <td>{'clf__alpha': 1e-12, 'vect__ngram_range': (1,...</td>\n",
       "      <td>0.921927</td>\n",
       "      <td>8</td>\n",
       "    </tr>\n",
       "    <tr>\n",
       "      <th>6</th>\n",
       "      <td>0.0</td>\n",
       "      <td>(1, 1)</td>\n",
       "      <td>{'clf__alpha': 1e-09, 'vect__ngram_range': (1,...</td>\n",
       "      <td>0.920963</td>\n",
       "      <td>9</td>\n",
       "    </tr>\n",
       "    <tr>\n",
       "      <th>0</th>\n",
       "      <td>0.001</td>\n",
       "      <td>(1, 1)</td>\n",
       "      <td>{'clf__alpha': 0.001, 'vect__ngram_range': (1,...</td>\n",
       "      <td>0.872781</td>\n",
       "      <td>10</td>\n",
       "    </tr>\n",
       "    <tr>\n",
       "      <th>1</th>\n",
       "      <td>0.001</td>\n",
       "      <td>(1, 2)</td>\n",
       "      <td>{'clf__alpha': 0.001, 'vect__ngram_range': (1,...</td>\n",
       "      <td>0.774543</td>\n",
       "      <td>11</td>\n",
       "    </tr>\n",
       "    <tr>\n",
       "      <th>2</th>\n",
       "      <td>0.001</td>\n",
       "      <td>(1, 3)</td>\n",
       "      <td>{'clf__alpha': 0.001, 'vect__ngram_range': (1,...</td>\n",
       "      <td>0.750616</td>\n",
       "      <td>12</td>\n",
       "    </tr>\n",
       "  </tbody>\n",
       "</table>\n",
       "</div>"
      ],
      "text/plain": [
       "   param_clf__alpha param_vect__ngram_range  \\\n",
       "5          0.000001                  (1, 3)   \n",
       "4          0.000001                  (1, 2)   \n",
       "8               0.0                  (1, 3)   \n",
       "11              0.0                  (1, 3)   \n",
       "10              0.0                  (1, 2)   \n",
       "7               0.0                  (1, 2)   \n",
       "3          0.000001                  (1, 1)   \n",
       "9               0.0                  (1, 1)   \n",
       "6               0.0                  (1, 1)   \n",
       "0             0.001                  (1, 1)   \n",
       "1             0.001                  (1, 2)   \n",
       "2             0.001                  (1, 3)   \n",
       "\n",
       "                                               params  mean_test_score  \\\n",
       "5   {'clf__alpha': 1e-06, 'vect__ngram_range': (1,...         0.954918   \n",
       "4   {'clf__alpha': 1e-06, 'vect__ngram_range': (1,...         0.953545   \n",
       "8   {'clf__alpha': 1e-09, 'vect__ngram_range': (1,...         0.949754   \n",
       "11  {'clf__alpha': 1e-12, 'vect__ngram_range': (1,...         0.949663   \n",
       "10  {'clf__alpha': 1e-12, 'vect__ngram_range': (1,...         0.947445   \n",
       "7   {'clf__alpha': 1e-09, 'vect__ngram_range': (1,...         0.947027   \n",
       "3   {'clf__alpha': 1e-06, 'vect__ngram_range': (1,...         0.940836   \n",
       "9   {'clf__alpha': 1e-12, 'vect__ngram_range': (1,...         0.921927   \n",
       "6   {'clf__alpha': 1e-09, 'vect__ngram_range': (1,...         0.920963   \n",
       "0   {'clf__alpha': 0.001, 'vect__ngram_range': (1,...         0.872781   \n",
       "1   {'clf__alpha': 0.001, 'vect__ngram_range': (1,...         0.774543   \n",
       "2   {'clf__alpha': 0.001, 'vect__ngram_range': (1,...         0.750616   \n",
       "\n",
       "    rank_test_score  \n",
       "5                 1  \n",
       "4                 2  \n",
       "8                 3  \n",
       "11                4  \n",
       "10                5  \n",
       "7                 6  \n",
       "3                 7  \n",
       "9                 8  \n",
       "6                 9  \n",
       "0                10  \n",
       "1                11  \n",
       "2                12  "
      ]
     },
     "execution_count": 119,
     "metadata": {},
     "output_type": "execute_result"
    }
   ],
   "source": [
    "crossvalidation_report_df(sgd_grid)"
   ]
  },
  {
   "cell_type": "code",
   "execution_count": 120,
   "metadata": {},
   "outputs": [
    {
     "name": "stdout",
     "output_type": "stream",
     "text": [
      "BEST PARAMS: {'clf__alpha': 1e-06, 'vect__ngram_range': (1, 3)}\n",
      "                          precision    recall  f1-score   support\n",
      "\n",
      "negative (no world news)       0.96      0.97      0.97      7491\n",
      "   positive (world news)       0.92      0.89      0.90      2509\n",
      "\n",
      "                accuracy                           0.95     10000\n",
      "               macro avg       0.94      0.93      0.94     10000\n",
      "            weighted avg       0.95      0.95      0.95     10000\n",
      "\n"
     ]
    }
   ],
   "source": [
    "sgd_best_wrld= sgd_grid.best_estimator_\n",
    "print('BEST PARAMS:', sgd_grid.best_params_)\n",
    "\n",
    "print(classification_report(test_ag.world_int,\n",
    "                            sgd_best_wrld.predict(test_ag.text),\n",
    "                            target_names=['negative (no world news)','positive (world news)']))"
   ]
  },
  {
   "cell_type": "markdown",
   "metadata": {},
   "source": [
    "**Interpretation:** The best model has the params 'clf__alpha': 1e-06, 'vect__ngram_range': (1, 3). It yields an accuracy of 95% as well as high recall and precision scores for both classes."
   ]
  },
  {
   "cell_type": "code",
   "execution_count": 121,
   "metadata": {},
   "outputs": [],
   "source": [
    "sgd_best_weights_wrld = sort_feature_weights(sgd_best_wrld)"
   ]
  },
  {
   "cell_type": "code",
   "execution_count": 122,
   "metadata": {},
   "outputs": [],
   "source": [
    "sgd_best_weights_wrld = sorted(sgd_best_weights_wrld, key=lambda fw: fw[1], reverse=True)"
   ]
  },
  {
   "cell_type": "code",
   "execution_count": 123,
   "metadata": {},
   "outputs": [
    {
     "name": "stdout",
     "output_type": "stream",
     "text": [
      "Model weights associated with world news (positive class)\n"
     ]
    },
    {
     "data": {
      "text/plain": [
       "[('afp', 10.727143660692272),\n",
       " ('canadian press', 7.010475135038961),\n",
       " ('iraq', 6.235173437398892),\n",
       " ('president', 5.535610272160231),\n",
       " ('nuclear', 5.378804353471556),\n",
       " ('military', 5.2416805368432495),\n",
       " ('iraqi', 4.823139953589492),\n",
       " ('athens greece', 4.651846091612188),\n",
       " ('palestinian', 4.63811672614713),\n",
       " ('elections', 4.579864782300327),\n",
       " ('troops', 4.309297230241819),\n",
       " ('iran', 4.284152600887479),\n",
       " ('un', 4.1330062674369685),\n",
       " ('israel', 4.082789051144803),\n",
       " ('peace', 3.9312844752352833),\n",
       " ('baghdad', 3.8415868609697963),\n",
       " ('terrorism', 3.768960160117543),\n",
       " ('ap tokyo', 3.7364536772221983),\n",
       " ('afghanistan', 3.6744497467727606),\n",
       " ('arafat', 3.6650492298401622)]"
      ]
     },
     "execution_count": 123,
     "metadata": {},
     "output_type": "execute_result"
    }
   ],
   "source": [
    "print('Model weights associated with world news (positive class)')\n",
    "sgd_best_weights_wrld[:20]"
   ]
  },
  {
   "cell_type": "code",
   "execution_count": 124,
   "metadata": {},
   "outputs": [
    {
     "name": "stdout",
     "output_type": "stream",
     "text": [
      "Model weights associated with none world news (negative class)\n"
     ]
    },
    {
     "data": {
      "text/plain": [
       "[('company', -2.4347233492761164),\n",
       " ('game', -2.533493297610319),\n",
       " ('tokyo reuters tokyo', -2.568439379461576),\n",
       " ('team', -2.587366021990277),\n",
       " ('amp', -2.608543393346857),\n",
       " ('football', -2.6225316677135195),\n",
       " ('web', -2.6791456219784915),\n",
       " ('coach', -2.822234754422674),\n",
       " ('new york reuters', -2.826218520240774),\n",
       " ('york reuters', -2.826218520240774),\n",
       " ('cup', -2.8397079028566283),\n",
       " ('computer', -2.9284934078205413),\n",
       " ('ap brazil', -3.1266212965352786),\n",
       " ('online', -3.127272682283846),\n",
       " ('software', -3.2745970616491222),\n",
       " ('microsoft', -3.356730524995677),\n",
       " ('space', -3.5052323946189863),\n",
       " ('tokyo reuters', -4.053599325361613),\n",
       " ('39', -4.082464943468167),\n",
       " ('internet', -4.186820646675609)]"
      ]
     },
     "execution_count": 124,
     "metadata": {},
     "output_type": "execute_result"
    }
   ],
   "source": [
    "print('Model weights associated with none world news (negative class)')\n",
    "sgd_best_weights_wrld[-20:]"
   ]
  },
  {
   "cell_type": "code",
   "execution_count": 125,
   "metadata": {},
   "outputs": [
    {
     "name": "stdout",
     "output_type": "stream",
     "text": [
      "Bigram weights associated with world news (positive class)\n"
     ]
    },
    {
     "data": {
      "text/plain": [
       "[('canadian press', 7.010475135038961),\n",
       " ('athens greece', 4.651846091612188),\n",
       " ('ap tokyo', 3.7364536772221983),\n",
       " ('york stocks', 3.5917311324773182),\n",
       " ('ap german', 3.0387914906821063),\n",
       " ('ap president', 2.7565749519075418),\n",
       " ('prime minister', 2.6253312147434444),\n",
       " ('united nations', 2.5258310907342705),\n",
       " ('west bank', 2.4511327788973842),\n",
       " ('calif in', 2.342887985400271),\n",
       " ('north korea', 2.3094391354796326),\n",
       " ('brazil reuters', 2.3064459744883483),\n",
       " ('yasser arafat', 2.2311459483498166),\n",
       " ('john kerry', 2.2297001489798043),\n",
       " ('york investors', 2.148310994413878),\n",
       " ('oakland calif', 2.0588370177103323),\n",
       " ('ap federal', 1.9993749352046786),\n",
       " ('iraq 39', 1.9088275528551746),\n",
       " ('the un', 1.8702938790274617),\n",
       " ('in iraq', 1.803865209628347)]"
      ]
     },
     "execution_count": 125,
     "metadata": {},
     "output_type": "execute_result"
    }
   ],
   "source": [
    "print('Bigram weights associated with world news (positive class)')\n",
    "[fw for fw in sgd_best_weights_wrld if ngram_order(fw[0])==2][:20]"
   ]
  },
  {
   "cell_type": "code",
   "execution_count": 126,
   "metadata": {},
   "outputs": [
    {
     "name": "stdout",
     "output_type": "stream",
     "text": [
      "Bigram weights associated with none world news (negative class)\n"
     ]
    },
    {
     "data": {
      "text/plain": [
       "[('men 39', -1.4604270069793457),\n",
       " ('reuters southeast', -1.4666934458492342),\n",
       " ('fla ap', -1.4677835281607048),\n",
       " ('bush 39', -1.4823504778652865),\n",
       " ('ap gail', -1.4884158373266847),\n",
       " ('york ap', -1.5422502005108716),\n",
       " ('world cup', -1.6419872564845523),\n",
       " ('last night', -1.6587893852340714),\n",
       " ('ap johnny', -1.677954661535729),\n",
       " ('ap argentina', -1.6801164760457015),\n",
       " ('us stocks', -1.7254155706534544),\n",
       " ('bangalore india', -1.8379944650691098),\n",
       " ('washington ap', -1.8508280154358945),\n",
       " ('shanghai reuters', -1.8697261127849774),\n",
       " ('athens reuters', -1.972254907471201),\n",
       " ('washington reuters', -1.989974456509329),\n",
       " ('london afp', -2.0102211835753994),\n",
       " ('york reuters', -2.826218520240774),\n",
       " ('ap brazil', -3.1266212965352786),\n",
       " ('tokyo reuters', -4.053599325361613)]"
      ]
     },
     "execution_count": 126,
     "metadata": {},
     "output_type": "execute_result"
    }
   ],
   "source": [
    "print('Bigram weights associated with none world news (negative class)')\n",
    "[fw for fw in sgd_best_weights_wrld if len(fw[0].split())==2][-20:]"
   ]
  },
  {
   "cell_type": "code",
   "execution_count": 127,
   "metadata": {},
   "outputs": [
    {
     "data": {
      "text/plain": [
       "array([2.13719354])"
      ]
     },
     "execution_count": 127,
     "metadata": {},
     "output_type": "execute_result"
    }
   ],
   "source": [
    "sgd_best_wrld.decision_function(['A US military official in Iraq says'])"
   ]
  },
  {
   "cell_type": "code",
   "execution_count": 128,
   "metadata": {},
   "outputs": [
    {
     "name": "stdout",
     "output_type": "stream",
     "text": [
      "prediction_score=-0.537 bias=-0.5374530316447432\n",
      "prediction_score=-0.529 fdim=2634439, fword=\"us military official\", value=0.3535, weight=0.0240, score=0.0085\n",
      "prediction_score=-0.335 fdim=2634385, fword=\"us military\", value=0.2309, weight=0.8378, score=0.1935\n",
      "prediction_score=-0.494 fdim=2630947, fword=\"us\", value=0.1196, weight=-1.3271, score=-0.1588\n",
      "prediction_score=-0.339 fdim=2086246, fword=\"says\", value=0.1547, weight=1.0053, score=0.1555\n",
      "prediction_score=-0.339 fdim=1706912, fword=\"official in iraq\", value=0.3535, weight=0.0000, score=0.0000\n",
      "prediction_score=-0.306 fdim=1706904, fword=\"official in\", value=0.2978, weight=0.1108, score=0.0330\n",
      "prediction_score=-0.162 fdim=1706561, fword=\"official\", value=0.1739, weight=0.8267, score=0.1438\n",
      "prediction_score=-0.162 fdim=1516947, fword=\"military official in\", value=0.3761, weight=0.0000, score=0.0000\n",
      "prediction_score=-0.148 fdim=1516945, fword=\"military official\", value=0.3194, weight=0.0425, score=0.0136\n",
      "prediction_score=0.751 fdim=1516190, fword=\"military\", value=0.1717, weight=5.2417, score=0.8998\n",
      "prediction_score=0.815 fdim=1263975, fword=\"iraq says\", value=0.3176, weight=0.2008, score=0.0638\n",
      "prediction_score=1.729 fdim=1262079, fword=\"iraq\", value=0.1466, weight=6.2352, score=0.9141\n",
      "prediction_score=1.751 fdim=1189726, fword=\"in iraq says\", value=0.3337, weight=0.0656, score=0.0219\n",
      "prediction_score=2.063 fdim=1189483, fword=\"in iraq\", value=0.1727, weight=1.8039, score=0.3115\n",
      "prediction_score=2.137 fdim=1176115, fword=\"in\", value=0.0560, weight=1.3338, score=0.0747\n"
     ]
    },
    {
     "data": {
      "text/plain": [
       "2.1371935360441867"
      ]
     },
     "execution_count": 128,
     "metadata": {},
     "output_type": "execute_result"
    }
   ],
   "source": [
    "prediction_score_breakdown(sgd_best_wrld,'A US military official in Iraq says')"
   ]
  },
  {
   "cell_type": "markdown",
   "metadata": {},
   "source": [
    "The sentence 'A US military official in Iraq says' gives us a final prediction score of 2.14 and is therefore classified as 1 (positive class)."
   ]
  },
  {
   "cell_type": "markdown",
   "metadata": {},
   "source": [
    "### 4.3.1 Bag-of-ngrams (and Grid-search in sklearn) - Business News"
   ]
  },
  {
   "cell_type": "code",
   "execution_count": 129,
   "metadata": {},
   "outputs": [
    {
     "name": "stdout",
     "output_type": "stream",
     "text": [
      "Fitting 5 folds for each of 12 candidates, totalling 60 fits\n"
     ]
    },
    {
     "data": {
      "text/plain": [
       "GridSearchCV(estimator=Pipeline(steps=[('vect', CountVectorizer()),\n",
       "                                       ('tfidf', TfidfTransformer()),\n",
       "                                       ('clf',\n",
       "                                        SGDClassifier(max_iter=100,\n",
       "                                                      random_state=42,\n",
       "                                                      tol=None))]),\n",
       "             param_grid={'clf__alpha': (0.001, 1e-06, 1e-09, 1e-12),\n",
       "                         'vect__ngram_range': [(1, 1), (1, 2), (1, 3)]},\n",
       "             verbose=1)"
      ]
     },
     "execution_count": 129,
     "metadata": {},
     "output_type": "execute_result"
    }
   ],
   "source": [
    "sgd_grid.fit(train_ag.text, train_ag.business_int)"
   ]
  },
  {
   "cell_type": "code",
   "execution_count": 130,
   "metadata": {},
   "outputs": [
    {
     "data": {
      "text/html": [
       "<div>\n",
       "<style scoped>\n",
       "    .dataframe tbody tr th:only-of-type {\n",
       "        vertical-align: middle;\n",
       "    }\n",
       "\n",
       "    .dataframe tbody tr th {\n",
       "        vertical-align: top;\n",
       "    }\n",
       "\n",
       "    .dataframe thead th {\n",
       "        text-align: right;\n",
       "    }\n",
       "</style>\n",
       "<table border=\"1\" class=\"dataframe\">\n",
       "  <thead>\n",
       "    <tr style=\"text-align: right;\">\n",
       "      <th></th>\n",
       "      <th>param_clf__alpha</th>\n",
       "      <th>param_vect__ngram_range</th>\n",
       "      <th>params</th>\n",
       "      <th>mean_test_score</th>\n",
       "      <th>rank_test_score</th>\n",
       "    </tr>\n",
       "  </thead>\n",
       "  <tbody>\n",
       "    <tr>\n",
       "      <th>5</th>\n",
       "      <td>0.000001</td>\n",
       "      <td>(1, 3)</td>\n",
       "      <td>{'clf__alpha': 1e-06, 'vect__ngram_range': (1,...</td>\n",
       "      <td>0.941054</td>\n",
       "      <td>1</td>\n",
       "    </tr>\n",
       "    <tr>\n",
       "      <th>4</th>\n",
       "      <td>0.000001</td>\n",
       "      <td>(1, 2)</td>\n",
       "      <td>{'clf__alpha': 1e-06, 'vect__ngram_range': (1,...</td>\n",
       "      <td>0.938990</td>\n",
       "      <td>2</td>\n",
       "    </tr>\n",
       "    <tr>\n",
       "      <th>8</th>\n",
       "      <td>0.0</td>\n",
       "      <td>(1, 3)</td>\n",
       "      <td>{'clf__alpha': 1e-09, 'vect__ngram_range': (1,...</td>\n",
       "      <td>0.933918</td>\n",
       "      <td>3</td>\n",
       "    </tr>\n",
       "    <tr>\n",
       "      <th>11</th>\n",
       "      <td>0.0</td>\n",
       "      <td>(1, 3)</td>\n",
       "      <td>{'clf__alpha': 1e-12, 'vect__ngram_range': (1,...</td>\n",
       "      <td>0.933745</td>\n",
       "      <td>4</td>\n",
       "    </tr>\n",
       "    <tr>\n",
       "      <th>7</th>\n",
       "      <td>0.0</td>\n",
       "      <td>(1, 2)</td>\n",
       "      <td>{'clf__alpha': 1e-09, 'vect__ngram_range': (1,...</td>\n",
       "      <td>0.932327</td>\n",
       "      <td>5</td>\n",
       "    </tr>\n",
       "    <tr>\n",
       "      <th>10</th>\n",
       "      <td>0.0</td>\n",
       "      <td>(1, 2)</td>\n",
       "      <td>{'clf__alpha': 1e-12, 'vect__ngram_range': (1,...</td>\n",
       "      <td>0.931508</td>\n",
       "      <td>6</td>\n",
       "    </tr>\n",
       "    <tr>\n",
       "      <th>3</th>\n",
       "      <td>0.000001</td>\n",
       "      <td>(1, 1)</td>\n",
       "      <td>{'clf__alpha': 1e-06, 'vect__ngram_range': (1,...</td>\n",
       "      <td>0.925427</td>\n",
       "      <td>7</td>\n",
       "    </tr>\n",
       "    <tr>\n",
       "      <th>6</th>\n",
       "      <td>0.0</td>\n",
       "      <td>(1, 1)</td>\n",
       "      <td>{'clf__alpha': 1e-09, 'vect__ngram_range': (1,...</td>\n",
       "      <td>0.897272</td>\n",
       "      <td>8</td>\n",
       "    </tr>\n",
       "    <tr>\n",
       "      <th>9</th>\n",
       "      <td>0.0</td>\n",
       "      <td>(1, 1)</td>\n",
       "      <td>{'clf__alpha': 1e-12, 'vect__ngram_range': (1,...</td>\n",
       "      <td>0.895763</td>\n",
       "      <td>9</td>\n",
       "    </tr>\n",
       "    <tr>\n",
       "      <th>0</th>\n",
       "      <td>0.001</td>\n",
       "      <td>(1, 1)</td>\n",
       "      <td>{'clf__alpha': 0.001, 'vect__ngram_range': (1,...</td>\n",
       "      <td>0.847499</td>\n",
       "      <td>10</td>\n",
       "    </tr>\n",
       "    <tr>\n",
       "      <th>1</th>\n",
       "      <td>0.001</td>\n",
       "      <td>(1, 2)</td>\n",
       "      <td>{'clf__alpha': 0.001, 'vect__ngram_range': (1,...</td>\n",
       "      <td>0.778234</td>\n",
       "      <td>11</td>\n",
       "    </tr>\n",
       "    <tr>\n",
       "      <th>2</th>\n",
       "      <td>0.001</td>\n",
       "      <td>(1, 3)</td>\n",
       "      <td>{'clf__alpha': 0.001, 'vect__ngram_range': (1,...</td>\n",
       "      <td>0.763134</td>\n",
       "      <td>12</td>\n",
       "    </tr>\n",
       "  </tbody>\n",
       "</table>\n",
       "</div>"
      ],
      "text/plain": [
       "   param_clf__alpha param_vect__ngram_range  \\\n",
       "5          0.000001                  (1, 3)   \n",
       "4          0.000001                  (1, 2)   \n",
       "8               0.0                  (1, 3)   \n",
       "11              0.0                  (1, 3)   \n",
       "7               0.0                  (1, 2)   \n",
       "10              0.0                  (1, 2)   \n",
       "3          0.000001                  (1, 1)   \n",
       "6               0.0                  (1, 1)   \n",
       "9               0.0                  (1, 1)   \n",
       "0             0.001                  (1, 1)   \n",
       "1             0.001                  (1, 2)   \n",
       "2             0.001                  (1, 3)   \n",
       "\n",
       "                                               params  mean_test_score  \\\n",
       "5   {'clf__alpha': 1e-06, 'vect__ngram_range': (1,...         0.941054   \n",
       "4   {'clf__alpha': 1e-06, 'vect__ngram_range': (1,...         0.938990   \n",
       "8   {'clf__alpha': 1e-09, 'vect__ngram_range': (1,...         0.933918   \n",
       "11  {'clf__alpha': 1e-12, 'vect__ngram_range': (1,...         0.933745   \n",
       "7   {'clf__alpha': 1e-09, 'vect__ngram_range': (1,...         0.932327   \n",
       "10  {'clf__alpha': 1e-12, 'vect__ngram_range': (1,...         0.931508   \n",
       "3   {'clf__alpha': 1e-06, 'vect__ngram_range': (1,...         0.925427   \n",
       "6   {'clf__alpha': 1e-09, 'vect__ngram_range': (1,...         0.897272   \n",
       "9   {'clf__alpha': 1e-12, 'vect__ngram_range': (1,...         0.895763   \n",
       "0   {'clf__alpha': 0.001, 'vect__ngram_range': (1,...         0.847499   \n",
       "1   {'clf__alpha': 0.001, 'vect__ngram_range': (1,...         0.778234   \n",
       "2   {'clf__alpha': 0.001, 'vect__ngram_range': (1,...         0.763134   \n",
       "\n",
       "    rank_test_score  \n",
       "5                 1  \n",
       "4                 2  \n",
       "8                 3  \n",
       "11                4  \n",
       "7                 5  \n",
       "10                6  \n",
       "3                 7  \n",
       "6                 8  \n",
       "9                 9  \n",
       "0                10  \n",
       "1                11  \n",
       "2                12  "
      ]
     },
     "execution_count": 130,
     "metadata": {},
     "output_type": "execute_result"
    }
   ],
   "source": [
    "crossvalidation_report_df(sgd_grid)"
   ]
  },
  {
   "cell_type": "code",
   "execution_count": 131,
   "metadata": {},
   "outputs": [
    {
     "name": "stdout",
     "output_type": "stream",
     "text": [
      "BEST PARAMS: {'clf__alpha': 1e-06, 'vect__ngram_range': (1, 3)}\n",
      "                             precision    recall  f1-score   support\n",
      "\n",
      "negative (no business news)       0.96      0.97      0.96      7504\n",
      "   positive (business news)       0.90      0.87      0.88      2496\n",
      "\n",
      "                   accuracy                           0.94     10000\n",
      "                  macro avg       0.93      0.92      0.92     10000\n",
      "               weighted avg       0.94      0.94      0.94     10000\n",
      "\n"
     ]
    }
   ],
   "source": [
    "sgd_best_bus = sgd_grid.best_estimator_\n",
    "print('BEST PARAMS:', sgd_grid.best_params_)\n",
    "\n",
    "print(classification_report(test_ag.business_int,\n",
    "                            sgd_best_bus.predict(test_ag.text),\n",
    "                            target_names=['negative (no business news)','positive (business news)']))"
   ]
  },
  {
   "cell_type": "markdown",
   "metadata": {},
   "source": [
    "**Interpretation:** The best model has the params 'clf__alpha': 1e-06, 'vect__ngram_range': (1, 3). It yields an accuracy of 94% as well as high recall and precision scores for both classes."
   ]
  },
  {
   "cell_type": "code",
   "execution_count": 132,
   "metadata": {},
   "outputs": [],
   "source": [
    "sgd_best_weights_bus = sort_feature_weights(sgd_best_bus)"
   ]
  },
  {
   "cell_type": "code",
   "execution_count": 133,
   "metadata": {},
   "outputs": [],
   "source": [
    "sgd_best_weights_bus = sorted(sgd_best_weights_bus, key=lambda fw: fw[1], reverse=True)"
   ]
  },
  {
   "cell_type": "code",
   "execution_count": 134,
   "metadata": {},
   "outputs": [
    {
     "name": "stdout",
     "output_type": "stream",
     "text": [
      "Model weights associated with business news (positive class)\n"
     ]
    },
    {
     "data": {
      "text/plain": [
       "[('airlines', 4.840764338069359),\n",
       " ('tokyo reuters', 4.820675385868968),\n",
       " ('tax', 4.57134941006962),\n",
       " ('bank', 4.503398245657926),\n",
       " ('oil', 4.502235385744264),\n",
       " ('economy', 4.250617159364089),\n",
       " ('amp', 4.250420243677541),\n",
       " ('hellip', 4.228711412272757),\n",
       " ('investment', 4.103242412457727),\n",
       " ('economic', 4.074011919977739),\n",
       " ('insurance', 3.9562464355053564),\n",
       " ('enron', 3.8865569520702237),\n",
       " ('stock', 3.88140739621804),\n",
       " ('us', 3.758802473077342),\n",
       " ('retailer', 3.7440443185171692),\n",
       " ('prices', 3.6585676416920063),\n",
       " ('investors', 3.636704219171044),\n",
       " ('stocks', 3.565863053335497),\n",
       " ('profits', 3.445407284792535),\n",
       " ('airline', 3.4286303809442904)]"
      ]
     },
     "execution_count": 134,
     "metadata": {},
     "output_type": "execute_result"
    }
   ],
   "source": [
    "print('Model weights associated with business news (positive class)')\n",
    "sgd_best_weights_bus[:20]"
   ]
  },
  {
   "cell_type": "code",
   "execution_count": 135,
   "metadata": {},
   "outputs": [
    {
     "name": "stdout",
     "output_type": "stream",
     "text": [
      "Model weights associated with none business news (negative class)\n"
     ]
    },
    {
     "data": {
      "text/plain": [
       "[('coach', -2.821994250397158),\n",
       " ('apple', -2.899130428607912),\n",
       " ('scientists', -2.9241598784650105),\n",
       " ('software', -2.9900710223886033),\n",
       " ('com', -2.9989279627749745),\n",
       " ('newsfactor', -3.039262896882212),\n",
       " ('linux', -3.049302438798901),\n",
       " ('nasa', -3.132000169747819),\n",
       " ('game', -3.2804623580816057),\n",
       " ('team', -3.455958001956404),\n",
       " ('36', -3.553685711537797),\n",
       " ('ap the', -3.6566330219200878),\n",
       " ('reuters', -3.668117601498786),\n",
       " ('canadian press', -3.953876351503026),\n",
       " ('new york stocks', -4.239760384930006),\n",
       " ('york stocks', -4.239760384930006),\n",
       " ('washingtonpost', -4.7608002315729845),\n",
       " ('washingtonpost com', -4.95247753759243),\n",
       " ('afp', -8.21030633709556),\n",
       " ('ap', -19.239687305623786)]"
      ]
     },
     "execution_count": 135,
     "metadata": {},
     "output_type": "execute_result"
    }
   ],
   "source": [
    "print('Model weights associated with none business news (negative class)')\n",
    "sgd_best_weights_bus[-20:]"
   ]
  },
  {
   "cell_type": "code",
   "execution_count": 136,
   "metadata": {},
   "outputs": [
    {
     "name": "stdout",
     "output_type": "stream",
     "text": [
      "Bigram weights associated with business news (positive class)\n"
     ]
    },
    {
     "data": {
      "text/plain": [
       "[('tokyo reuters', 4.820675385868968),\n",
       " ('forbes com', 3.3009962667564556),\n",
       " ('martha stewart', 3.2933625285828145),\n",
       " ('york reuters', 2.916232305288111),\n",
       " ('oracle 39', 2.86803511277824),\n",
       " ('washington reuters', 2.8206659785841257),\n",
       " ('company 39', 2.584384526564079),\n",
       " ('ap brazil', 2.5346796046896443),\n",
       " ('inc 39', 2.362891685874095),\n",
       " ('39 largest', 2.3338551882494247),\n",
       " ('19 pm', 2.321848790564407),\n",
       " ('the dollar', 2.295071210242438),\n",
       " ('salvation army', 2.2926662645489118),\n",
       " ('chicago reuters', 2.28324434163762),\n",
       " ('hellip and', 2.1729744169551175),\n",
       " ('chief executive', 2.1197422487075177),\n",
       " ('united airlines', 2.1133638349784123),\n",
       " ('dow jones', 2.061717191028195),\n",
       " ('us airways', 2.023099546005383),\n",
       " ('cbs mw', 2.0204524652020086)]"
      ]
     },
     "execution_count": 136,
     "metadata": {},
     "output_type": "execute_result"
    }
   ],
   "source": [
    "print('Bigram weights associated with business news (positive class)')\n",
    "[fw for fw in sgd_best_weights_bus if ngram_order(fw[0])==2][:20]"
   ]
  },
  {
   "cell_type": "code",
   "execution_count": 137,
   "metadata": {},
   "outputs": [
    {
     "name": "stdout",
     "output_type": "stream",
     "text": [
      "Bigram weights associated with none business news (negative class)\n"
     ]
    },
    {
     "data": {
      "text/plain": [
       "[('ap federal', -1.7325833892793123),\n",
       " ('the electronics', -1.7499658535881528),\n",
       " ('reuters international', -1.7934772610347363),\n",
       " ('ft com', -1.8008126162835767),\n",
       " ('ap german', -1.8392449727289812),\n",
       " ('west bank', -1.8920985560677661),\n",
       " ('intel corp', -1.9062105699749052),\n",
       " ('corp hostile', -1.9111615384202416),\n",
       " ('36 billion', -1.940458907281559),\n",
       " ('reuters microsoft', -1.9973876316626153),\n",
       " ('manchester united', -2.050149240800565),\n",
       " ('reuters online', -2.1757409199131947),\n",
       " ('at corp', -2.277330601421532),\n",
       " ('ap tokyo', -2.5657796182464128),\n",
       " ('pt organizations', -2.6441208518855834),\n",
       " ('york investors', -2.7474285955688855),\n",
       " ('ap the', -3.6566330219200878),\n",
       " ('canadian press', -3.953876351503026),\n",
       " ('york stocks', -4.239760384930006),\n",
       " ('washingtonpost com', -4.95247753759243)]"
      ]
     },
     "execution_count": 137,
     "metadata": {},
     "output_type": "execute_result"
    }
   ],
   "source": [
    "print('Bigram weights associated with none business news (negative class)')\n",
    "[fw for fw in sgd_best_weights_bus if len(fw[0].split())==2][-20:]"
   ]
  },
  {
   "cell_type": "code",
   "execution_count": 138,
   "metadata": {},
   "outputs": [
    {
     "data": {
      "text/plain": [
       "array([0.83868123])"
      ]
     },
     "execution_count": 138,
     "metadata": {},
     "output_type": "execute_result"
    }
   ],
   "source": [
    "sgd_best_bus.decision_function(['Gamblers left more than \\\\$1.3 billion in Arizona Indian casinos in fiscal 2004'])"
   ]
  },
  {
   "cell_type": "code",
   "execution_count": 139,
   "metadata": {},
   "outputs": [
    {
     "name": "stdout",
     "output_type": "stream",
     "text": [
      "prediction_score=-0.542 bias=-0.5418687118185223\n",
      "prediction_score=-0.509 fdim=2341590, fword=\"than billion in\", value=0.1840, weight=0.1806, score=0.0332\n",
      "prediction_score=-0.459 fdim=2341576, fword=\"than billion\", value=0.1613, weight=0.3066, score=0.0495\n",
      "prediction_score=-0.450 fdim=2340470, fword=\"than\", value=0.0773, weight=0.1148, score=0.0089\n",
      "prediction_score=-0.384 fdim=1549886, fword=\"more than billion\", value=0.1629, weight=0.4046, score=0.0659\n",
      "prediction_score=-0.417 fdim=1549723, fword=\"more than\", value=0.0901, weight=-0.3583, score=-0.0323\n",
      "prediction_score=-0.383 fdim=1546344, fword=\"more\", value=0.0740, weight=0.4594, score=0.0340\n",
      "prediction_score=-0.394 fdim=1397448, fword=\"left more than\", value=0.1802, weight=-0.0646, score=-0.0116\n",
      "prediction_score=-0.409 fdim=1397445, fword=\"left more\", value=0.1776, weight=-0.0845, score=-0.0150\n",
      "prediction_score=-0.534 fdim=1396529, fword=\"left\", value=0.1002, weight=-1.2458, score=-0.1248\n",
      "prediction_score=-0.497 fdim=1221695, fword=\"indian casinos in\", value=0.2314, weight=0.1587, score=0.0367\n",
      "prediction_score=-0.461 fdim=1221694, fword=\"indian casinos\", value=0.2314, weight=0.1587, score=0.0367\n",
      "prediction_score=-0.499 fdim=1221598, fword=\"indian\", value=0.1215, weight=-0.3163, score=-0.0384\n",
      "prediction_score=-0.444 fdim=1186147, fword=\"in fiscal 2004\", value=0.2002, weight=0.2754, score=0.0551\n",
      "prediction_score=-0.319 fdim=1186146, fword=\"in fiscal\", value=0.1849, weight=0.6776, score=0.1253\n",
      "prediction_score=-0.282 fdim=1178970, fword=\"in arizona indian\", value=0.2314, weight=0.1587, score=0.0367\n",
      "prediction_score=-0.216 fdim=1178963, fword=\"in arizona\", value=0.1858, weight=0.3545, score=0.0659\n",
      "prediction_score=-0.260 fdim=1176115, fword=\"in\", value=0.0665, weight=-0.6623, score=-0.0441\n",
      "prediction_score=-0.223 fdim=987668, fword=\"gamblers left more\", value=0.2314, weight=0.1587, score=0.0367\n",
      "prediction_score=-0.187 fdim=987667, fword=\"gamblers left\", value=0.2314, weight=0.1587, score=0.0367\n",
      "prediction_score=-0.137 fdim=987659, fword=\"gamblers\", value=0.1923, weight=0.2602, score=0.0500\n",
      "prediction_score=-0.073 fdim=898325, fword=\"fiscal 2004\", value=0.1816, weight=0.3504, score=0.0636\n",
      "prediction_score=0.110 fdim=898324, fword=\"fiscal\", value=0.1333, weight=1.3707, score=0.1827\n",
      "prediction_score=0.146 fdim=513348, fword=\"casinos in fiscal\", value=0.2314, weight=0.1587, score=0.0367\n",
      "prediction_score=0.193 fdim=513344, fword=\"casinos in\", value=0.2045, weight=0.2282, score=0.0467\n",
      "prediction_score=0.422 fdim=513320, fword=\"casinos\", value=0.1710, weight=1.3367, score=0.2285\n",
      "prediction_score=0.458 fdim=404403, fword=\"billion in arizona\", value=0.2314, weight=0.1587, score=0.0367\n",
      "prediction_score=0.500 fdim=404385, fword=\"billion in\", value=0.1270, weight=0.3277, score=0.0416\n",
      "prediction_score=0.795 fdim=403563, fword=\"billion\", value=0.0924, weight=3.1961, score=0.2953\n",
      "prediction_score=0.832 fdim=273918, fword=\"arizona indian casinos\", value=0.2314, weight=0.1587, score=0.0367\n",
      "prediction_score=0.869 fdim=273917, fword=\"arizona indian\", value=0.2314, weight=0.1587, score=0.0367\n",
      "prediction_score=0.849 fdim=273776, fword=\"arizona\", value=0.1353, weight=-0.1502, score=-0.0203\n",
      "prediction_score=0.839 fdim=25907, fword=\"2004\", value=0.0902, weight=-0.1089, score=-0.0098\n"
     ]
    },
    {
     "data": {
      "text/plain": [
       "0.838681229050748"
      ]
     },
     "execution_count": 139,
     "metadata": {},
     "output_type": "execute_result"
    }
   ],
   "source": [
    "prediction_score_breakdown(sgd_best_bus,'Gamblers left more than \\\\$1.3 billion in Arizona Indian casinos in fiscal 2004')"
   ]
  },
  {
   "cell_type": "markdown",
   "metadata": {},
   "source": [
    "The sentence 'Gamblers left more than \\\\$1.3 billion in Arizona Indian casinos in fiscal 2004' gives us a final prediction score of 0.84 and is therefore classified as 1 (positive class)."
   ]
  },
  {
   "cell_type": "markdown",
   "metadata": {},
   "source": [
    "## DRY code"
   ]
  },
  {
   "cell_type": "code",
   "execution_count": 140,
   "metadata": {},
   "outputs": [
    {
     "data": {
      "text/html": [
       "<div>\n",
       "<style scoped>\n",
       "    .dataframe tbody tr th:only-of-type {\n",
       "        vertical-align: middle;\n",
       "    }\n",
       "\n",
       "    .dataframe tbody tr th {\n",
       "        vertical-align: top;\n",
       "    }\n",
       "\n",
       "    .dataframe thead th {\n",
       "        text-align: right;\n",
       "    }\n",
       "</style>\n",
       "<table border=\"1\" class=\"dataframe\">\n",
       "  <thead>\n",
       "    <tr style=\"text-align: right;\">\n",
       "      <th></th>\n",
       "      <th>param_clf__alpha</th>\n",
       "      <th>param_vect__ngram_range</th>\n",
       "      <th>params</th>\n",
       "      <th>mean_test_score</th>\n",
       "      <th>rank_test_score</th>\n",
       "    </tr>\n",
       "  </thead>\n",
       "  <tbody>\n",
       "    <tr>\n",
       "      <th>5</th>\n",
       "      <td>0.000001</td>\n",
       "      <td>(1, 3)</td>\n",
       "      <td>{'clf__alpha': 1e-06, 'vect__ngram_range': (1,...</td>\n",
       "      <td>0.941054</td>\n",
       "      <td>1</td>\n",
       "    </tr>\n",
       "    <tr>\n",
       "      <th>4</th>\n",
       "      <td>0.000001</td>\n",
       "      <td>(1, 2)</td>\n",
       "      <td>{'clf__alpha': 1e-06, 'vect__ngram_range': (1,...</td>\n",
       "      <td>0.938990</td>\n",
       "      <td>2</td>\n",
       "    </tr>\n",
       "    <tr>\n",
       "      <th>8</th>\n",
       "      <td>0.0</td>\n",
       "      <td>(1, 3)</td>\n",
       "      <td>{'clf__alpha': 1e-09, 'vect__ngram_range': (1,...</td>\n",
       "      <td>0.933918</td>\n",
       "      <td>3</td>\n",
       "    </tr>\n",
       "    <tr>\n",
       "      <th>11</th>\n",
       "      <td>0.0</td>\n",
       "      <td>(1, 3)</td>\n",
       "      <td>{'clf__alpha': 1e-12, 'vect__ngram_range': (1,...</td>\n",
       "      <td>0.933745</td>\n",
       "      <td>4</td>\n",
       "    </tr>\n",
       "    <tr>\n",
       "      <th>7</th>\n",
       "      <td>0.0</td>\n",
       "      <td>(1, 2)</td>\n",
       "      <td>{'clf__alpha': 1e-09, 'vect__ngram_range': (1,...</td>\n",
       "      <td>0.932327</td>\n",
       "      <td>5</td>\n",
       "    </tr>\n",
       "    <tr>\n",
       "      <th>10</th>\n",
       "      <td>0.0</td>\n",
       "      <td>(1, 2)</td>\n",
       "      <td>{'clf__alpha': 1e-12, 'vect__ngram_range': (1,...</td>\n",
       "      <td>0.931508</td>\n",
       "      <td>6</td>\n",
       "    </tr>\n",
       "    <tr>\n",
       "      <th>3</th>\n",
       "      <td>0.000001</td>\n",
       "      <td>(1, 1)</td>\n",
       "      <td>{'clf__alpha': 1e-06, 'vect__ngram_range': (1,...</td>\n",
       "      <td>0.925427</td>\n",
       "      <td>7</td>\n",
       "    </tr>\n",
       "    <tr>\n",
       "      <th>6</th>\n",
       "      <td>0.0</td>\n",
       "      <td>(1, 1)</td>\n",
       "      <td>{'clf__alpha': 1e-09, 'vect__ngram_range': (1,...</td>\n",
       "      <td>0.897272</td>\n",
       "      <td>8</td>\n",
       "    </tr>\n",
       "    <tr>\n",
       "      <th>9</th>\n",
       "      <td>0.0</td>\n",
       "      <td>(1, 1)</td>\n",
       "      <td>{'clf__alpha': 1e-12, 'vect__ngram_range': (1,...</td>\n",
       "      <td>0.895763</td>\n",
       "      <td>9</td>\n",
       "    </tr>\n",
       "    <tr>\n",
       "      <th>0</th>\n",
       "      <td>0.001</td>\n",
       "      <td>(1, 1)</td>\n",
       "      <td>{'clf__alpha': 0.001, 'vect__ngram_range': (1,...</td>\n",
       "      <td>0.847499</td>\n",
       "      <td>10</td>\n",
       "    </tr>\n",
       "    <tr>\n",
       "      <th>1</th>\n",
       "      <td>0.001</td>\n",
       "      <td>(1, 2)</td>\n",
       "      <td>{'clf__alpha': 0.001, 'vect__ngram_range': (1,...</td>\n",
       "      <td>0.778234</td>\n",
       "      <td>11</td>\n",
       "    </tr>\n",
       "    <tr>\n",
       "      <th>2</th>\n",
       "      <td>0.001</td>\n",
       "      <td>(1, 3)</td>\n",
       "      <td>{'clf__alpha': 0.001, 'vect__ngram_range': (1,...</td>\n",
       "      <td>0.763134</td>\n",
       "      <td>12</td>\n",
       "    </tr>\n",
       "  </tbody>\n",
       "</table>\n",
       "</div>"
      ],
      "text/plain": [
       "   param_clf__alpha param_vect__ngram_range  \\\n",
       "5          0.000001                  (1, 3)   \n",
       "4          0.000001                  (1, 2)   \n",
       "8               0.0                  (1, 3)   \n",
       "11              0.0                  (1, 3)   \n",
       "7               0.0                  (1, 2)   \n",
       "10              0.0                  (1, 2)   \n",
       "3          0.000001                  (1, 1)   \n",
       "6               0.0                  (1, 1)   \n",
       "9               0.0                  (1, 1)   \n",
       "0             0.001                  (1, 1)   \n",
       "1             0.001                  (1, 2)   \n",
       "2             0.001                  (1, 3)   \n",
       "\n",
       "                                               params  mean_test_score  \\\n",
       "5   {'clf__alpha': 1e-06, 'vect__ngram_range': (1,...         0.941054   \n",
       "4   {'clf__alpha': 1e-06, 'vect__ngram_range': (1,...         0.938990   \n",
       "8   {'clf__alpha': 1e-09, 'vect__ngram_range': (1,...         0.933918   \n",
       "11  {'clf__alpha': 1e-12, 'vect__ngram_range': (1,...         0.933745   \n",
       "7   {'clf__alpha': 1e-09, 'vect__ngram_range': (1,...         0.932327   \n",
       "10  {'clf__alpha': 1e-12, 'vect__ngram_range': (1,...         0.931508   \n",
       "3   {'clf__alpha': 1e-06, 'vect__ngram_range': (1,...         0.925427   \n",
       "6   {'clf__alpha': 1e-09, 'vect__ngram_range': (1,...         0.897272   \n",
       "9   {'clf__alpha': 1e-12, 'vect__ngram_range': (1,...         0.895763   \n",
       "0   {'clf__alpha': 0.001, 'vect__ngram_range': (1,...         0.847499   \n",
       "1   {'clf__alpha': 0.001, 'vect__ngram_range': (1,...         0.778234   \n",
       "2   {'clf__alpha': 0.001, 'vect__ngram_range': (1,...         0.763134   \n",
       "\n",
       "    rank_test_score  \n",
       "5                 1  \n",
       "4                 2  \n",
       "8                 3  \n",
       "11                4  \n",
       "7                 5  \n",
       "10                6  \n",
       "3                 7  \n",
       "6                 8  \n",
       "9                 9  \n",
       "0                10  \n",
       "1                11  \n",
       "2                12  "
      ]
     },
     "metadata": {},
     "output_type": "display_data"
    },
    {
     "name": "stdout",
     "output_type": "stream",
     "text": [
      "BEST PARAMS: {'clf__alpha': 1e-06, 'vect__ngram_range': (1, 3)}\n"
     ]
    },
    {
     "data": {
      "text/html": [
       "<div>\n",
       "<style scoped>\n",
       "    .dataframe tbody tr th:only-of-type {\n",
       "        vertical-align: middle;\n",
       "    }\n",
       "\n",
       "    .dataframe tbody tr th {\n",
       "        vertical-align: top;\n",
       "    }\n",
       "\n",
       "    .dataframe thead th {\n",
       "        text-align: right;\n",
       "    }\n",
       "</style>\n",
       "<table border=\"1\" class=\"dataframe\">\n",
       "  <thead>\n",
       "    <tr style=\"text-align: right;\">\n",
       "      <th></th>\n",
       "      <th>param_clf__alpha</th>\n",
       "      <th>param_vect__ngram_range</th>\n",
       "      <th>params</th>\n",
       "      <th>mean_test_score</th>\n",
       "      <th>rank_test_score</th>\n",
       "    </tr>\n",
       "  </thead>\n",
       "  <tbody>\n",
       "    <tr>\n",
       "      <th>5</th>\n",
       "      <td>0.000001</td>\n",
       "      <td>(1, 3)</td>\n",
       "      <td>{'clf__alpha': 1e-06, 'vect__ngram_range': (1,...</td>\n",
       "      <td>0.941054</td>\n",
       "      <td>1</td>\n",
       "    </tr>\n",
       "    <tr>\n",
       "      <th>4</th>\n",
       "      <td>0.000001</td>\n",
       "      <td>(1, 2)</td>\n",
       "      <td>{'clf__alpha': 1e-06, 'vect__ngram_range': (1,...</td>\n",
       "      <td>0.938990</td>\n",
       "      <td>2</td>\n",
       "    </tr>\n",
       "    <tr>\n",
       "      <th>8</th>\n",
       "      <td>0.0</td>\n",
       "      <td>(1, 3)</td>\n",
       "      <td>{'clf__alpha': 1e-09, 'vect__ngram_range': (1,...</td>\n",
       "      <td>0.933918</td>\n",
       "      <td>3</td>\n",
       "    </tr>\n",
       "    <tr>\n",
       "      <th>11</th>\n",
       "      <td>0.0</td>\n",
       "      <td>(1, 3)</td>\n",
       "      <td>{'clf__alpha': 1e-12, 'vect__ngram_range': (1,...</td>\n",
       "      <td>0.933745</td>\n",
       "      <td>4</td>\n",
       "    </tr>\n",
       "    <tr>\n",
       "      <th>7</th>\n",
       "      <td>0.0</td>\n",
       "      <td>(1, 2)</td>\n",
       "      <td>{'clf__alpha': 1e-09, 'vect__ngram_range': (1,...</td>\n",
       "      <td>0.932327</td>\n",
       "      <td>5</td>\n",
       "    </tr>\n",
       "    <tr>\n",
       "      <th>10</th>\n",
       "      <td>0.0</td>\n",
       "      <td>(1, 2)</td>\n",
       "      <td>{'clf__alpha': 1e-12, 'vect__ngram_range': (1,...</td>\n",
       "      <td>0.931508</td>\n",
       "      <td>6</td>\n",
       "    </tr>\n",
       "    <tr>\n",
       "      <th>3</th>\n",
       "      <td>0.000001</td>\n",
       "      <td>(1, 1)</td>\n",
       "      <td>{'clf__alpha': 1e-06, 'vect__ngram_range': (1,...</td>\n",
       "      <td>0.925427</td>\n",
       "      <td>7</td>\n",
       "    </tr>\n",
       "    <tr>\n",
       "      <th>6</th>\n",
       "      <td>0.0</td>\n",
       "      <td>(1, 1)</td>\n",
       "      <td>{'clf__alpha': 1e-09, 'vect__ngram_range': (1,...</td>\n",
       "      <td>0.897272</td>\n",
       "      <td>8</td>\n",
       "    </tr>\n",
       "    <tr>\n",
       "      <th>9</th>\n",
       "      <td>0.0</td>\n",
       "      <td>(1, 1)</td>\n",
       "      <td>{'clf__alpha': 1e-12, 'vect__ngram_range': (1,...</td>\n",
       "      <td>0.895763</td>\n",
       "      <td>9</td>\n",
       "    </tr>\n",
       "    <tr>\n",
       "      <th>0</th>\n",
       "      <td>0.001</td>\n",
       "      <td>(1, 1)</td>\n",
       "      <td>{'clf__alpha': 0.001, 'vect__ngram_range': (1,...</td>\n",
       "      <td>0.847499</td>\n",
       "      <td>10</td>\n",
       "    </tr>\n",
       "    <tr>\n",
       "      <th>1</th>\n",
       "      <td>0.001</td>\n",
       "      <td>(1, 2)</td>\n",
       "      <td>{'clf__alpha': 0.001, 'vect__ngram_range': (1,...</td>\n",
       "      <td>0.778234</td>\n",
       "      <td>11</td>\n",
       "    </tr>\n",
       "    <tr>\n",
       "      <th>2</th>\n",
       "      <td>0.001</td>\n",
       "      <td>(1, 3)</td>\n",
       "      <td>{'clf__alpha': 0.001, 'vect__ngram_range': (1,...</td>\n",
       "      <td>0.763134</td>\n",
       "      <td>12</td>\n",
       "    </tr>\n",
       "  </tbody>\n",
       "</table>\n",
       "</div>"
      ],
      "text/plain": [
       "   param_clf__alpha param_vect__ngram_range  \\\n",
       "5          0.000001                  (1, 3)   \n",
       "4          0.000001                  (1, 2)   \n",
       "8               0.0                  (1, 3)   \n",
       "11              0.0                  (1, 3)   \n",
       "7               0.0                  (1, 2)   \n",
       "10              0.0                  (1, 2)   \n",
       "3          0.000001                  (1, 1)   \n",
       "6               0.0                  (1, 1)   \n",
       "9               0.0                  (1, 1)   \n",
       "0             0.001                  (1, 1)   \n",
       "1             0.001                  (1, 2)   \n",
       "2             0.001                  (1, 3)   \n",
       "\n",
       "                                               params  mean_test_score  \\\n",
       "5   {'clf__alpha': 1e-06, 'vect__ngram_range': (1,...         0.941054   \n",
       "4   {'clf__alpha': 1e-06, 'vect__ngram_range': (1,...         0.938990   \n",
       "8   {'clf__alpha': 1e-09, 'vect__ngram_range': (1,...         0.933918   \n",
       "11  {'clf__alpha': 1e-12, 'vect__ngram_range': (1,...         0.933745   \n",
       "7   {'clf__alpha': 1e-09, 'vect__ngram_range': (1,...         0.932327   \n",
       "10  {'clf__alpha': 1e-12, 'vect__ngram_range': (1,...         0.931508   \n",
       "3   {'clf__alpha': 1e-06, 'vect__ngram_range': (1,...         0.925427   \n",
       "6   {'clf__alpha': 1e-09, 'vect__ngram_range': (1,...         0.897272   \n",
       "9   {'clf__alpha': 1e-12, 'vect__ngram_range': (1,...         0.895763   \n",
       "0   {'clf__alpha': 0.001, 'vect__ngram_range': (1,...         0.847499   \n",
       "1   {'clf__alpha': 0.001, 'vect__ngram_range': (1,...         0.778234   \n",
       "2   {'clf__alpha': 0.001, 'vect__ngram_range': (1,...         0.763134   \n",
       "\n",
       "    rank_test_score  \n",
       "5                 1  \n",
       "4                 2  \n",
       "8                 3  \n",
       "11                4  \n",
       "7                 5  \n",
       "10                6  \n",
       "3                 7  \n",
       "6                 8  \n",
       "9                 9  \n",
       "0                10  \n",
       "1                11  \n",
       "2                12  "
      ]
     },
     "metadata": {},
     "output_type": "display_data"
    },
    {
     "name": "stdout",
     "output_type": "stream",
     "text": [
      "BEST PARAMS: {'clf__alpha': 1e-06, 'vect__ngram_range': (1, 3)}\n"
     ]
    },
    {
     "data": {
      "text/html": [
       "<div>\n",
       "<style scoped>\n",
       "    .dataframe tbody tr th:only-of-type {\n",
       "        vertical-align: middle;\n",
       "    }\n",
       "\n",
       "    .dataframe tbody tr th {\n",
       "        vertical-align: top;\n",
       "    }\n",
       "\n",
       "    .dataframe thead th {\n",
       "        text-align: right;\n",
       "    }\n",
       "</style>\n",
       "<table border=\"1\" class=\"dataframe\">\n",
       "  <thead>\n",
       "    <tr style=\"text-align: right;\">\n",
       "      <th></th>\n",
       "      <th>param_clf__alpha</th>\n",
       "      <th>param_vect__ngram_range</th>\n",
       "      <th>params</th>\n",
       "      <th>mean_test_score</th>\n",
       "      <th>rank_test_score</th>\n",
       "    </tr>\n",
       "  </thead>\n",
       "  <tbody>\n",
       "    <tr>\n",
       "      <th>5</th>\n",
       "      <td>0.000001</td>\n",
       "      <td>(1, 3)</td>\n",
       "      <td>{'clf__alpha': 1e-06, 'vect__ngram_range': (1,...</td>\n",
       "      <td>0.941054</td>\n",
       "      <td>1</td>\n",
       "    </tr>\n",
       "    <tr>\n",
       "      <th>4</th>\n",
       "      <td>0.000001</td>\n",
       "      <td>(1, 2)</td>\n",
       "      <td>{'clf__alpha': 1e-06, 'vect__ngram_range': (1,...</td>\n",
       "      <td>0.938990</td>\n",
       "      <td>2</td>\n",
       "    </tr>\n",
       "    <tr>\n",
       "      <th>8</th>\n",
       "      <td>0.0</td>\n",
       "      <td>(1, 3)</td>\n",
       "      <td>{'clf__alpha': 1e-09, 'vect__ngram_range': (1,...</td>\n",
       "      <td>0.933918</td>\n",
       "      <td>3</td>\n",
       "    </tr>\n",
       "    <tr>\n",
       "      <th>11</th>\n",
       "      <td>0.0</td>\n",
       "      <td>(1, 3)</td>\n",
       "      <td>{'clf__alpha': 1e-12, 'vect__ngram_range': (1,...</td>\n",
       "      <td>0.933745</td>\n",
       "      <td>4</td>\n",
       "    </tr>\n",
       "    <tr>\n",
       "      <th>7</th>\n",
       "      <td>0.0</td>\n",
       "      <td>(1, 2)</td>\n",
       "      <td>{'clf__alpha': 1e-09, 'vect__ngram_range': (1,...</td>\n",
       "      <td>0.932327</td>\n",
       "      <td>5</td>\n",
       "    </tr>\n",
       "    <tr>\n",
       "      <th>10</th>\n",
       "      <td>0.0</td>\n",
       "      <td>(1, 2)</td>\n",
       "      <td>{'clf__alpha': 1e-12, 'vect__ngram_range': (1,...</td>\n",
       "      <td>0.931508</td>\n",
       "      <td>6</td>\n",
       "    </tr>\n",
       "    <tr>\n",
       "      <th>3</th>\n",
       "      <td>0.000001</td>\n",
       "      <td>(1, 1)</td>\n",
       "      <td>{'clf__alpha': 1e-06, 'vect__ngram_range': (1,...</td>\n",
       "      <td>0.925427</td>\n",
       "      <td>7</td>\n",
       "    </tr>\n",
       "    <tr>\n",
       "      <th>6</th>\n",
       "      <td>0.0</td>\n",
       "      <td>(1, 1)</td>\n",
       "      <td>{'clf__alpha': 1e-09, 'vect__ngram_range': (1,...</td>\n",
       "      <td>0.897272</td>\n",
       "      <td>8</td>\n",
       "    </tr>\n",
       "    <tr>\n",
       "      <th>9</th>\n",
       "      <td>0.0</td>\n",
       "      <td>(1, 1)</td>\n",
       "      <td>{'clf__alpha': 1e-12, 'vect__ngram_range': (1,...</td>\n",
       "      <td>0.895763</td>\n",
       "      <td>9</td>\n",
       "    </tr>\n",
       "    <tr>\n",
       "      <th>0</th>\n",
       "      <td>0.001</td>\n",
       "      <td>(1, 1)</td>\n",
       "      <td>{'clf__alpha': 0.001, 'vect__ngram_range': (1,...</td>\n",
       "      <td>0.847499</td>\n",
       "      <td>10</td>\n",
       "    </tr>\n",
       "    <tr>\n",
       "      <th>1</th>\n",
       "      <td>0.001</td>\n",
       "      <td>(1, 2)</td>\n",
       "      <td>{'clf__alpha': 0.001, 'vect__ngram_range': (1,...</td>\n",
       "      <td>0.778234</td>\n",
       "      <td>11</td>\n",
       "    </tr>\n",
       "    <tr>\n",
       "      <th>2</th>\n",
       "      <td>0.001</td>\n",
       "      <td>(1, 3)</td>\n",
       "      <td>{'clf__alpha': 0.001, 'vect__ngram_range': (1,...</td>\n",
       "      <td>0.763134</td>\n",
       "      <td>12</td>\n",
       "    </tr>\n",
       "  </tbody>\n",
       "</table>\n",
       "</div>"
      ],
      "text/plain": [
       "   param_clf__alpha param_vect__ngram_range  \\\n",
       "5          0.000001                  (1, 3)   \n",
       "4          0.000001                  (1, 2)   \n",
       "8               0.0                  (1, 3)   \n",
       "11              0.0                  (1, 3)   \n",
       "7               0.0                  (1, 2)   \n",
       "10              0.0                  (1, 2)   \n",
       "3          0.000001                  (1, 1)   \n",
       "6               0.0                  (1, 1)   \n",
       "9               0.0                  (1, 1)   \n",
       "0             0.001                  (1, 1)   \n",
       "1             0.001                  (1, 2)   \n",
       "2             0.001                  (1, 3)   \n",
       "\n",
       "                                               params  mean_test_score  \\\n",
       "5   {'clf__alpha': 1e-06, 'vect__ngram_range': (1,...         0.941054   \n",
       "4   {'clf__alpha': 1e-06, 'vect__ngram_range': (1,...         0.938990   \n",
       "8   {'clf__alpha': 1e-09, 'vect__ngram_range': (1,...         0.933918   \n",
       "11  {'clf__alpha': 1e-12, 'vect__ngram_range': (1,...         0.933745   \n",
       "7   {'clf__alpha': 1e-09, 'vect__ngram_range': (1,...         0.932327   \n",
       "10  {'clf__alpha': 1e-12, 'vect__ngram_range': (1,...         0.931508   \n",
       "3   {'clf__alpha': 1e-06, 'vect__ngram_range': (1,...         0.925427   \n",
       "6   {'clf__alpha': 1e-09, 'vect__ngram_range': (1,...         0.897272   \n",
       "9   {'clf__alpha': 1e-12, 'vect__ngram_range': (1,...         0.895763   \n",
       "0   {'clf__alpha': 0.001, 'vect__ngram_range': (1,...         0.847499   \n",
       "1   {'clf__alpha': 0.001, 'vect__ngram_range': (1,...         0.778234   \n",
       "2   {'clf__alpha': 0.001, 'vect__ngram_range': (1,...         0.763134   \n",
       "\n",
       "    rank_test_score  \n",
       "5                 1  \n",
       "4                 2  \n",
       "8                 3  \n",
       "11                4  \n",
       "7                 5  \n",
       "10                6  \n",
       "3                 7  \n",
       "6                 8  \n",
       "9                 9  \n",
       "0                10  \n",
       "1                11  \n",
       "2                12  "
      ]
     },
     "metadata": {},
     "output_type": "display_data"
    },
    {
     "name": "stdout",
     "output_type": "stream",
     "text": [
      "BEST PARAMS: {'clf__alpha': 1e-06, 'vect__ngram_range': (1, 3)}\n"
     ]
    },
    {
     "data": {
      "text/html": [
       "<div>\n",
       "<style scoped>\n",
       "    .dataframe tbody tr th:only-of-type {\n",
       "        vertical-align: middle;\n",
       "    }\n",
       "\n",
       "    .dataframe tbody tr th {\n",
       "        vertical-align: top;\n",
       "    }\n",
       "\n",
       "    .dataframe thead th {\n",
       "        text-align: right;\n",
       "    }\n",
       "</style>\n",
       "<table border=\"1\" class=\"dataframe\">\n",
       "  <thead>\n",
       "    <tr style=\"text-align: right;\">\n",
       "      <th></th>\n",
       "      <th>param_clf__alpha</th>\n",
       "      <th>param_vect__ngram_range</th>\n",
       "      <th>params</th>\n",
       "      <th>mean_test_score</th>\n",
       "      <th>rank_test_score</th>\n",
       "    </tr>\n",
       "  </thead>\n",
       "  <tbody>\n",
       "    <tr>\n",
       "      <th>5</th>\n",
       "      <td>0.000001</td>\n",
       "      <td>(1, 3)</td>\n",
       "      <td>{'clf__alpha': 1e-06, 'vect__ngram_range': (1,...</td>\n",
       "      <td>0.941054</td>\n",
       "      <td>1</td>\n",
       "    </tr>\n",
       "    <tr>\n",
       "      <th>4</th>\n",
       "      <td>0.000001</td>\n",
       "      <td>(1, 2)</td>\n",
       "      <td>{'clf__alpha': 1e-06, 'vect__ngram_range': (1,...</td>\n",
       "      <td>0.938990</td>\n",
       "      <td>2</td>\n",
       "    </tr>\n",
       "    <tr>\n",
       "      <th>8</th>\n",
       "      <td>0.0</td>\n",
       "      <td>(1, 3)</td>\n",
       "      <td>{'clf__alpha': 1e-09, 'vect__ngram_range': (1,...</td>\n",
       "      <td>0.933918</td>\n",
       "      <td>3</td>\n",
       "    </tr>\n",
       "    <tr>\n",
       "      <th>11</th>\n",
       "      <td>0.0</td>\n",
       "      <td>(1, 3)</td>\n",
       "      <td>{'clf__alpha': 1e-12, 'vect__ngram_range': (1,...</td>\n",
       "      <td>0.933745</td>\n",
       "      <td>4</td>\n",
       "    </tr>\n",
       "    <tr>\n",
       "      <th>7</th>\n",
       "      <td>0.0</td>\n",
       "      <td>(1, 2)</td>\n",
       "      <td>{'clf__alpha': 1e-09, 'vect__ngram_range': (1,...</td>\n",
       "      <td>0.932327</td>\n",
       "      <td>5</td>\n",
       "    </tr>\n",
       "    <tr>\n",
       "      <th>10</th>\n",
       "      <td>0.0</td>\n",
       "      <td>(1, 2)</td>\n",
       "      <td>{'clf__alpha': 1e-12, 'vect__ngram_range': (1,...</td>\n",
       "      <td>0.931508</td>\n",
       "      <td>6</td>\n",
       "    </tr>\n",
       "    <tr>\n",
       "      <th>3</th>\n",
       "      <td>0.000001</td>\n",
       "      <td>(1, 1)</td>\n",
       "      <td>{'clf__alpha': 1e-06, 'vect__ngram_range': (1,...</td>\n",
       "      <td>0.925427</td>\n",
       "      <td>7</td>\n",
       "    </tr>\n",
       "    <tr>\n",
       "      <th>6</th>\n",
       "      <td>0.0</td>\n",
       "      <td>(1, 1)</td>\n",
       "      <td>{'clf__alpha': 1e-09, 'vect__ngram_range': (1,...</td>\n",
       "      <td>0.897272</td>\n",
       "      <td>8</td>\n",
       "    </tr>\n",
       "    <tr>\n",
       "      <th>9</th>\n",
       "      <td>0.0</td>\n",
       "      <td>(1, 1)</td>\n",
       "      <td>{'clf__alpha': 1e-12, 'vect__ngram_range': (1,...</td>\n",
       "      <td>0.895763</td>\n",
       "      <td>9</td>\n",
       "    </tr>\n",
       "    <tr>\n",
       "      <th>0</th>\n",
       "      <td>0.001</td>\n",
       "      <td>(1, 1)</td>\n",
       "      <td>{'clf__alpha': 0.001, 'vect__ngram_range': (1,...</td>\n",
       "      <td>0.847499</td>\n",
       "      <td>10</td>\n",
       "    </tr>\n",
       "    <tr>\n",
       "      <th>1</th>\n",
       "      <td>0.001</td>\n",
       "      <td>(1, 2)</td>\n",
       "      <td>{'clf__alpha': 0.001, 'vect__ngram_range': (1,...</td>\n",
       "      <td>0.778234</td>\n",
       "      <td>11</td>\n",
       "    </tr>\n",
       "    <tr>\n",
       "      <th>2</th>\n",
       "      <td>0.001</td>\n",
       "      <td>(1, 3)</td>\n",
       "      <td>{'clf__alpha': 0.001, 'vect__ngram_range': (1,...</td>\n",
       "      <td>0.763134</td>\n",
       "      <td>12</td>\n",
       "    </tr>\n",
       "  </tbody>\n",
       "</table>\n",
       "</div>"
      ],
      "text/plain": [
       "   param_clf__alpha param_vect__ngram_range  \\\n",
       "5          0.000001                  (1, 3)   \n",
       "4          0.000001                  (1, 2)   \n",
       "8               0.0                  (1, 3)   \n",
       "11              0.0                  (1, 3)   \n",
       "7               0.0                  (1, 2)   \n",
       "10              0.0                  (1, 2)   \n",
       "3          0.000001                  (1, 1)   \n",
       "6               0.0                  (1, 1)   \n",
       "9               0.0                  (1, 1)   \n",
       "0             0.001                  (1, 1)   \n",
       "1             0.001                  (1, 2)   \n",
       "2             0.001                  (1, 3)   \n",
       "\n",
       "                                               params  mean_test_score  \\\n",
       "5   {'clf__alpha': 1e-06, 'vect__ngram_range': (1,...         0.941054   \n",
       "4   {'clf__alpha': 1e-06, 'vect__ngram_range': (1,...         0.938990   \n",
       "8   {'clf__alpha': 1e-09, 'vect__ngram_range': (1,...         0.933918   \n",
       "11  {'clf__alpha': 1e-12, 'vect__ngram_range': (1,...         0.933745   \n",
       "7   {'clf__alpha': 1e-09, 'vect__ngram_range': (1,...         0.932327   \n",
       "10  {'clf__alpha': 1e-12, 'vect__ngram_range': (1,...         0.931508   \n",
       "3   {'clf__alpha': 1e-06, 'vect__ngram_range': (1,...         0.925427   \n",
       "6   {'clf__alpha': 1e-09, 'vect__ngram_range': (1,...         0.897272   \n",
       "9   {'clf__alpha': 1e-12, 'vect__ngram_range': (1,...         0.895763   \n",
       "0   {'clf__alpha': 0.001, 'vect__ngram_range': (1,...         0.847499   \n",
       "1   {'clf__alpha': 0.001, 'vect__ngram_range': (1,...         0.778234   \n",
       "2   {'clf__alpha': 0.001, 'vect__ngram_range': (1,...         0.763134   \n",
       "\n",
       "    rank_test_score  \n",
       "5                 1  \n",
       "4                 2  \n",
       "8                 3  \n",
       "11                4  \n",
       "7                 5  \n",
       "10                6  \n",
       "3                 7  \n",
       "6                 8  \n",
       "9                 9  \n",
       "0                10  \n",
       "1                11  \n",
       "2                12  "
      ]
     },
     "metadata": {},
     "output_type": "display_data"
    },
    {
     "name": "stdout",
     "output_type": "stream",
     "text": [
      "BEST PARAMS: {'clf__alpha': 1e-06, 'vect__ngram_range': (1, 3)}\n",
      "CPU times: user 30.1 s, sys: 919 ms, total: 31.1 s\n",
      "Wall time: 31.2 s\n"
     ]
    }
   ],
   "source": [
    "%%time\n",
    "\n",
    "metrics_gsCV = []\n",
    "agnews_gsCV_list = []\n",
    "overview_gsCV = pd.DataFrame(index = ['Accuracy', 'Recall', 'Precision'])\n",
    "\n",
    "for model in model_classifiers:\n",
    "    display(crossvalidation_report_df(sgd_grid))\n",
    "    sgd_best = sgd_grid.best_estimator_\n",
    "    print('BEST PARAMS:', sgd_grid.best_params_)\n",
    "    \n",
    "    metrics_gsCV.append((classification_report(test_ag[model], \n",
    "                            sgd_best.predict(test_ag.text), \n",
    "                            target_names=[model, 'not_' + model], output_dict = True)).copy())\n",
    "\n",
    "    agnews_gsCV_list.append(sort_feature_weights(sgd_best))\n",
    "    \n",
    "    overview_gsCV[model[:-4]] = (round(metrics_gsCV[-1][model]['precision'],4),\n",
    "                            round(metrics_gsCV[-1][model]['recall'],4),\n",
    "                            round(metrics_gsCV[-1]['accuracy'], 4))"
   ]
  },
  {
   "cell_type": "code",
   "execution_count": 141,
   "metadata": {},
   "outputs": [
    {
     "data": {
      "text/html": [
       "<div>\n",
       "<style scoped>\n",
       "    .dataframe tbody tr th:only-of-type {\n",
       "        vertical-align: middle;\n",
       "    }\n",
       "\n",
       "    .dataframe tbody tr th {\n",
       "        vertical-align: top;\n",
       "    }\n",
       "\n",
       "    .dataframe thead th {\n",
       "        text-align: right;\n",
       "    }\n",
       "</style>\n",
       "<table border=\"1\" class=\"dataframe\">\n",
       "  <thead>\n",
       "    <tr style=\"text-align: right;\">\n",
       "      <th></th>\n",
       "      <th>science</th>\n",
       "      <th>sports</th>\n",
       "      <th>world</th>\n",
       "      <th>business</th>\n",
       "    </tr>\n",
       "  </thead>\n",
       "  <tbody>\n",
       "    <tr>\n",
       "      <th>Accuracy</th>\n",
       "      <td>0.6867</td>\n",
       "      <td>0.6768</td>\n",
       "      <td>0.6805</td>\n",
       "      <td>0.9560</td>\n",
       "    </tr>\n",
       "    <tr>\n",
       "      <th>Recall</th>\n",
       "      <td>0.6984</td>\n",
       "      <td>0.6811</td>\n",
       "      <td>0.6895</td>\n",
       "      <td>0.9670</td>\n",
       "    </tr>\n",
       "    <tr>\n",
       "      <th>Precision</th>\n",
       "      <td>0.5371</td>\n",
       "      <td>0.5142</td>\n",
       "      <td>0.5249</td>\n",
       "      <td>0.9418</td>\n",
       "    </tr>\n",
       "  </tbody>\n",
       "</table>\n",
       "</div>"
      ],
      "text/plain": [
       "           science  sports   world  business\n",
       "Accuracy    0.6867  0.6768  0.6805    0.9560\n",
       "Recall      0.6984  0.6811  0.6895    0.9670\n",
       "Precision   0.5371  0.5142  0.5249    0.9418"
      ]
     },
     "execution_count": 141,
     "metadata": {},
     "output_type": "execute_result"
    }
   ],
   "source": [
    "overview_gsCV"
   ]
  },
  {
   "cell_type": "markdown",
   "metadata": {},
   "source": [
    "# 5. Precision and Recall - Binary Classification "
   ]
  },
  {
   "cell_type": "markdown",
   "metadata": {},
   "source": [
    "This section looks at precision and recall metrics. In the following we are playing with the metrics. \n",
    "\n",
    "First we will compute the prediction scores of our trained bag-ofngrams model on the test data, as well as visualize the data sorted by the prediction score. Finally, we will vary the threshold of the classifier to change the precision and recall of a trained model.\n",
    "Finally, we plot the recall-precision curve for all classifiers."
   ]
  },
  {
   "cell_type": "markdown",
   "metadata": {},
   "source": [
    "## 5.1 Precision and Recall - Science News"
   ]
  },
  {
   "cell_type": "code",
   "execution_count": 142,
   "metadata": {},
   "outputs": [],
   "source": [
    "test_ag['score_sgd_best_sc'] = sgd_best_sc.decision_function(test_ag.text)"
   ]
  },
  {
   "cell_type": "code",
   "execution_count": 143,
   "metadata": {},
   "outputs": [],
   "source": [
    "# to sort ascending to score_sgd_best\n",
    "test_ag.sort_values(by='score_sgd_best_sc', ascending=False, inplace=True)"
   ]
  },
  {
   "cell_type": "code",
   "execution_count": 144,
   "metadata": {},
   "outputs": [
    {
     "data": {
      "application/vnd.jupyter.widget-view+json": {
       "model_id": "0b33585d6dd34e3aabf1bed7ea1599b4",
       "version_major": 2,
       "version_minor": 0
      },
      "text/plain": [
       "QgridWidget(grid_options={'fullWidthRows': True, 'syncColumnCellResize': True, 'forceFitColumns': True, 'defau…"
      ]
     },
     "metadata": {},
     "output_type": "display_data"
    }
   ],
   "source": [
    "show_grid(test_ag)"
   ]
  },
  {
   "cell_type": "code",
   "execution_count": 145,
   "metadata": {},
   "outputs": [
    {
     "name": "stdout",
     "output_type": "stream",
     "text": [
      "Metrics with threshold=-2\n",
      "                             precision    recall  f1-score   support\n",
      "\n",
      "negative (not science news)       1.00      0.12      0.21      7463\n",
      "    positive (science news)       0.28      1.00      0.43      2537\n",
      "\n",
      "                   accuracy                           0.34     10000\n",
      "                  macro avg       0.64      0.56      0.32     10000\n",
      "               weighted avg       0.82      0.34      0.26     10000\n",
      "\n",
      "\n",
      "Metrics with threshold=-1\n",
      "                             precision    recall  f1-score   support\n",
      "\n",
      "negative (not science news)       0.99      0.77      0.87      7463\n",
      "    positive (science news)       0.59      0.99      0.74      2537\n",
      "\n",
      "                   accuracy                           0.82     10000\n",
      "                  macro avg       0.79      0.88      0.80     10000\n",
      "               weighted avg       0.89      0.82      0.83     10000\n",
      "\n",
      "\n",
      "Metrics with threshold=0\n",
      "                             precision    recall  f1-score   support\n",
      "\n",
      "negative (not science news)       0.96      0.96      0.96      7463\n",
      "    positive (science news)       0.89      0.88      0.88      2537\n",
      "\n",
      "                   accuracy                           0.94     10000\n",
      "                  macro avg       0.92      0.92      0.92     10000\n",
      "               weighted avg       0.94      0.94      0.94     10000\n",
      "\n",
      "\n",
      "Metrics with threshold=1\n",
      "                             precision    recall  f1-score   support\n",
      "\n",
      "negative (not science news)       0.87      0.99      0.93      7463\n",
      "    positive (science news)       0.96      0.57      0.71      2537\n",
      "\n",
      "                   accuracy                           0.88     10000\n",
      "                  macro avg       0.91      0.78      0.82     10000\n",
      "               weighted avg       0.89      0.88      0.87     10000\n",
      "\n",
      "\n",
      "Metrics with threshold=2\n",
      "                             precision    recall  f1-score   support\n",
      "\n",
      "negative (not science news)       0.77      1.00      0.87      7463\n",
      "    positive (science news)       0.98      0.13      0.23      2537\n",
      "\n",
      "                   accuracy                           0.78     10000\n",
      "                  macro avg       0.87      0.56      0.55     10000\n",
      "               weighted avg       0.82      0.78      0.71     10000\n",
      "\n",
      "\n"
     ]
    }
   ],
   "source": [
    "# the scores are computed once the model is fit\n",
    "test_scores_sc = sgd_best_sc.decision_function(test_ag.text)\n",
    "\n",
    "# and afterwards we can alter the threshold\n",
    "for threshold in [-2, -1, 0, 1, 2]:\n",
    "    print(\"Metrics with threshold={}\".format(threshold))\n",
    "    print(classification_report(test_ag.science_int,\n",
    "                                [1 if s>threshold else 0 for s in test_scores_sc],\n",
    "                                target_names=['negative (not science news)', 'positive (science news)']))\n",
    "    print()"
   ]
  },
  {
   "cell_type": "markdown",
   "metadata": {},
   "source": [
    "Analyzing the outcome, it is possible to say, that the threshold of 0 leads to the best performance metrics."
   ]
  },
  {
   "cell_type": "markdown",
   "metadata": {},
   "source": [
    "Now we compute the curve for precision-recall-threshold-values: "
   ]
  },
  {
   "cell_type": "code",
   "execution_count": 146,
   "metadata": {},
   "outputs": [],
   "source": [
    "pr_sgd_best_sc = sklearn.metrics.precision_recall_curve(test_ag.science_int,\n",
    "                                                        sgd_best_sc.decision_function(test_ag.text),\n",
    "                                                        pos_label=1)"
   ]
  },
  {
   "cell_type": "code",
   "execution_count": 147,
   "metadata": {},
   "outputs": [],
   "source": [
    "pr_sgd_uni_sc = sklearn.metrics.precision_recall_curve(test_ag.science_int,\n",
    "                                                       ag_sgd_sc.decision_function(test_ag.text),\n",
    "                                                       pos_label=1)"
   ]
  },
  {
   "cell_type": "code",
   "execution_count": 148,
   "metadata": {},
   "outputs": [
    {
     "data": {
      "text/plain": [
       "<matplotlib.legend.Legend at 0x1f8646610>"
      ]
     },
     "execution_count": 148,
     "metadata": {},
     "output_type": "execute_result"
    },
    {
     "data": {
      "image/png": "[encoded data removed]",
      "text/plain": [
       "<Figure size 1080x1080 with 1 Axes>"
      ]
     },
     "metadata": {
      "needs_background": "light"
     },
     "output_type": "display_data"
    }
   ],
   "source": [
    "plt.figure(figsize=(15,15))\n",
    "plt.title('Precision-Recall Curve: Binary Classification - Science News')\n",
    "plt.xlabel('Precision')\n",
    "plt.ylabel('Recall')\n",
    "plt.scatter(y=pr_sgd_best_sc[0], x=pr_sgd_best_sc[1], label='ngrams', color='red')\n",
    "plt.scatter(y=pr_sgd_uni_sc[0], x=pr_sgd_uni_sc[1], label='unigrams', color='darkblue')\n",
    "plt.grid(True)\n",
    "plt.legend()"
   ]
  },
  {
   "cell_type": "markdown",
   "metadata": {},
   "source": [
    "## 5.2 Precision and Recall - Sports News"
   ]
  },
  {
   "cell_type": "code",
   "execution_count": 149,
   "metadata": {},
   "outputs": [],
   "source": [
    "test_ag['score_sgd_best_sp'] = sgd_best_sp.decision_function(test_ag.text)"
   ]
  },
  {
   "cell_type": "code",
   "execution_count": 150,
   "metadata": {},
   "outputs": [],
   "source": [
    "# to sort ascending to score_sgd_best\n",
    "test_ag.sort_values(by='score_sgd_best_sp', ascending=False, inplace=True)"
   ]
  },
  {
   "cell_type": "code",
   "execution_count": 151,
   "metadata": {},
   "outputs": [
    {
     "name": "stdout",
     "output_type": "stream",
     "text": [
      "Metrics with threshold=-2\n",
      "                            precision    recall  f1-score   support\n",
      "\n",
      "negative (not sports news)       1.00      0.14      0.25      7542\n",
      "    positive (sports news)       0.28      1.00      0.43      2458\n",
      "\n",
      "                  accuracy                           0.35     10000\n",
      "                 macro avg       0.64      0.57      0.34     10000\n",
      "              weighted avg       0.82      0.35      0.30     10000\n",
      "\n",
      "\n",
      "Metrics with threshold=-1\n",
      "                            precision    recall  f1-score   support\n",
      "\n",
      "negative (not sports news)       1.00      0.85      0.92      7542\n",
      "    positive (sports news)       0.69      1.00      0.81      2458\n",
      "\n",
      "                  accuracy                           0.89     10000\n",
      "                 macro avg       0.84      0.93      0.87     10000\n",
      "              weighted avg       0.92      0.89      0.89     10000\n",
      "\n",
      "\n",
      "Metrics with threshold=0\n",
      "                            precision    recall  f1-score   support\n",
      "\n",
      "negative (not sports news)       0.99      0.99      0.99      7542\n",
      "    positive (sports news)       0.96      0.98      0.97      2458\n",
      "\n",
      "                  accuracy                           0.98     10000\n",
      "                 macro avg       0.98      0.98      0.98     10000\n",
      "              weighted avg       0.98      0.98      0.98     10000\n",
      "\n",
      "\n",
      "Metrics with threshold=1\n",
      "                            precision    recall  f1-score   support\n",
      "\n",
      "negative (not sports news)       0.93      1.00      0.96      7542\n",
      "    positive (sports news)       0.99      0.77      0.86      2458\n",
      "\n",
      "                  accuracy                           0.94     10000\n",
      "                 macro avg       0.96      0.88      0.91     10000\n",
      "              weighted avg       0.94      0.94      0.94     10000\n",
      "\n",
      "\n",
      "Metrics with threshold=2\n",
      "                            precision    recall  f1-score   support\n",
      "\n",
      "negative (not sports news)       0.80      1.00      0.89      7542\n",
      "    positive (sports news)       1.00      0.23      0.37      2458\n",
      "\n",
      "                  accuracy                           0.81     10000\n",
      "                 macro avg       0.90      0.61      0.63     10000\n",
      "              weighted avg       0.85      0.81      0.76     10000\n",
      "\n",
      "\n"
     ]
    }
   ],
   "source": [
    "# the scores are computed once the model is fit\n",
    "test_scores_sp = sgd_best_sp.decision_function(test_ag.text)\n",
    "\n",
    "# and afterwards we can alter the threshold\n",
    "for threshold in [-2, -1, 0, 1, 2]:\n",
    "    print(\"Metrics with threshold={}\".format(threshold))\n",
    "    print(classification_report(test_ag.sports_int,\n",
    "                                [1 if s>threshold else 0 for s in test_scores_sp],\n",
    "                                target_names=['negative (not sports news)', 'positive (sports news)']))\n",
    "    print()"
   ]
  },
  {
   "cell_type": "markdown",
   "metadata": {},
   "source": [
    "Analyzing the outcome, it is possible to say, that the threshold of 0 leads to the best performance metrics."
   ]
  },
  {
   "cell_type": "code",
   "execution_count": 152,
   "metadata": {},
   "outputs": [],
   "source": [
    "pr_sgd_best_sp = sklearn.metrics.precision_recall_curve(test_ag.sports_int,\n",
    "                                                        sgd_best_sp.decision_function(test_ag.text),\n",
    "                                                        pos_label=1)"
   ]
  },
  {
   "cell_type": "code",
   "execution_count": 153,
   "metadata": {},
   "outputs": [],
   "source": [
    "pr_sgd_uni_sp = sklearn.metrics.precision_recall_curve(test_ag.sports_int,\n",
    "                                                       ag_sgd_sp.decision_function(test_ag.text),\n",
    "                                                       pos_label=1)"
   ]
  },
  {
   "cell_type": "code",
   "execution_count": 154,
   "metadata": {},
   "outputs": [
    {
     "data": {
      "text/plain": [
       "<matplotlib.legend.Legend at 0x1f8733760>"
      ]
     },
     "execution_count": 154,
     "metadata": {},
     "output_type": "execute_result"
    },
    {
     "data": {
      "image/png": "[encoded data removed]",
      "text/plain": [
       "<Figure size 1080x1080 with 1 Axes>"
      ]
     },
     "metadata": {
      "needs_background": "light"
     },
     "output_type": "display_data"
    }
   ],
   "source": [
    "plt.figure(figsize=(15,15))\n",
    "plt.title('Precision-Recall Curve: Binary Classification - Sports News')\n",
    "plt.xlabel('Precision')\n",
    "plt.ylabel('Recall')\n",
    "plt.scatter(y=pr_sgd_best_sp[0], x=pr_sgd_best_sp[1], label='ngrams', color='red')\n",
    "plt.scatter(y=pr_sgd_uni_sp[0], x=pr_sgd_uni_sp[1], label='unigrams', color='darkblue')\n",
    "plt.grid(True)\n",
    "plt.legend()"
   ]
  },
  {
   "cell_type": "markdown",
   "metadata": {},
   "source": [
    "## 5.3 Precision and Recall - World News"
   ]
  },
  {
   "cell_type": "code",
   "execution_count": 155,
   "metadata": {},
   "outputs": [],
   "source": [
    "test_ag['score_sgd_best_wrld'] = sgd_best_wrld.decision_function(test_ag.text)"
   ]
  },
  {
   "cell_type": "code",
   "execution_count": 156,
   "metadata": {},
   "outputs": [],
   "source": [
    "# to sort ascending to score_sgd_best\n",
    "test_ag.sort_values(by='score_sgd_best_wrld', ascending=False, inplace=True)"
   ]
  },
  {
   "cell_type": "code",
   "execution_count": 157,
   "metadata": {},
   "outputs": [
    {
     "name": "stdout",
     "output_type": "stream",
     "text": [
      "Metrics with threshold=-2\n",
      "                           precision    recall  f1-score   support\n",
      "\n",
      "negative (not World news)       1.00      0.08      0.15      7491\n",
      "    positive (World news)       0.27      1.00      0.42      2509\n",
      "\n",
      "                 accuracy                           0.31     10000\n",
      "                macro avg       0.63      0.54      0.29     10000\n",
      "             weighted avg       0.82      0.31      0.22     10000\n",
      "\n",
      "\n",
      "Metrics with threshold=-1\n",
      "                           precision    recall  f1-score   support\n",
      "\n",
      "negative (not World news)       0.99      0.75      0.86      7491\n",
      "    positive (World news)       0.57      0.97      0.72      2509\n",
      "\n",
      "                 accuracy                           0.81     10000\n",
      "                macro avg       0.78      0.86      0.79     10000\n",
      "             weighted avg       0.88      0.81      0.82     10000\n",
      "\n",
      "\n",
      "Metrics with threshold=0\n",
      "                           precision    recall  f1-score   support\n",
      "\n",
      "negative (not World news)       0.96      0.97      0.97      7491\n",
      "    positive (World news)       0.92      0.89      0.90      2509\n",
      "\n",
      "                 accuracy                           0.95     10000\n",
      "                macro avg       0.94      0.93      0.94     10000\n",
      "             weighted avg       0.95      0.95      0.95     10000\n",
      "\n",
      "\n",
      "Metrics with threshold=1\n",
      "                           precision    recall  f1-score   support\n",
      "\n",
      "negative (not World news)       0.90      1.00      0.94      7491\n",
      "    positive (World news)       0.98      0.65      0.79      2509\n",
      "\n",
      "                 accuracy                           0.91     10000\n",
      "                macro avg       0.94      0.83      0.86     10000\n",
      "             weighted avg       0.92      0.91      0.90     10000\n",
      "\n",
      "\n",
      "Metrics with threshold=2\n",
      "                           precision    recall  f1-score   support\n",
      "\n",
      "negative (not World news)       0.79      1.00      0.88      7491\n",
      "    positive (World news)       0.99      0.20      0.33      2509\n",
      "\n",
      "                 accuracy                           0.80     10000\n",
      "                macro avg       0.89      0.60      0.61     10000\n",
      "             weighted avg       0.84      0.80      0.74     10000\n",
      "\n",
      "\n"
     ]
    }
   ],
   "source": [
    "# the scores are computed once the model is fit\n",
    "test_scores_wrld = sgd_best_wrld.decision_function(test_ag.text)\n",
    "\n",
    "# and afterwards we can alter the threshold\n",
    "for threshold in [-2, -1, 0, 1, 2]:\n",
    "    print(\"Metrics with threshold={}\".format(threshold))\n",
    "    print(classification_report(test_ag.world_int,\n",
    "                                [1 if s>threshold else 0 for s in test_scores_wrld],\n",
    "                                target_names=['negative (not World news)', 'positive (World news)']))\n",
    "    print()"
   ]
  },
  {
   "cell_type": "markdown",
   "metadata": {},
   "source": [
    "Analyzing the outcome, it is possible to say, that the threshold of 0 leads to the best performance metrics."
   ]
  },
  {
   "cell_type": "code",
   "execution_count": 158,
   "metadata": {},
   "outputs": [],
   "source": [
    "pr_sgd_best_wrld = sklearn.metrics.precision_recall_curve(test_ag.world_int,\n",
    "                                                        sgd_best_wrld.decision_function(test_ag.text),\n",
    "                                                        pos_label=1)"
   ]
  },
  {
   "cell_type": "code",
   "execution_count": 159,
   "metadata": {},
   "outputs": [],
   "source": [
    "pr_sgd_uni_wrld = sklearn.metrics.precision_recall_curve(test_ag.world_int,\n",
    "                                                       ag_sgd_wrld.decision_function(test_ag.text),\n",
    "                                                       pos_label=1)"
   ]
  },
  {
   "cell_type": "code",
   "execution_count": 160,
   "metadata": {},
   "outputs": [
    {
     "data": {
      "text/plain": [
       "<matplotlib.legend.Legend at 0x1f87a6ca0>"
      ]
     },
     "execution_count": 160,
     "metadata": {},
     "output_type": "execute_result"
    },
    {
     "data": {
      "image/png": "[encoded data removed]",
      "text/plain": [
       "<Figure size 1080x1080 with 1 Axes>"
      ]
     },
     "metadata": {
      "needs_background": "light"
     },
     "output_type": "display_data"
    }
   ],
   "source": [
    "plt.figure(figsize=(15,15))\n",
    "plt.title('Precision-Recall Curve: Binary Classification - World News')\n",
    "plt.xlabel('Precision')\n",
    "plt.ylabel('Recall')\n",
    "plt.scatter(y=pr_sgd_best_wrld[0], x=pr_sgd_best_wrld[1], label='ngrams', color='red')\n",
    "plt.scatter(y=pr_sgd_uni_wrld[0], x=pr_sgd_uni_wrld[1], label='unigrams', color='darkblue')\n",
    "plt.grid(True)\n",
    "plt.legend()"
   ]
  },
  {
   "cell_type": "markdown",
   "metadata": {},
   "source": [
    "## 5.4 Precision and Recall - Business News"
   ]
  },
  {
   "cell_type": "code",
   "execution_count": 161,
   "metadata": {},
   "outputs": [],
   "source": [
    "test_ag['score_sgd_best_bus'] = sgd_best_bus.decision_function(test_ag.text)"
   ]
  },
  {
   "cell_type": "code",
   "execution_count": 162,
   "metadata": {},
   "outputs": [],
   "source": [
    "# to sort ascending to score_sgd_best\n",
    "test_ag.sort_values(by='score_sgd_best_bus', ascending=False, inplace=True)"
   ]
  },
  {
   "cell_type": "code",
   "execution_count": 163,
   "metadata": {},
   "outputs": [
    {
     "name": "stdout",
     "output_type": "stream",
     "text": [
      "Metrics with threshold=-2\n",
      "                              precision    recall  f1-score   support\n",
      "\n",
      "negative (not Business news)       1.00      0.12      0.21      7504\n",
      "    positive (Business news)       0.27      1.00      0.43      2496\n",
      "\n",
      "                    accuracy                           0.34     10000\n",
      "                   macro avg       0.63      0.56      0.32     10000\n",
      "                weighted avg       0.82      0.34      0.26     10000\n",
      "\n",
      "\n",
      "Metrics with threshold=-1\n",
      "                              precision    recall  f1-score   support\n",
      "\n",
      "negative (not Business news)       0.99      0.74      0.85      7504\n",
      "    positive (Business news)       0.56      0.97      0.71      2496\n",
      "\n",
      "                    accuracy                           0.80     10000\n",
      "                   macro avg       0.77      0.86      0.78     10000\n",
      "                weighted avg       0.88      0.80      0.81     10000\n",
      "\n",
      "\n",
      "Metrics with threshold=0\n",
      "                              precision    recall  f1-score   support\n",
      "\n",
      "negative (not Business news)       0.96      0.97      0.96      7504\n",
      "    positive (Business news)       0.90      0.87      0.88      2496\n",
      "\n",
      "                    accuracy                           0.94     10000\n",
      "                   macro avg       0.93      0.92      0.92     10000\n",
      "                weighted avg       0.94      0.94      0.94     10000\n",
      "\n",
      "\n",
      "Metrics with threshold=1\n",
      "                              precision    recall  f1-score   support\n",
      "\n",
      "negative (not Business news)       0.88      0.99      0.93      7504\n",
      "    positive (Business news)       0.97      0.58      0.72      2496\n",
      "\n",
      "                    accuracy                           0.89     10000\n",
      "                   macro avg       0.92      0.79      0.83     10000\n",
      "                weighted avg       0.90      0.89      0.88     10000\n",
      "\n",
      "\n",
      "Metrics with threshold=2\n",
      "                              precision    recall  f1-score   support\n",
      "\n",
      "negative (not Business news)       0.78      1.00      0.88      7504\n",
      "    positive (Business news)       0.99      0.16      0.27      2496\n",
      "\n",
      "                    accuracy                           0.79     10000\n",
      "                   macro avg       0.89      0.58      0.58     10000\n",
      "                weighted avg       0.83      0.79      0.73     10000\n",
      "\n",
      "\n"
     ]
    }
   ],
   "source": [
    "# the scores are computed once the model is fit\n",
    "test_scores_bus = sgd_best_bus.decision_function(test_ag.text)\n",
    "\n",
    "# and afterwards we can alter the threshold\n",
    "for threshold in [-2, -1, 0, 1, 2]:\n",
    "    print(\"Metrics with threshold={}\".format(threshold))\n",
    "    print(classification_report(test_ag.business_int,\n",
    "                                [1 if s>threshold else 0 for s in test_scores_bus],\n",
    "                                target_names=['negative (not Business news)', 'positive (Business news)']))\n",
    "    print()"
   ]
  },
  {
   "cell_type": "markdown",
   "metadata": {},
   "source": [
    "Analyzing the outcome, it is possible to say, that the threshold of 0 leads to the best performance metrics."
   ]
  },
  {
   "cell_type": "code",
   "execution_count": 164,
   "metadata": {},
   "outputs": [],
   "source": [
    "pr_sgd_best_bus = sklearn.metrics.precision_recall_curve(test_ag.business_int,\n",
    "                                                        sgd_best_bus.decision_function(test_ag.text),\n",
    "                                                        pos_label=1)"
   ]
  },
  {
   "cell_type": "code",
   "execution_count": 165,
   "metadata": {},
   "outputs": [],
   "source": [
    "pr_sgd_uni_bus = sklearn.metrics.precision_recall_curve(test_ag.business_int,\n",
    "                                                       ag_sgd_bu.decision_function(test_ag.text),\n",
    "                                                       pos_label=1)"
   ]
  },
  {
   "cell_type": "code",
   "execution_count": 166,
   "metadata": {},
   "outputs": [
    {
     "data": {
      "text/plain": [
       "<matplotlib.legend.Legend at 0x1f8a18b50>"
      ]
     },
     "execution_count": 166,
     "metadata": {},
     "output_type": "execute_result"
    },
    {
     "data": {
      "image/png": "[encoded data removed]",
      "text/plain": [
       "<Figure size 1080x1080 with 1 Axes>"
      ]
     },
     "metadata": {
      "needs_background": "light"
     },
     "output_type": "display_data"
    }
   ],
   "source": [
    "plt.figure(figsize=(15,15))\n",
    "plt.title('Precision-Recall Curve: Binary Classification - Business News')\n",
    "plt.xlabel('Precision')\n",
    "plt.ylabel('Recall')\n",
    "plt.scatter(y=pr_sgd_best_bus[0], x=pr_sgd_best_bus[1], label='ngrams', color='red')\n",
    "plt.scatter(y=pr_sgd_uni_bus[0], x=pr_sgd_uni_bus[1], label='unigrams', color='darkblue')\n",
    "plt.grid(True)\n",
    "plt.legend()"
   ]
  },
  {
   "cell_type": "markdown",
   "metadata": {},
   "source": [
    "# Optional Goals"
   ]
  },
  {
   "cell_type": "markdown",
   "metadata": {},
   "source": [
    "# Optional 1: Experimenting with Multiclass Methods"
   ]
  },
  {
   "cell_type": "markdown",
   "metadata": {},
   "source": [
    "Multiclass classification is a classification task with more than two classes. Each sample can only be labeled as one class.\n",
    "\n",
    "Multiclass classification makes the assumption that each sample is assigned to one and only one label - one sample cannot, for example, be both a pear and an apple."
   ]
  },
  {
   "cell_type": "markdown",
   "metadata": {},
   "source": [
    "## 1.1. Bag-of-words classifiers - Multiclass"
   ]
  },
  {
   "cell_type": "markdown",
   "metadata": {},
   "source": [
    "### **1.1.1. Naive Bayes Model - Multiclass**"
   ]
  },
  {
   "cell_type": "code",
   "execution_count": 167,
   "metadata": {},
   "outputs": [],
   "source": [
    "ag_naivebayes_mc = Pipeline([\n",
    "    ('vect', CountVectorizer()),\n",
    "    ('tfidf', TfidfTransformer()),\n",
    "    ('clf', MultinomialNB()),\n",
    "])"
   ]
  },
  {
   "cell_type": "code",
   "execution_count": 168,
   "metadata": {},
   "outputs": [
    {
     "data": {
      "text/plain": [
       "Pipeline(steps=[('vect', CountVectorizer()), ('tfidf', TfidfTransformer()),\n",
       "                ('clf', MultinomialNB())])"
      ]
     },
     "execution_count": 168,
     "metadata": {},
     "output_type": "execute_result"
    }
   ],
   "source": [
    "ag_naivebayes_mc.fit(train_ag.text,train_ag.label_int)"
   ]
  },
  {
   "cell_type": "code",
   "execution_count": 169,
   "metadata": {},
   "outputs": [],
   "source": [
    "ag_test_naivebayes_mc = ag_naivebayes_mc.predict(test_ag.text)"
   ]
  },
  {
   "cell_type": "code",
   "execution_count": 170,
   "metadata": {},
   "outputs": [
    {
     "name": "stdout",
     "output_type": "stream",
     "text": [
      "               precision    recall  f1-score   support\n",
      "\n",
      " science news       0.88      0.86      0.87      2537\n",
      "  sports news       0.95      0.98      0.96      2458\n",
      "   world news       0.90      0.89      0.89      2509\n",
      "business news       0.86      0.86      0.86      2496\n",
      "\n",
      "     accuracy                           0.90     10000\n",
      "    macro avg       0.90      0.90      0.90     10000\n",
      " weighted avg       0.90      0.90      0.90     10000\n",
      "\n"
     ]
    }
   ],
   "source": [
    "print(classification_report(test_ag.label_int,\n",
    "                            ag_test_naivebayes_mc,\n",
    "                            target_names=['science news', 'sports news', 'world news', 'business news']))"
   ]
  },
  {
   "cell_type": "markdown",
   "metadata": {},
   "source": [
    "### **1.1.2 SGD Classifier - Multiclass**"
   ]
  },
  {
   "cell_type": "code",
   "execution_count": 171,
   "metadata": {},
   "outputs": [],
   "source": [
    "ag_sgd_mc = Pipeline([\n",
    "    ('vect', CountVectorizer()),\n",
    "    ('tfidf', TfidfTransformer(use_idf=True)),\n",
    "    ('clf', SGDClassifier(loss='hinge', penalty='l2',\n",
    "                          alpha=1e-6, random_state=42,\n",
    "                          max_iter=100, tol=None)),\n",
    "    ])"
   ]
  },
  {
   "cell_type": "code",
   "execution_count": 172,
   "metadata": {},
   "outputs": [
    {
     "data": {
      "text/plain": [
       "Pipeline(steps=[('vect', CountVectorizer()), ('tfidf', TfidfTransformer()),\n",
       "                ('clf',\n",
       "                 SGDClassifier(alpha=1e-06, max_iter=100, random_state=42,\n",
       "                               tol=None))])"
      ]
     },
     "execution_count": 172,
     "metadata": {},
     "output_type": "execute_result"
    }
   ],
   "source": [
    "ag_sgd_mc.fit(train_ag.text, train_ag.label_int)"
   ]
  },
  {
   "cell_type": "code",
   "execution_count": 173,
   "metadata": {},
   "outputs": [
    {
     "data": {
      "text/plain": [
       "Pipeline(steps=[('vect', CountVectorizer()), ('tfidf', TfidfTransformer()),\n",
       "                ('clf',\n",
       "                 SGDClassifier(alpha=1e-06, max_iter=100, random_state=42,\n",
       "                               tol=None))])"
      ]
     },
     "execution_count": 173,
     "metadata": {},
     "output_type": "execute_result"
    }
   ],
   "source": [
    "ag_sgd_mc.fit(train_ag.text, train_ag.label_int)"
   ]
  },
  {
   "cell_type": "code",
   "execution_count": 174,
   "metadata": {},
   "outputs": [
    {
     "name": "stdout",
     "output_type": "stream",
     "text": [
      "               precision    recall  f1-score   support\n",
      "\n",
      " science news       0.88      0.88      0.88      2537\n",
      "  sports news       0.96      0.97      0.96      2458\n",
      "   world news       0.91      0.88      0.89      2509\n",
      "business news       0.86      0.88      0.87      2496\n",
      "\n",
      "     accuracy                           0.90     10000\n",
      "    macro avg       0.90      0.90      0.90     10000\n",
      " weighted avg       0.90      0.90      0.90     10000\n",
      "\n"
     ]
    }
   ],
   "source": [
    "print(classification_report(test_ag.label_int,\n",
    "                            ag_sgd_mc.predict(test_ag.text),\n",
    "                            target_names=['science news', 'sports news', 'world news', 'business news']))"
   ]
  },
  {
   "cell_type": "markdown",
   "metadata": {},
   "source": [
    "## 1.2 Bag-of-ngrams (and Grid-Search in sklearn) - Multiclass"
   ]
  },
  {
   "cell_type": "code",
   "execution_count": 175,
   "metadata": {},
   "outputs": [
    {
     "name": "stdout",
     "output_type": "stream",
     "text": [
      "Fitting 5 folds for each of 12 candidates, totalling 60 fits\n"
     ]
    },
    {
     "data": {
      "text/plain": [
       "GridSearchCV(estimator=Pipeline(steps=[('vect', CountVectorizer()),\n",
       "                                       ('tfidf', TfidfTransformer()),\n",
       "                                       ('clf',\n",
       "                                        SGDClassifier(max_iter=100,\n",
       "                                                      random_state=42,\n",
       "                                                      tol=None))]),\n",
       "             param_grid={'clf__alpha': (0.001, 1e-06, 1e-09, 1e-12),\n",
       "                         'vect__ngram_range': [(1, 1), (1, 2), (1, 3)]},\n",
       "             verbose=1)"
      ]
     },
     "execution_count": 175,
     "metadata": {},
     "output_type": "execute_result"
    }
   ],
   "source": [
    "sgd_grid.fit(train_ag.text, train_ag.label_int)"
   ]
  },
  {
   "cell_type": "code",
   "execution_count": 176,
   "metadata": {},
   "outputs": [
    {
     "data": {
      "text/html": [
       "<div>\n",
       "<style scoped>\n",
       "    .dataframe tbody tr th:only-of-type {\n",
       "        vertical-align: middle;\n",
       "    }\n",
       "\n",
       "    .dataframe tbody tr th {\n",
       "        vertical-align: top;\n",
       "    }\n",
       "\n",
       "    .dataframe thead th {\n",
       "        text-align: right;\n",
       "    }\n",
       "</style>\n",
       "<table border=\"1\" class=\"dataframe\">\n",
       "  <thead>\n",
       "    <tr style=\"text-align: right;\">\n",
       "      <th></th>\n",
       "      <th>param_clf__alpha</th>\n",
       "      <th>param_vect__ngram_range</th>\n",
       "      <th>params</th>\n",
       "      <th>mean_test_score</th>\n",
       "      <th>rank_test_score</th>\n",
       "    </tr>\n",
       "  </thead>\n",
       "  <tbody>\n",
       "    <tr>\n",
       "      <th>5</th>\n",
       "      <td>0.000001</td>\n",
       "      <td>(1, 3)</td>\n",
       "      <td>{'clf__alpha': 1e-06, 'vect__ngram_range': (1,...</td>\n",
       "      <td>0.912499</td>\n",
       "      <td>1</td>\n",
       "    </tr>\n",
       "    <tr>\n",
       "      <th>4</th>\n",
       "      <td>0.000001</td>\n",
       "      <td>(1, 2)</td>\n",
       "      <td>{'clf__alpha': 1e-06, 'vect__ngram_range': (1,...</td>\n",
       "      <td>0.910763</td>\n",
       "      <td>2</td>\n",
       "    </tr>\n",
       "    <tr>\n",
       "      <th>8</th>\n",
       "      <td>0.0</td>\n",
       "      <td>(1, 3)</td>\n",
       "      <td>{'clf__alpha': 1e-09, 'vect__ngram_range': (1,...</td>\n",
       "      <td>0.906281</td>\n",
       "      <td>3</td>\n",
       "    </tr>\n",
       "    <tr>\n",
       "      <th>11</th>\n",
       "      <td>0.0</td>\n",
       "      <td>(1, 3)</td>\n",
       "      <td>{'clf__alpha': 1e-12, 'vect__ngram_range': (1,...</td>\n",
       "      <td>0.905808</td>\n",
       "      <td>4</td>\n",
       "    </tr>\n",
       "    <tr>\n",
       "      <th>7</th>\n",
       "      <td>0.0</td>\n",
       "      <td>(1, 2)</td>\n",
       "      <td>{'clf__alpha': 1e-09, 'vect__ngram_range': (1,...</td>\n",
       "      <td>0.902363</td>\n",
       "      <td>5</td>\n",
       "    </tr>\n",
       "    <tr>\n",
       "      <th>10</th>\n",
       "      <td>0.0</td>\n",
       "      <td>(1, 2)</td>\n",
       "      <td>{'clf__alpha': 1e-12, 'vect__ngram_range': (1,...</td>\n",
       "      <td>0.901854</td>\n",
       "      <td>6</td>\n",
       "    </tr>\n",
       "    <tr>\n",
       "      <th>3</th>\n",
       "      <td>0.000001</td>\n",
       "      <td>(1, 1)</td>\n",
       "      <td>{'clf__alpha': 1e-06, 'vect__ngram_range': (1,...</td>\n",
       "      <td>0.892299</td>\n",
       "      <td>7</td>\n",
       "    </tr>\n",
       "    <tr>\n",
       "      <th>2</th>\n",
       "      <td>0.001</td>\n",
       "      <td>(1, 3)</td>\n",
       "      <td>{'clf__alpha': 0.001, 'vect__ngram_range': (1,...</td>\n",
       "      <td>0.870635</td>\n",
       "      <td>8</td>\n",
       "    </tr>\n",
       "    <tr>\n",
       "      <th>0</th>\n",
       "      <td>0.001</td>\n",
       "      <td>(1, 1)</td>\n",
       "      <td>{'clf__alpha': 0.001, 'vect__ngram_range': (1,...</td>\n",
       "      <td>0.868053</td>\n",
       "      <td>9</td>\n",
       "    </tr>\n",
       "    <tr>\n",
       "      <th>1</th>\n",
       "      <td>0.001</td>\n",
       "      <td>(1, 2)</td>\n",
       "      <td>{'clf__alpha': 0.001, 'vect__ngram_range': (1,...</td>\n",
       "      <td>0.867335</td>\n",
       "      <td>10</td>\n",
       "    </tr>\n",
       "    <tr>\n",
       "      <th>9</th>\n",
       "      <td>0.0</td>\n",
       "      <td>(1, 1)</td>\n",
       "      <td>{'clf__alpha': 1e-12, 'vect__ngram_range': (1,...</td>\n",
       "      <td>0.863344</td>\n",
       "      <td>11</td>\n",
       "    </tr>\n",
       "    <tr>\n",
       "      <th>6</th>\n",
       "      <td>0.0</td>\n",
       "      <td>(1, 1)</td>\n",
       "      <td>{'clf__alpha': 1e-09, 'vect__ngram_range': (1,...</td>\n",
       "      <td>0.862744</td>\n",
       "      <td>12</td>\n",
       "    </tr>\n",
       "  </tbody>\n",
       "</table>\n",
       "</div>"
      ],
      "text/plain": [
       "   param_clf__alpha param_vect__ngram_range  \\\n",
       "5          0.000001                  (1, 3)   \n",
       "4          0.000001                  (1, 2)   \n",
       "8               0.0                  (1, 3)   \n",
       "11              0.0                  (1, 3)   \n",
       "7               0.0                  (1, 2)   \n",
       "10              0.0                  (1, 2)   \n",
       "3          0.000001                  (1, 1)   \n",
       "2             0.001                  (1, 3)   \n",
       "0             0.001                  (1, 1)   \n",
       "1             0.001                  (1, 2)   \n",
       "9               0.0                  (1, 1)   \n",
       "6               0.0                  (1, 1)   \n",
       "\n",
       "                                               params  mean_test_score  \\\n",
       "5   {'clf__alpha': 1e-06, 'vect__ngram_range': (1,...         0.912499   \n",
       "4   {'clf__alpha': 1e-06, 'vect__ngram_range': (1,...         0.910763   \n",
       "8   {'clf__alpha': 1e-09, 'vect__ngram_range': (1,...         0.906281   \n",
       "11  {'clf__alpha': 1e-12, 'vect__ngram_range': (1,...         0.905808   \n",
       "7   {'clf__alpha': 1e-09, 'vect__ngram_range': (1,...         0.902363   \n",
       "10  {'clf__alpha': 1e-12, 'vect__ngram_range': (1,...         0.901854   \n",
       "3   {'clf__alpha': 1e-06, 'vect__ngram_range': (1,...         0.892299   \n",
       "2   {'clf__alpha': 0.001, 'vect__ngram_range': (1,...         0.870635   \n",
       "0   {'clf__alpha': 0.001, 'vect__ngram_range': (1,...         0.868053   \n",
       "1   {'clf__alpha': 0.001, 'vect__ngram_range': (1,...         0.867335   \n",
       "9   {'clf__alpha': 1e-12, 'vect__ngram_range': (1,...         0.863344   \n",
       "6   {'clf__alpha': 1e-09, 'vect__ngram_range': (1,...         0.862744   \n",
       "\n",
       "    rank_test_score  \n",
       "5                 1  \n",
       "4                 2  \n",
       "8                 3  \n",
       "11                4  \n",
       "7                 5  \n",
       "10                6  \n",
       "3                 7  \n",
       "2                 8  \n",
       "0                 9  \n",
       "1                10  \n",
       "9                11  \n",
       "6                12  "
      ]
     },
     "execution_count": 176,
     "metadata": {},
     "output_type": "execute_result"
    }
   ],
   "source": [
    "crossvalidation_report_df(sgd_grid)"
   ]
  },
  {
   "cell_type": "code",
   "execution_count": 178,
   "metadata": {},
   "outputs": [
    {
     "name": "stdout",
     "output_type": "stream",
     "text": [
      "BEST PARAMS: {'clf__alpha': 1e-06, 'vect__ngram_range': (1, 3)}\n",
      "               precision    recall  f1-score   support\n",
      "\n",
      " science news       0.89      0.89      0.89      2537\n",
      "  sports news       0.95      0.98      0.97      2458\n",
      "   world news       0.91      0.90      0.91      2509\n",
      "business news       0.89      0.87      0.88      2496\n",
      "\n",
      "     accuracy                           0.91     10000\n",
      "    macro avg       0.91      0.91      0.91     10000\n",
      " weighted avg       0.91      0.91      0.91     10000\n",
      "\n"
     ]
    }
   ],
   "source": [
    "sgd_best_mc = sgd_grid.best_estimator_\n",
    "print('BEST PARAMS:', sgd_grid.best_params_)\n",
    "\n",
    "print(classification_report(test_ag.label_int,\n",
    "                            sgd_best_mc.predict(test_ag.text),\n",
    "                            target_names=['science news', 'sports news', 'world news', 'business news']))"
   ]
  },
  {
   "cell_type": "markdown",
   "metadata": {},
   "source": [
    "## **1.3 OneVSRestClassifier - Multiclass**\n"
   ]
  },
  {
   "cell_type": "markdown",
   "metadata": {},
   "source": [
    "The one-vs-rest strategy, also known as one-vs-all, is implemented in OneVsRestClassifier. The strategy consists in fitting one classifier per class. For each classifier, the class is fitted against all the other classes. In addition to its computational efficiency (only n_classes classifiers are needed), one advantage of this approach is its interpretability. Since each class is represented by one and only one classifier, it is possible to gain knowledge about the class by inspecting its corresponding classifier. This is the most commonly used strategy and is a fair default choice."
   ]
  },
  {
   "cell_type": "code",
   "execution_count": 179,
   "metadata": {},
   "outputs": [],
   "source": [
    "from sklearn.multiclass import OneVsRestClassifier\n",
    "\n",
    "onevsrest = Pipeline([\n",
    "                   ('vect', CountVectorizer()),\n",
    "                   ('tfidf', TfidfTransformer(use_idf=True)),\n",
    "                   ('clf', OneVsRestClassifier(SGDClassifier(loss='hinge', penalty='l2',\n",
    "                                         alpha=1e-6, random_state=42,\n",
    "                                         max_iter=100, tol=None))),])"
   ]
  },
  {
   "cell_type": "code",
   "execution_count": 180,
   "metadata": {},
   "outputs": [
    {
     "data": {
      "text/plain": [
       "Pipeline(steps=[('vect', CountVectorizer()), ('tfidf', TfidfTransformer()),\n",
       "                ('clf',\n",
       "                 OneVsRestClassifier(estimator=SGDClassifier(alpha=1e-06,\n",
       "                                                             max_iter=100,\n",
       "                                                             random_state=42,\n",
       "                                                             tol=None)))])"
      ]
     },
     "execution_count": 180,
     "metadata": {},
     "output_type": "execute_result"
    }
   ],
   "source": [
    "onevsrest.fit(train_ag.text, train_ag.label_int)"
   ]
  },
  {
   "cell_type": "code",
   "execution_count": 181,
   "metadata": {},
   "outputs": [
    {
     "name": "stdout",
     "output_type": "stream",
     "text": [
      "               precision    recall  f1-score   support\n",
      "\n",
      " science news       0.87      0.87      0.87      2537\n",
      "  sports news       0.96      0.97      0.96      2458\n",
      "   world news       0.91      0.88      0.89      2509\n",
      "business news       0.86      0.88      0.87      2496\n",
      "\n",
      "     accuracy                           0.90     10000\n",
      "    macro avg       0.90      0.90      0.90     10000\n",
      " weighted avg       0.90      0.90      0.90     10000\n",
      "\n"
     ]
    }
   ],
   "source": [
    "print(classification_report(test_ag.label_int,\n",
    "                            onevsrest.predict(test_ag.text),\n",
    "                            target_names=['science news', 'sports news', 'world news', 'business news']))"
   ]
  },
  {
   "cell_type": "markdown",
   "metadata": {},
   "source": [
    "The OneVSRestClassifier classification report shows, that for all four classifiers - science, sports, world and business - we receive high recall and precision scores. Also the accuracy metrics is 90%. Therefore, we can conclude, that the model is performing well and therefore can be used to gain knowledge about the class by inspecting the corresponding classifier. "
   ]
  },
  {
   "cell_type": "markdown",
   "metadata": {},
   "source": [
    "A possible downside of this approach is that it requires one model to be created for each class. For example, three classes requires three models. This could be an issue for large datasets (e.g. millions of rows), slow models (e.g. neural networks), or very large numbers of classes (e.g. hundreds of classes)."
   ]
  },
  {
   "cell_type": "markdown",
   "metadata": {},
   "source": [
    "# Optional 2: 7 Testing OneVSRest and SGD on News from today"
   ]
  },
  {
   "cell_type": "markdown",
   "metadata": {},
   "source": [
    "First we pull the data we created from The Guardian's sections Science, Sports, World, and Business."
   ]
  },
  {
   "cell_type": "code",
   "execution_count": 211,
   "metadata": {},
   "outputs": [
    {
     "name": "stdout",
     "output_type": "stream",
     "text": [
      "                                                 text     label  label_int  \\\n",
      "0   Chest-beating behaviour in male gorillas allow...   Science          0   \n",
      "1   The vaccine that Dolly Parton helped fund is n...   Science          0   \n",
      "2   Genetic sequencing dating back 45,000 years sh...   Science          0   \n",
      "3   Retail chain believes further restrictions are...  Business          3   \n",
      "4   Duke tells IMF and World Bank event that inves...  Business          3   \n",
      "5   Results have not yet been finalized, but worke...  Business          3   \n",
      "6   Nike sued MSCHF Product Studio for trademark i...  Business          3   \n",
      "7   A leading pulmonary expert has told the Derek ...     World          2   \n",
      "8   Two who led Xinjiang education department get ...     World          2   \n",
      "9   Coronavirus live: Merkel plans new German law ...     World          2   \n",
      "10  UK offers shelter to Myanmar ambassador who co...     World          2   \n",
      "11  In a heartening collision of the cultural sphe...    Sports          1   \n",
      "12  Euro 2020: Wales fans get Baku go-ahead as fou...    Sports          1   \n",
      "13  F1 close to agreement on trio of sprint qualif...    Sports          1   \n",
      "14  Judge rules that accuser of Texans� Deshaun Wa...    Sports          1   \n",
      "\n",
      "    science_int  sports_int  world_int  business_int  \n",
      "0             1           0          0             0  \n",
      "1             1           0          0             0  \n",
      "2             1           0          0             0  \n",
      "3             0           0          0             1  \n",
      "4             0           0          0             1  \n",
      "5             0           0          0             1  \n",
      "6             0           0          0             1  \n",
      "7             0           0          1             0  \n",
      "8             0           0          1             0  \n",
      "9             0           0          1             0  \n",
      "10            0           0          1             0  \n",
      "11            0           1          0             0  \n",
      "12            0           1          0             0  \n",
      "13            0           1          0             0  \n",
      "14            0           1          0             0  \n"
     ]
    }
   ],
   "source": [
    "more_news = pd.read_csv('/Users/marieheller/OneDrive - Universitat Ramón Llull/01_Courses/02_Term 2/Artificial Intelligence II/NLP/more_news.csv', sep=';')\n",
    "print(more_news)"
   ]
  },
  {
   "cell_type": "code",
   "execution_count": 212,
   "metadata": {},
   "outputs": [
    {
     "name": "stdout",
     "output_type": "stream",
     "text": [
      "               precision    recall  f1-score   support\n",
      "\n",
      " science news       0.50      0.67      0.57         3\n",
      "  sports news       1.00      0.75      0.86         4\n",
      "   world news       0.75      0.75      0.75         4\n",
      "business news       0.75      0.75      0.75         4\n",
      "\n",
      "     accuracy                           0.73        15\n",
      "    macro avg       0.75      0.73      0.73        15\n",
      " weighted avg       0.77      0.73      0.74        15\n",
      "\n"
     ]
    }
   ],
   "source": [
    "print(classification_report(more_news.label_int,\n",
    "                            onevsrest.predict(more_news.text),\n",
    "                            target_names=['science news', 'sports news', 'world news', 'business news']))"
   ]
  },
  {
   "cell_type": "markdown",
   "metadata": {},
   "source": [
    "The performance of the OneVSRest is actually quite weak compared to previous results. Therefore, we try the SGD to see whether we can obtain better results."
   ]
  },
  {
   "cell_type": "code",
   "execution_count": 213,
   "metadata": {},
   "outputs": [
    {
     "name": "stdout",
     "output_type": "stream",
     "text": [
      "BEST PARAMS: {'clf__alpha': 1e-06, 'vect__ngram_range': (1, 3)}\n",
      "               precision    recall  f1-score   support\n",
      "\n",
      " science news       0.50      0.67      0.57         3\n",
      "  sports news       1.00      0.75      0.86         4\n",
      "   world news       1.00      1.00      1.00         4\n",
      "business news       0.75      0.75      0.75         4\n",
      "\n",
      "     accuracy                           0.80        15\n",
      "    macro avg       0.81      0.79      0.79        15\n",
      " weighted avg       0.83      0.80      0.81        15\n",
      "\n"
     ]
    }
   ],
   "source": [
    "sgd_best_mc = sgd_grid.best_estimator_\n",
    "print('BEST PARAMS:', sgd_grid.best_params_)\n",
    "\n",
    "print(classification_report(more_news.label_int,\n",
    "                            sgd_best_mc.predict(more_news.text),\n",
    "                            target_names=['science news', 'sports news', 'world news', 'business news']))"
   ]
  },
  {
   "cell_type": "markdown",
   "metadata": {},
   "source": [
    "This performance is considerably better, and the success of sports and world identification should not surprise us. Language in sports change very little, and world history moves very slowly, allowing the model’s weights to be used with less issues than Business and Science, which moves at a faster pace, and their weights therefore are more quickly outdated!"
   ]
  }
 ],
 "metadata": {
  "kernelspec": {
   "display_name": "Python 3",
   "language": "python",
   "name": "python3"
  },
  "language_info": {
   "codemirror_mode": {
    "name": "ipython",
    "version": 3
   },
   "file_extension": ".py",
   "mimetype": "text/x-python",
   "name": "python",
   "nbconvert_exporter": "python",
   "pygments_lexer": "ipython3",
   "version": "3.9.0"
  }
 },
 "nbformat": 4,
 "nbformat_minor": 4
}
